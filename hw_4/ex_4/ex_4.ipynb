{
  "nbformat": 4,
  "nbformat_minor": 0,
  "metadata": {
    "colab": {
      "provenance": []
    },
    "kernelspec": {
      "name": "python3",
      "display_name": "Python 3"
    },
    "language_info": {
      "name": "python"
    },
    "gpuClass": "standard",
    "accelerator": "GPU"
  },
  "cells": [
    {
      "cell_type": "markdown",
      "source": [
        "## Preparation\n"
      ],
      "metadata": {
        "id": "sizHaJyREf6B"
      }
    },
    {
      "cell_type": "code",
      "execution_count": 1,
      "metadata": {
        "colab": {
          "base_uri": "https://localhost:8080/"
        },
        "id": "931JhdG2gzzE",
        "outputId": "d54627c3-ba6c-4e5a-c5d1-ad60cde5cff2"
      },
      "outputs": [
        {
          "output_type": "stream",
          "name": "stdout",
          "text": [
            "Mounted at /content/drive\n"
          ]
        }
      ],
      "source": [
        "from google.colab import drive\n",
        "drive.mount('/content/drive')"
      ]
    },
    {
      "cell_type": "code",
      "source": [
        "import os\n",
        "path = \"/content/drive/MyDrive/ColabNotebooks/DD2360/hw4_4\"\n",
        "os.chdir(path)\n",
        "!ls"
      ],
      "metadata": {
        "colab": {
          "base_uri": "https://localhost:8080/"
        },
        "id": "7nHGg9eSEjUa",
        "outputId": "a7af6599-6c0f-4729-cc5b-1f6198a03d65"
      },
      "execution_count": 2,
      "outputs": [
        {
          "output_type": "stream",
          "name": "stdout",
          "text": [
            "ex_4.cu\n"
          ]
        }
      ]
    },
    {
      "cell_type": "markdown",
      "source": [
        "## Compilation"
      ],
      "metadata": {
        "id": "FRNWSOwIL09c"
      }
    },
    {
      "cell_type": "code",
      "source": [
        "!nvcc ex_4.cu -lcusparse -lcublas -o ex_4"
      ],
      "metadata": {
        "id": "66Gj_n_vLz2L"
      },
      "execution_count": 14,
      "outputs": []
    },
    {
      "cell_type": "code",
      "source": [
        "!nvcc ex_4_4.cu -lcusparse -lcublas -o ex_4_4"
      ],
      "metadata": {
        "id": "M4ZbleIOHMv1"
      },
      "execution_count": 44,
      "outputs": []
    },
    {
      "cell_type": "markdown",
      "source": [
        "## Q1"
      ],
      "metadata": {
        "id": "-BvkZA7gNKA6"
      }
    },
    {
      "cell_type": "code",
      "source": [
        "!./ex_4 256 1"
      ],
      "metadata": {
        "colab": {
          "base_uri": "https://localhost:8080/"
        },
        "id": "LutvKm_HNODi",
        "outputId": "5f3190eb-a902-4ef1-8ba4-a689b197a63b"
      },
      "execution_count": 24,
      "outputs": [
        {
          "output_type": "stream",
          "name": "stdout",
          "text": [
            "The X dimension of the grid is 256 \n",
            "The number of time steps to perform is 1 \n",
            "Timing - Allocating device memory. \t\tElasped 173529 microseconds \n",
            "Timing - Prefetching GPU memory to the host. \t\tElasped 88 microseconds \n",
            "Timing - Initializing the sparse matrix on the host. \t\tElasped 5 microseconds \n",
            "Timing - Initializing memory on the host. \t\tElasped 30 microseconds \n",
            "Timing - Prefetching GPU memory to the device. \t\tElasped 303 microseconds \n",
            "Timing - Sparse matrix multiplication. \t\tElasped 40 microseconds \n",
            "The relative error of the approximation is 10.301116\n"
          ]
        }
      ]
    },
    {
      "cell_type": "code",
      "source": [
        "!./ex_4 512 1"
      ],
      "metadata": {
        "colab": {
          "base_uri": "https://localhost:8080/"
        },
        "id": "fLam56kL3Vrt",
        "outputId": "415ab066-a831-4f9d-9a9f-4f02e38900cf"
      },
      "execution_count": 25,
      "outputs": [
        {
          "output_type": "stream",
          "name": "stdout",
          "text": [
            "The X dimension of the grid is 512 \n",
            "The number of time steps to perform is 1 \n",
            "Timing - Allocating device memory. \t\tElasped 180080 microseconds \n",
            "Timing - Prefetching GPU memory to the host. \t\tElasped 94 microseconds \n",
            "Timing - Initializing the sparse matrix on the host. \t\tElasped 8 microseconds \n",
            "Timing - Initializing memory on the host. \t\tElasped 21 microseconds \n",
            "Timing - Prefetching GPU memory to the device. \t\tElasped 293 microseconds \n",
            "Timing - Sparse matrix multiplication. \t\tElasped 30 microseconds \n",
            "The relative error of the approximation is 14.616030\n"
          ]
        }
      ]
    },
    {
      "cell_type": "code",
      "source": [
        "!./ex_4 2048 1"
      ],
      "metadata": {
        "colab": {
          "base_uri": "https://localhost:8080/"
        },
        "id": "RwGJIlIS3Vzc",
        "outputId": "55b0575b-e67d-4569-81f4-af88658083e3"
      },
      "execution_count": 26,
      "outputs": [
        {
          "output_type": "stream",
          "name": "stdout",
          "text": [
            "The X dimension of the grid is 2048 \n",
            "The number of time steps to perform is 1 \n",
            "Timing - Allocating device memory. \t\tElasped 176226 microseconds \n",
            "Timing - Prefetching GPU memory to the host. \t\tElasped 109 microseconds \n",
            "Timing - Initializing the sparse matrix on the host. \t\tElasped 32 microseconds \n",
            "Timing - Initializing memory on the host. \t\tElasped 24 microseconds \n",
            "Timing - Prefetching GPU memory to the device. \t\tElasped 306 microseconds \n",
            "Timing - Sparse matrix multiplication. \t\tElasped 30 microseconds \n",
            "The relative error of the approximation is 29.303943\n"
          ]
        }
      ]
    },
    {
      "cell_type": "code",
      "source": [
        "!./ex_4 4096 1"
      ],
      "metadata": {
        "colab": {
          "base_uri": "https://localhost:8080/"
        },
        "id": "59UPpCzxCKUB",
        "outputId": "5220a481-9d01-4ed0-fb3a-159b1bf15c6d"
      },
      "execution_count": 27,
      "outputs": [
        {
          "output_type": "stream",
          "name": "stdout",
          "text": [
            "The X dimension of the grid is 4096 \n",
            "The number of time steps to perform is 1 \n",
            "Timing - Allocating device memory. \t\tElasped 183835 microseconds \n",
            "Timing - Prefetching GPU memory to the host. \t\tElasped 114 microseconds \n",
            "Timing - Initializing the sparse matrix on the host. \t\tElasped 58 microseconds \n",
            "Timing - Initializing memory on the host. \t\tElasped 47 microseconds \n",
            "Timing - Prefetching GPU memory to the device. \t\tElasped 339 microseconds \n",
            "Timing - Sparse matrix multiplication. \t\tElasped 35 microseconds \n",
            "The relative error of the approximation is 41.458954\n"
          ]
        }
      ]
    },
    {
      "cell_type": "code",
      "source": [
        "!./ex_4 10240 1"
      ],
      "metadata": {
        "colab": {
          "base_uri": "https://localhost:8080/"
        },
        "id": "j4K_v-mlCKZG",
        "outputId": "d959f7cc-48af-48e6-a4ef-278b11c43fd1"
      },
      "execution_count": 28,
      "outputs": [
        {
          "output_type": "stream",
          "name": "stdout",
          "text": [
            "The X dimension of the grid is 10240 \n",
            "The number of time steps to perform is 1 \n",
            "Timing - Allocating device memory. \t\tElasped 179023 microseconds \n",
            "Timing - Prefetching GPU memory to the host. \t\tElasped 156 microseconds \n",
            "Timing - Initializing the sparse matrix on the host. \t\tElasped 120 microseconds \n",
            "Timing - Initializing memory on the host. \t\tElasped 66 microseconds \n",
            "Timing - Prefetching GPU memory to the device. \t\tElasped 307 microseconds \n",
            "Timing - Sparse matrix multiplication. \t\tElasped 35 microseconds \n",
            "The relative error of the approximation is 65.568408\n"
          ]
        }
      ]
    },
    {
      "cell_type": "markdown",
      "source": [
        "## Q2"
      ],
      "metadata": {
        "id": "diCqZd1fElnv"
      }
    },
    {
      "cell_type": "code",
      "source": [
        "!bash ./run.sh | grep error > ex_4_2"
      ],
      "metadata": {
        "id": "9hb4bTyUEnho"
      },
      "execution_count": 32,
      "outputs": []
    },
    {
      "cell_type": "code",
      "source": [
        "!grep -o '[0-9]*\\.[0-9]\\+' ex_4_2 | tee ex_4_2new"
      ],
      "metadata": {
        "id": "NuEwFLPzE2tz"
      },
      "execution_count": null,
      "outputs": []
    },
    {
      "cell_type": "code",
      "source": [
        "import matplotlib.pyplot as plt\n",
        "with open(\"ex_4_2new.txt\", \"r\") as f: \n",
        "  lines = f.readlines()\n",
        "  data = [float(line.strip()) for line in lines]\n",
        "\n",
        "\n",
        "x = []\n",
        "for i in range(100, 10100, 100):\n",
        "  x.append(i)\n",
        "\n",
        "plt.plot(x, data)\n",
        "plt.xlabel('nsteps')\n",
        "plt.ylabel('error')\n",
        "\n",
        "plt.show()"
      ],
      "metadata": {
        "colab": {
          "base_uri": "https://localhost:8080/",
          "height": 279
        },
        "id": "oCr-cTNhFmTi",
        "outputId": "4d3ca414-c577-4fcc-acb2-ac20cd547701"
      },
      "execution_count": 41,
      "outputs": [
        {
          "output_type": "display_data",
          "data": {
            "text/plain": [
              "<Figure size 432x288 with 1 Axes>"
            ],
            "image/png": "[encoded data removed]"
          },
          "metadata": {
            "needs_background": "light"
          }
        }
      ]
    },
    {
      "cell_type": "markdown",
      "source": [
        "## Q3"
      ],
      "metadata": {
        "id": "mTr-8QlJHICO"
      }
    },
    {
      "cell_type": "code",
      "source": [
        "!nvprof ./ex_4 128 50"
      ],
      "metadata": {
        "colab": {
          "base_uri": "https://localhost:8080/"
        },
        "id": "RfpZwY_wHdCZ",
        "outputId": "7d0c23cc-2b9c-4451-eddc-0ff2f85c60a8"
      },
      "execution_count": 56,
      "outputs": [
        {
          "output_type": "stream",
          "name": "stdout",
          "text": [
            "The X dimension of the grid is 128 \n",
            "The number of time steps to perform is 50 \n",
            "==30283== NVPROF is profiling process 30283, command: ./ex_4 128 50\n",
            "Timing - Allocating device memory. \t\tElasped 320407 microseconds \n",
            "Timing - Prefetching GPU memory to the host. \t\tElasped 59 microseconds \n",
            "Timing - Initializing the sparse matrix on the host. \t\tElasped 3 microseconds \n",
            "Timing - Initializing memory on the host. \t\tElasped 1 microseconds \n",
            "Timing - Prefetching GPU memory to the device. \t\tElasped 200 microseconds \n",
            "Timing - Sparse matrix multiplication. \t\tElasped 52 microseconds \n",
            "Timing - Sparse matrix multiplication. \t\tElasped 15 microseconds \n",
            "Timing - Sparse matrix multiplication. \t\tElasped 13 microseconds \n",
            "Timing - Sparse matrix multiplication. \t\tElasped 14 microseconds \n",
            "Timing - Sparse matrix multiplication. \t\tElasped 13 microseconds \n",
            "Timing - Sparse matrix multiplication. \t\tElasped 13 microseconds \n",
            "Timing - Sparse matrix multiplication. \t\tElasped 12 microseconds \n",
            "Timing - Sparse matrix multiplication. \t\tElasped 13 microseconds \n",
            "Timing - Sparse matrix multiplication. \t\tElasped 12 microseconds \n",
            "Timing - Sparse matrix multiplication. \t\tElasped 15 microseconds \n",
            "Timing - Sparse matrix multiplication. \t\tElasped 12 microseconds \n",
            "Timing - Sparse matrix multiplication. \t\tElasped 11 microseconds \n",
            "Timing - Sparse matrix multiplication. \t\tElasped 15 microseconds \n",
            "Timing - Sparse matrix multiplication. \t\tElasped 12 microseconds \n",
            "Timing - Sparse matrix multiplication. \t\tElasped 11 microseconds \n",
            "Timing - Sparse matrix multiplication. \t\tElasped 13 microseconds \n",
            "Timing - Sparse matrix multiplication. \t\tElasped 11 microseconds \n",
            "Timing - Sparse matrix multiplication. \t\tElasped 12 microseconds \n",
            "Timing - Sparse matrix multiplication. \t\tElasped 11 microseconds \n",
            "Timing - Sparse matrix multiplication. \t\tElasped 18 microseconds \n",
            "Timing - Sparse matrix multiplication. \t\tElasped 40 microseconds \n",
            "Timing - Sparse matrix multiplication. \t\tElasped 14 microseconds \n",
            "Timing - Sparse matrix multiplication. \t\tElasped 12 microseconds \n",
            "Timing - Sparse matrix multiplication. \t\tElasped 11 microseconds \n",
            "Timing - Sparse matrix multiplication. \t\tElasped 12 microseconds \n",
            "Timing - Sparse matrix multiplication. \t\tElasped 13 microseconds \n",
            "Timing - Sparse matrix multiplication. \t\tElasped 27 microseconds \n",
            "Timing - Sparse matrix multiplication. \t\tElasped 12 microseconds \n",
            "Timing - Sparse matrix multiplication. \t\tElasped 13 microseconds \n",
            "Timing - Sparse matrix multiplication. \t\tElasped 13 microseconds \n",
            "Timing - Sparse matrix multiplication. \t\tElasped 12 microseconds \n",
            "Timing - Sparse matrix multiplication. \t\tElasped 14 microseconds \n",
            "Timing - Sparse matrix multiplication. \t\tElasped 20 microseconds \n",
            "Timing - Sparse matrix multiplication. \t\tElasped 13 microseconds \n",
            "Timing - Sparse matrix multiplication. \t\tElasped 11 microseconds \n",
            "Timing - Sparse matrix multiplication. \t\tElasped 13 microseconds \n",
            "Timing - Sparse matrix multiplication. \t\tElasped 15 microseconds \n",
            "Timing - Sparse matrix multiplication. \t\tElasped 13 microseconds \n",
            "Timing - Sparse matrix multiplication. \t\tElasped 15 microseconds \n",
            "Timing - Sparse matrix multiplication. \t\tElasped 14 microseconds \n",
            "Timing - Sparse matrix multiplication. \t\tElasped 13 microseconds \n",
            "Timing - Sparse matrix multiplication. \t\tElasped 13 microseconds \n",
            "Timing - Sparse matrix multiplication. \t\tElasped 36 microseconds \n",
            "Timing - Sparse matrix multiplication. \t\tElasped 19 microseconds \n",
            "Timing - Sparse matrix multiplication. \t\tElasped 12 microseconds \n",
            "Timing - Sparse matrix multiplication. \t\tElasped 12 microseconds \n",
            "Timing - Sparse matrix multiplication. \t\tElasped 16 microseconds \n",
            "Timing - Sparse matrix multiplication. \t\tElasped 12 microseconds \n",
            "Timing - Sparse matrix multiplication. \t\tElasped 11 microseconds \n",
            "Timing - Sparse matrix multiplication. \t\tElasped 36 microseconds \n",
            "The relative error of the approximation is 3.958913\n",
            "==30283== Profiling application: ./ex_4 128 50\n",
            "==30283== Profiling result:\n",
            "            Type  Time(%)      Time     Calls       Avg       Min       Max  Name\n",
            " GPU activities:   75.81%  4.9463ms       104  47.560us  43.967us  52.992us  void nrm2_kernel<double, double, double, int=0, int=0, int=128>(cublasNrm2Params<double, double>)\n",
            "                   12.45%  812.09us        50  16.241us  16.128us  16.736us  _ZN8cusparse21load_balancing_kernelILj512ELj4ELm16384EiiNS_7CsrmvOpILi512EdLb0EEEJKiKdS4_didEEEvPKT3_T2_S5_S5_iPKS8_T4_DpPT5_\n",
            "                    5.32%  347.14us        50  6.9420us  6.8480us  9.6960us  _ZN8cusparse30binary_search_partition_kernelILi128ELi2048EiiNS_6ScaleYINS_20MatrixWiseMulPolicy1ILb0EdEEidEEJdEEEvPKT2_T1_S5_iPS8_T3_DpPT4_\n",
            "                    3.82%  248.93us        51  4.8800us  4.7680us  5.1520us  void axpy_kernel_val<double, double>(cublasAxpyParamsVal<double, double, double>)\n",
            "                    1.34%  87.584us        52  1.6840us  1.6320us  2.2080us  [CUDA memcpy DtoH]\n",
            "                    1.20%  78.336us        52  1.5060us  1.4720us  2.2720us  [CUDA memcpy HtoD]\n",
            "                    0.07%  4.4480us         1  4.4480us  4.4480us  4.4480us  void thrust::cuda_cub::core::_kernel_agent<thrust::cuda_cub::__parallel_for::ParallelForAgent<thrust::cuda_cub::__tabulate::functor<thrust::device_ptr<double>, thrust::detail::functional::actor<thrust::detail::functional::composite<thrust::detail::functional::transparent_binary_operator<thrust::plus<void>>, thrust::detail::functional::value<double>, thrust::detail::functional::actor<thrust::detail::functional::composite<thrust::detail::functional::transparent_binary_operator<thrust::multiplies<void>>, thrust::detail::functional::value<double>, thrust::detail::functional::actor<thrust::detail::functional::argument<unsigned int=0>>, thrust::null_type, thrust::null_type, thrust::null_type, thrust::null_type, thrust::null_type, thrust::null_type, thrust::null_type, thrust::null_type>>, thrust::null_type, thrust::null_type, thrust::null_type, thrust::null_type, thrust::null_type, thrust::null_type, thrust::null_type, thrust::null_type>>, long>, long>, thrust::cuda_cub::__tabulate::functor<thrust::device_ptr<double>, thrust::detail::functional::actor<thrust::detail::functional::composite<thrust::detail::functional::transparent_binary_operator<thrust::plus<void>>, thrust::detail::functional::value<double>, thrust::detail::functional::actor<thrust::detail::functional::composite<thrust::detail::functional::transparent_binary_operator<thrust::multiplies<void>>, thrust::detail::functional::value<double>, thrust::detail::functional::actor<thrust::detail::functional::argument<unsigned int=0>>, thrust::null_type, thrust::null_type, thrust::null_type, thrust::null_type, thrust::null_type, thrust::null_type, thrust::null_type, thrust::null_type>>, thrust::null_type, thrust::null_type, thrust::null_type, thrust::null_type, thrust::null_type, thrust::null_type, thrust::null_type, thrust::null_type>>, long>, long>(thrust::device_ptr<double>, void)\n",
            "      API calls:   75.85%  1.04248s        12  86.873ms  4.1510us  435.18ms  cudaFree\n",
            "                   23.31%  320.40ms         5  64.080ms  4.0930us  320.36ms  cudaMallocManaged\n",
            "                    0.41%  5.6349ms       104  54.182us  5.6800us  122.03us  cudaMemcpyAsync\n",
            "                    0.14%  1.8810ms       256  7.3470us  4.3750us  29.607us  cudaLaunchKernel\n",
            "                    0.12%  1.6040ms         4  401.00us  352.09us  516.28us  cuDeviceTotalMem\n",
            "                    0.05%  688.64us       395  1.7430us     128ns  84.550us  cuDeviceGetAttribute\n",
            "                    0.03%  356.73us         4  89.181us  5.6740us  183.76us  cudaMalloc\n",
            "                    0.02%  247.58us         6  41.263us  2.4340us  188.38us  cudaMemPrefetchAsync\n",
            "                    0.02%  217.01us        53  4.0940us  3.1960us  11.339us  cudaFuncGetAttributes\n",
            "                    0.01%  192.35us         1  192.35us  192.35us  192.35us  cudaGetDeviceProperties\n",
            "                    0.01%  139.02us        53  2.6230us  1.8680us  15.369us  cudaStreamSynchronize\n",
            "                    0.01%  131.14us        52  2.5210us  2.0320us  5.7380us  cudaEventQuery\n",
            "                    0.01%  125.04us         4  31.260us  28.765us  35.211us  cuDeviceGetName\n",
            "                    0.01%  104.91us       321     326ns     135ns  1.3010us  cudaGetLastError\n",
            "                    0.01%  83.091us       156     532ns     302ns  1.7450us  cudaStreamGetCaptureInfo\n",
            "                    0.00%  58.608us        52  1.1270us     847ns  2.9640us  cudaEventRecord\n",
            "                    0.00%  54.849us        14  3.9170us     486ns  44.335us  cudaDeviceGetAttribute\n",
            "                    0.00%  25.917us        18  1.4390us     568ns  9.3030us  cudaEventCreateWithFlags\n",
            "                    0.00%  13.861us        18     770ns     329ns  2.6800us  cudaEventDestroy\n",
            "                    0.00%  13.470us         7  1.9240us     364ns  6.0490us  cudaGetDevice\n",
            "                    0.00%  12.156us         4  3.0390us     993ns  4.8630us  cudaDeviceSynchronize\n",
            "                    0.00%  7.8530us         3  2.6170us  1.9830us  2.9920us  cuInit\n",
            "                    0.00%  5.3670us         1  5.3670us  5.3670us  5.3670us  cuDeviceGetPCIBusId\n",
            "                    0.00%  2.4660us         6     411ns     208ns     853ns  cuDeviceGetCount\n",
            "                    0.00%  2.3780us         5     475ns     255ns  1.0050us  cuDeviceGet\n",
            "                    0.00%  1.6830us         3     561ns     493ns     646ns  cuDriverGetVersion\n",
            "                    0.00%  1.5260us         1  1.5260us  1.5260us  1.5260us  cudaGetSymbolAddress\n",
            "                    0.00%  1.1200us         4     280ns     211ns     318ns  cuDeviceGetUuid\n",
            "                    0.00%     456ns         2     228ns     155ns     301ns  cudaPeekAtLastError\n",
            "                    0.00%     300ns         1     300ns     300ns     300ns  cudaGetDeviceCount\n",
            "\n",
            "==30283== Unified Memory profiling result:\n",
            "Device \"Tesla T4 (0)\"\n",
            "   Count  Avg Size  Min Size  Max Size  Total Size  Total Time  Name\n",
            "       1  8.0000KB  8.0000KB  8.0000KB  8.000000KB  4.160000us  Host To Device\n"
          ]
        }
      ]
    },
    {
      "cell_type": "code",
      "source": [
        "!nvprof ./ex_4_4 128 50"
      ],
      "metadata": {
        "colab": {
          "base_uri": "https://localhost:8080/"
        },
        "id": "rsNLrXu4HJXh",
        "outputId": "ad63ec8b-fe20-41f9-a202-6e7a4f6f07c1"
      },
      "execution_count": 57,
      "outputs": [
        {
          "output_type": "stream",
          "name": "stdout",
          "text": [
            "The X dimension of the grid is 128 \n",
            "The number of time steps to perform is 50 \n",
            "==30362== NVPROF is profiling process 30362, command: ./ex_4_4 128 50\n",
            "Timing - Allocating device memory. \t\tElasped 316672 microseconds \n",
            "Timing - Prefetching GPU memory to the host. \t\tElasped 0 microseconds \n",
            "Timing - Initializing the sparse matrix on the host. \t\tElasped 71 microseconds \n",
            "Timing - Initializing memory on the host. \t\tElasped 0 microseconds \n",
            "Timing - Prefetching GPU memory to the device. \t\tElasped 0 microseconds \n",
            "The relative error of the approximation is 3.958913\n",
            "==30362== Profiling application: ./ex_4_4 128 50\n",
            "==30362== Profiling result:\n",
            "            Type  Time(%)      Time     Calls       Avg       Min       Max  Name\n",
            " GPU activities:   71.49%  4.9217ms       104  47.323us  43.871us  52.672us  void nrm2_kernel<double, double, double, int=0, int=0, int=128>(cublasNrm2Params<double, double>)\n",
            "                   11.75%  809.24us        50  16.184us  16.063us  16.896us  _ZN8cusparse21load_balancing_kernelILj512ELj4ELm16384EiiNS_7CsrmvOpILi512EdLb0EEEJKiKdS4_didEEEvPKT3_T2_S5_S5_iPKS8_T4_DpPT5_\n",
            "                   10.62%  731.39us        50  14.627us  6.8160us  395.39us  _ZN8cusparse30binary_search_partition_kernelILi128ELi2048EiiNS_6ScaleYINS_20MatrixWiseMulPolicy1ILb0EdEEidEEJdEEEvPKT2_T1_S5_iPS8_T3_DpPT4_\n",
            "                    3.63%  250.05us        51  4.9020us  4.8000us  5.5680us  void axpy_kernel_val<double, double>(cublasAxpyParamsVal<double, double, double>)\n",
            "                    1.28%  88.224us        52  1.6960us  1.6320us  2.4320us  [CUDA memcpy DtoH]\n",
            "                    1.16%  79.711us        52  1.5320us  1.4720us  2.1760us  [CUDA memcpy HtoD]\n",
            "                    0.07%  4.4800us         1  4.4800us  4.4800us  4.4800us  void thrust::cuda_cub::core::_kernel_agent<thrust::cuda_cub::__parallel_for::ParallelForAgent<thrust::cuda_cub::__tabulate::functor<thrust::device_ptr<double>, thrust::detail::functional::actor<thrust::detail::functional::composite<thrust::detail::functional::transparent_binary_operator<thrust::plus<void>>, thrust::detail::functional::value<double>, thrust::detail::functional::actor<thrust::detail::functional::composite<thrust::detail::functional::transparent_binary_operator<thrust::multiplies<void>>, thrust::detail::functional::value<double>, thrust::detail::functional::actor<thrust::detail::functional::argument<unsigned int=0>>, thrust::null_type, thrust::null_type, thrust::null_type, thrust::null_type, thrust::null_type, thrust::null_type, thrust::null_type, thrust::null_type>>, thrust::null_type, thrust::null_type, thrust::null_type, thrust::null_type, thrust::null_type, thrust::null_type, thrust::null_type, thrust::null_type>>, long>, long>, thrust::cuda_cub::__tabulate::functor<thrust::device_ptr<double>, thrust::detail::functional::actor<thrust::detail::functional::composite<thrust::detail::functional::transparent_binary_operator<thrust::plus<void>>, thrust::detail::functional::value<double>, thrust::detail::functional::actor<thrust::detail::functional::composite<thrust::detail::functional::transparent_binary_operator<thrust::multiplies<void>>, thrust::detail::functional::value<double>, thrust::detail::functional::actor<thrust::detail::functional::argument<unsigned int=0>>, thrust::null_type, thrust::null_type, thrust::null_type, thrust::null_type, thrust::null_type, thrust::null_type, thrust::null_type, thrust::null_type>>, thrust::null_type, thrust::null_type, thrust::null_type, thrust::null_type, thrust::null_type, thrust::null_type, thrust::null_type, thrust::null_type>>, long>, long>(thrust::device_ptr<double>, void)\n",
            "      API calls:   76.18%  1.04902s        12  87.418ms  4.2150us  455.48ms  cudaFree\n",
            "                   23.00%  316.66ms         5  63.333ms  3.9780us  316.63ms  cudaMallocManaged\n",
            "                    0.47%  6.4255ms       104  61.783us  3.2070us  385.33us  cudaMemcpyAsync\n",
            "                    0.12%  1.6033ms         4  400.83us  347.81us  504.43us  cuDeviceTotalMem\n",
            "                    0.10%  1.3190ms       256  5.1520us  3.6370us  34.664us  cudaLaunchKernel\n",
            "                    0.05%  752.93us       395  1.9060us     129ns  114.47us  cuDeviceGetAttribute\n",
            "                    0.02%  329.27us         4  82.317us  4.8880us  198.13us  cudaMalloc\n",
            "                    0.01%  164.87us         1  164.87us  164.87us  164.87us  cudaGetDeviceProperties\n",
            "                    0.01%  118.74us        53  2.2400us  1.9740us  4.9740us  cudaFuncGetAttributes\n",
            "                    0.01%  118.07us         4  29.517us  19.902us  40.729us  cuDeviceGetName\n",
            "                    0.01%  107.65us        53  2.0310us  1.6190us  11.592us  cudaStreamSynchronize\n",
            "                    0.01%  89.681us        52  1.7240us  1.4230us  5.2910us  cudaEventQuery\n",
            "                    0.00%  67.533us       321     210ns     136ns  1.2670us  cudaGetLastError\n",
            "                    0.00%  60.770us       156     389ns     314ns  1.4500us  cudaStreamGetCaptureInfo\n",
            "                    0.00%  44.063us         7  6.2940us     307ns  31.453us  cudaGetDevice\n",
            "                    0.00%  42.780us        52     822ns     705ns  2.4800us  cudaEventRecord\n",
            "                    0.00%  26.517us        14  1.8940us     336ns  19.616us  cudaDeviceGetAttribute\n",
            "                    0.00%  20.437us        18  1.1350us     425ns  8.5640us  cudaEventCreateWithFlags\n",
            "                    0.00%  11.468us        18     637ns     353ns  2.0120us  cudaEventDestroy\n",
            "                    0.00%  10.619us         4  2.6540us     992ns  4.7910us  cudaDeviceSynchronize\n",
            "                    0.00%  6.9530us         3  2.3170us  1.6620us  2.6720us  cuInit\n",
            "                    0.00%  5.7410us         1  5.7410us  5.7410us  5.7410us  cuDeviceGetPCIBusId\n",
            "                    0.00%  3.1350us         6     522ns     210ns  1.2580us  cuDeviceGetCount\n",
            "                    0.00%  2.6060us         5     521ns     237ns  1.1080us  cuDeviceGet\n",
            "                    0.00%  1.8180us         3     606ns     344ns     812ns  cuDriverGetVersion\n",
            "                    0.00%  1.3830us         1  1.3830us  1.3830us  1.3830us  cudaGetSymbolAddress\n",
            "                    0.00%  1.0940us         4     273ns     240ns     292ns  cuDeviceGetUuid\n",
            "                    0.00%     413ns         2     206ns     136ns     277ns  cudaPeekAtLastError\n",
            "                    0.00%     381ns         1     381ns     381ns     381ns  cudaGetDeviceCount\n",
            "\n",
            "==30362== Unified Memory profiling result:\n",
            "Device \"Tesla T4 (0)\"\n",
            "   Count  Avg Size  Min Size  Max Size  Total Size  Total Time  Name\n",
            "       3  21.333KB  4.0000KB  56.000KB  64.00000KB  14.01500us  Host To Device\n",
            "       1         -         -         -           -  385.8530us  Gpu page fault groups\n",
            "Total CPU Page faults: 1\n"
          ]
        }
      ]
    }
  ]
}