{
  "nbformat": 4,
  "nbformat_minor": 0,
  "metadata": {
    "colab": {
      "provenance": []
    },
    "kernelspec": {
      "name": "python3",
      "display_name": "Python 3"
    },
    "language_info": {
      "name": "python"
    },
    "gpuClass": "standard",
    "accelerator": "GPU"
  },
  "cells": [
    {
      "cell_type": "markdown",
      "source": [
        "## Preparation\n"
      ],
      "metadata": {
        "id": "ifTZ2Bp1XcJV"
      }
    },
    {
      "cell_type": "code",
      "execution_count": 50,
      "metadata": {
        "colab": {
          "base_uri": "https://localhost:8080/"
        },
        "id": "lUdIz1R6XVcz",
        "outputId": "2b7b9499-005f-4d7a-f18e-092e1e30fc46"
      },
      "outputs": [
        {
          "output_type": "stream",
          "name": "stdout",
          "text": [
            "Drive already mounted at /content/drive; to attempt to forcibly remount, call drive.mount(\"/content/drive\", force_remount=True).\n"
          ]
        }
      ],
      "source": [
        "from google.colab import drive\n",
        "drive.mount('/content/drive')"
      ]
    },
    {
      "cell_type": "code",
      "source": [
        "import os\n",
        "path = \"/content/drive/MyDrive/ColabNotebooks/DD2360/hw4\"\n",
        "os.chdir(path)\n",
        "!ls"
      ],
      "metadata": {
        "colab": {
          "base_uri": "https://localhost:8080/"
        },
        "id": "0SLKL9RxXhlh",
        "outputId": "5a047c71-6b90-49d0-d6d4-c1bd7f0a8cfa"
      },
      "execution_count": 47,
      "outputs": [
        {
          "output_type": "stream",
          "name": "stdout",
          "text": [
            "a.out\t\t       ex_2_streamed\t      ex_2_streamed.cu\n",
            "ex_2\t\t       ex_2_streamed16.nvvp   ex_2_streamed.nvvp\n",
            "ex_2_nonstreamed       ex_2_streamed1.nvvp    stream_per-thread\n",
            "ex_2_nonstreamed.cu    ex_2_streamed256.nvvp\n",
            "ex_2_nonstreamed.nvvp  ex_2_streamed4.nvvp\n"
          ]
        }
      ]
    },
    {
      "cell_type": "markdown",
      "source": [
        "## Compilation\n"
      ],
      "metadata": {
        "id": "jMN875nVXtYu"
      }
    },
    {
      "cell_type": "code",
      "source": [
        "!nvcc -arch=sm_75 ex_2_nonstreamed.cu -o ex_2_nonstreamed"
      ],
      "metadata": {
        "id": "_3myrOwzHokT"
      },
      "execution_count": 93,
      "outputs": []
    },
    {
      "cell_type": "code",
      "source": [
        "!nvcc -arch=sm_75 ex_2_streamed.cu -o ex_2_streamed"
      ],
      "metadata": {
        "id": "VLy-tY1WQ1Fk"
      },
      "execution_count": 96,
      "outputs": []
    },
    {
      "cell_type": "markdown",
      "source": [
        "## Q1"
      ],
      "metadata": {
        "id": "6Xg9WXVvKeZb"
      }
    },
    {
      "cell_type": "code",
      "source": [
        "!bash ./run.sh | grep Time > ex_2_1"
      ],
      "metadata": {
        "id": "zP8zEEVbEblE"
      },
      "execution_count": 97,
      "outputs": []
    },
    {
      "cell_type": "code",
      "source": [
        "!grep -o '[0-9]*\\.[0-9]\\+' ex_2_1 | tee ex_2_1new"
      ],
      "metadata": {
        "id": "uZCGoI3PFR1k"
      },
      "execution_count": null,
      "outputs": []
    },
    {
      "cell_type": "code",
      "source": [
        "import matplotlib.pyplot as plt\n",
        "with open(\"ex_2_1new.txt\", \"r\") as f: \n",
        "  lines = f.readlines()\n",
        "  data = [float(line.strip()) for line in lines]\n",
        "\n",
        "gain = []\n",
        "for i in range(0,30):\n",
        "  gain.append(data[i] / data[i + 31])\n",
        "#print(gain)\n",
        "\n",
        "x = []\n",
        "for i in range(102400, 409600, 10240):\n",
        "  x.append(i)\n",
        "\n",
        "plt.plot(x, gain)\n",
        "plt.xlabel('Vector Length')\n",
        "plt.ylabel('Gain')\n",
        "\n",
        "plt.show()"
      ],
      "metadata": {
        "colab": {
          "base_uri": "https://localhost:8080/",
          "height": 279
        },
        "id": "Cqv74tNrNejj",
        "outputId": "716f84c0-4315-4a86-dff6-34acef5e22e6"
      },
      "execution_count": 119,
      "outputs": [
        {
          "output_type": "display_data",
          "data": {
            "text/plain": [
              "<Figure size 432x288 with 1 Axes>"
            ],
            "image/png": "[encoded data removed]"
          },
          "metadata": {
            "needs_background": "light"
          }
        }
      ]
    },
    {
      "cell_type": "markdown",
      "source": [
        "## Q2"
      ],
      "metadata": {
        "id": "lGVbY2P4Kkpm"
      }
    },
    {
      "cell_type": "code",
      "source": [
        "!/usr/local/cuda-11/bin/nvprof --profile-from-start off --output-profile ex_2_streamed4b.nvvp -f ./ex_2_streamed 204800 4"
      ],
      "metadata": {
        "colab": {
          "base_uri": "https://localhost:8080/"
        },
        "id": "qKsMLlKpjQ17",
        "outputId": "d269df73-f7ab-4f91-f9df-2267406fee27"
      },
      "execution_count": 120,
      "outputs": [
        {
          "output_type": "stream",
          "name": "stdout",
          "text": [
            "The input length is 204800\n",
            "The number of streams is 4\n",
            "==98501== NVPROF is profiling process 98501, command: ./ex_2_streamed 204800 4\n",
            "Time2: 2.015261\n",
            "==98501== Generated result file: /content/drive/MyDrive/ColabNotebooks/DD2360/hw4/ex_2_streamed4b.nvvp\n"
          ]
        }
      ]
    },
    {
      "cell_type": "markdown",
      "source": [
        "## Q3"
      ],
      "metadata": {
        "id": "PoSZE0h7bbRn"
      }
    },
    {
      "cell_type": "code",
      "source": [
        "!bash ./run3.sh | grep Time > ex_2_3"
      ],
      "metadata": {
        "id": "V0MfkNB-bacy"
      },
      "execution_count": 121,
      "outputs": []
    },
    {
      "cell_type": "code",
      "source": [
        "!grep -o '[0-9]*\\.[0-9]\\+' ex_2_3 | tee ex_2_3new"
      ],
      "metadata": {
        "id": "175QEK23cbGm"
      },
      "execution_count": null,
      "outputs": []
    },
    {
      "cell_type": "code",
      "source": [
        "import matplotlib.pyplot as plt\n",
        "with open(\"ex_2_3new.txt\", \"r\") as f: \n",
        "  lines = f.readlines()\n",
        "  data = [float(line.strip()) for line in lines]\n",
        "\n",
        "x = []\n",
        "y = []\n",
        "for i in range(0,7):\n",
        "  x.append(204800/(4+2*i))\n",
        "  y.append(data[i])\n",
        "\n",
        "plt.plot(x, y)\n",
        "plt.xlabel('Segment Size')\n",
        "plt.ylabel('Time')\n",
        "\n",
        "plt.show()"
      ],
      "metadata": {
        "colab": {
          "base_uri": "https://localhost:8080/",
          "height": 279
        },
        "id": "zsBjhh75cmww",
        "outputId": "c0abcb6c-06a7-484f-8bd5-8da7a8fb9e7c"
      },
      "execution_count": 127,
      "outputs": [
        {
          "output_type": "display_data",
          "data": {
            "text/plain": [
              "<Figure size 432x288 with 1 Axes>"
            ],
            "image/png": "[encoded data removed]"
          },
          "metadata": {
            "needs_background": "light"
          }
        }
      ]
    }
  ]
}