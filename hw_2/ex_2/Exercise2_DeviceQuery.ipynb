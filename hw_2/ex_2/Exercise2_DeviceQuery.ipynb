{
  "nbformat": 4,
  "nbformat_minor": 0,
  "metadata": {
    "colab": {
      "provenance": []
    },
    "kernelspec": {
      "name": "python3",
      "display_name": "Python 3"
    },
    "language_info": {
      "name": "python"
    },
    "accelerator": "GPU",
    "gpuClass": "standard"
  },
  "cells": [
    {
      "cell_type": "code",
      "execution_count": 9,
      "metadata": {
        "colab": {
          "base_uri": "https://localhost:8080/"
        },
        "id": "SMdG37aa3kmy",
        "outputId": "b497c578-8a2e-4c80-9b7a-39ac25cfd031"
      },
      "outputs": [
        {
          "output_type": "stream",
          "name": "stdout",
          "text": [
            "/usr/local/cuda-11/samples/EULA.txt  /usr/local/cuda-11/samples/Makefile\n",
            "\n",
            "/usr/local/cuda-11/samples/0_Simple:\n",
            "asyncAPI\t\t      simpleCudaGraphs\n",
            "bf16TensorCoreGemm\t      simpleDrvRuntime\n",
            "binaryPartitionCG\t      simpleIPC\n",
            "cdpSimplePrint\t\t      simpleLayeredTexture\n",
            "cdpSimpleQuicksort\t      simpleMPI\n",
            "clock\t\t\t      simpleMultiCopy\n",
            "clock_nvrtc\t\t      simpleMultiGPU\n",
            "cppIntegration\t\t      simpleOccupancy\n",
            "cppOverload\t\t      simpleP2P\n",
            "cudaNvSci\t\t      simplePitchLinearTexture\n",
            "cudaOpenMP\t\t      simplePrintf\n",
            "cudaTensorCoreGemm\t      simpleSeparateCompilation\n",
            "dmmaTensorCoreGemm\t      simpleStreams\n",
            "fp16ScalarProduct\t      simpleSurfaceWrite\n",
            "globalToShmemAsyncCopy\t      simpleTemplates\n",
            "immaTensorCoreGemm\t      simpleTemplates_nvrtc\n",
            "inlinePTX\t\t      simpleTexture\n",
            "inlinePTX_nvrtc\t\t      simpleTextureDrv\n",
            "matrixMul\t\t      simpleVoteIntrinsics\n",
            "matrixMulCUBLAS\t\t      simpleVoteIntrinsics_nvrtc\n",
            "matrixMulDrv\t\t      simpleZeroCopy\n",
            "matrixMul_nvrtc\t\t      streamOrderedAllocation\n",
            "memMapIPCDrv\t\t      streamOrderedAllocationP2P\n",
            "simpleAssert\t\t      systemWideAtomics\n",
            "simpleAssert_nvrtc\t      template\n",
            "simpleAtomicIntrinsics\t      tf32TensorCoreGemm\n",
            "simpleAtomicIntrinsics_nvrtc  UnifiedMemoryStreams\n",
            "simpleAttributes\t      vectorAdd\n",
            "simpleAWBarrier\t\t      vectorAddDrv\n",
            "simpleCallback\t\t      vectorAddMMAP\n",
            "simpleCooperativeGroups       vectorAdd_nvrtc\n",
            "simpleCubemapTexture\n",
            "\n",
            "/usr/local/cuda-11/samples/1_Utilities:\n",
            "bandwidthTest  deviceQueryDrv\t\ttopologyQuery\n",
            "deviceQuery    p2pBandwidthLatencyTest\tUnifiedMemoryPerf\n",
            "\n",
            "/usr/local/cuda-11/samples/2_Graphics:\n",
            "bindlessTexture  simpleGL\t       simpleGLES_screen  simpleVulkanMMAP\n",
            "Mandelbrot\t simpleGLES\t       simpleTexture3D\t  volumeFiltering\n",
            "marchingCubes\t simpleGLES_EGLOutput  simpleVulkan\t  volumeRender\n",
            "\n",
            "/usr/local/cuda-11/samples/3_Imaging:\n",
            "bicubicTexture\t      dxtc\t\t\t postProcessGL\n",
            "bilateralFilter       EGLStream_CUDA_CrossGPU\t recursiveGaussian\n",
            "boxFilter\t      EGLStreams_CUDA_Interop\t simpleCUDA2GL\n",
            "convolutionFFT2D      EGLSync_CUDAEvent_Interop  SobelFilter\n",
            "convolutionSeparable  histogram\t\t\t stereoDisparity\n",
            "convolutionTexture    HSOpticalFlow\t\t vulkanImageCUDA\n",
            "dct8x8\t\t      imageDenoising\n",
            "dwtHaar1D\t      NV12toBGRandResize\n",
            "\n",
            "/usr/local/cuda-11/samples/4_Finance:\n",
            "binomialOptions        BlackScholes_nvrtc    quasirandomGenerator_nvrtc\n",
            "binomialOptions_nvrtc  MonteCarloMultiGPU    SobolQRNG\n",
            "BlackScholes\t       quasirandomGenerator\n",
            "\n",
            "/usr/local/cuda-11/samples/5_Simulations:\n",
            "fluidsGL    nbody\t    nbody_screen  particles\n",
            "fluidsGLES  nbody_opengles  oceanFFT\t  smokeParticles\n",
            "\n",
            "/usr/local/cuda-11/samples/6_Advanced:\n",
            "alignedTypes\t\t\tFunctionPointers       scan\n",
            "c++11_cuda\t\t\tinterval\t       segmentationTreeThrust\n",
            "cdpAdvancedQuicksort\t\tjacobiCudaGraphs       shfl_scan\n",
            "cdpBezierTessellation\t\tlineOfSight\t       simpleHyperQ\n",
            "cdpQuadtree\t\t\tmatrixMulDynlinkJIT    sortingNetworks\n",
            "concurrentKernels\t\tmergeSort\t       StreamPriorities\n",
            "conjugateGradientMultiBlockCG\tnewdelete\t       threadFenceReduction\n",
            "conjugateGradientMultiDeviceCG\tptxjit\t\t       threadMigration\n",
            "cudaCompressibleMemory\t\tradixSortThrust        transpose\n",
            "eigenvalues\t\t\treduction\t       warpAggregatedAtomicsCG\n",
            "fastWalshTransform\t\treductionMultiBlockCG\n",
            "FDTD3d\t\t\t\tscalarProd\n",
            "\n",
            "/usr/local/cuda-11/samples/7_CUDALibraries:\n",
            "batchCUBLAS\t\t\t\t   histEqualizationNPP\n",
            "batchedLabelMarkersAndLabelCompressionNPP  MC_EstimatePiInlineP\n",
            "boundSegmentsNPP\t\t\t   MC_EstimatePiInlineQ\n",
            "boxFilterNPP\t\t\t\t   MC_EstimatePiP\n",
            "cannyEdgeDetectorNPP\t\t\t   MC_EstimatePiQ\n",
            "common\t\t\t\t\t   MC_SingleAsianOptionP\n",
            "conjugateGradient\t\t\t   MersenneTwisterGP11213\n",
            "conjugateGradientCudaGraphs\t\t   nvJPEG\n",
            "conjugateGradientPrecond\t\t   nvJPEG_encoder\n",
            "conjugateGradientUM\t\t\t   randomFog\n",
            "cuHook\t\t\t\t\t   simpleCUBLAS\n",
            "cuSolverDn_LinearSolver\t\t\t   simpleCUBLASXT\n",
            "cuSolverRf\t\t\t\t   simpleCUFFT\n",
            "cuSolverSp_LinearSolver\t\t\t   simpleCUFFT_2d_MGPU\n",
            "cuSolverSp_LowlevelCholesky\t\t   simpleCUFFT_callback\n",
            "cuSolverSp_LowlevelQR\t\t\t   simpleCUFFT_MGPU\n",
            "FilterBorderControlNPP\t\t\t   watershedSegmentationNPP\n",
            "freeImageInteropNPP\n",
            "\n",
            "/usr/local/cuda-11/samples/common:\n",
            "data  findgllib.mk  inc  lib  src\n"
          ]
        }
      ],
      "source": [
        "!ls /usr/local/cuda-11/samples/*"
      ]
    },
    {
      "cell_type": "code",
      "source": [
        "!cp -rf /usr/local/cuda-11/samples/1_Utilities/deviceQuery ./deviceQuery"
      ],
      "metadata": {
        "id": "hUbypzRq4-ES"
      },
      "execution_count": 4,
      "outputs": []
    },
    {
      "cell_type": "code",
      "source": [
        "!ls deviceQuery\n",
        "!nvcc -I/usr/local/cuda-11/samples/common/inc deviceQuery/deviceQuery.cpp -o deviceQuery/deviceQuery_exe"
      ],
      "metadata": {
        "colab": {
          "base_uri": "https://localhost:8080/"
        },
        "id": "Vjoq0s194vKB",
        "outputId": "3aad284f-f904-41a7-9de8-9a273f1146b4"
      },
      "execution_count": 5,
      "outputs": [
        {
          "output_type": "stream",
          "name": "stdout",
          "text": [
            "deviceQuery.cpp  Makefile  NsightEclipse.xml  readme.txt\n"
          ]
        }
      ]
    },
    {
      "cell_type": "code",
      "source": [
        "!ls ./deviceQuery"
      ],
      "metadata": {
        "colab": {
          "base_uri": "https://localhost:8080/"
        },
        "id": "Ld0FFEl57nfE",
        "outputId": "52fa8daa-f2c0-49e8-877c-89823f5790e5"
      },
      "execution_count": 6,
      "outputs": [
        {
          "output_type": "stream",
          "name": "stdout",
          "text": [
            "deviceQuery.cpp  deviceQuery_exe  Makefile  NsightEclipse.xml  readme.txt\n"
          ]
        }
      ]
    },
    {
      "cell_type": "code",
      "source": [
        "!./deviceQuery/deviceQuery_exe"
      ],
      "metadata": {
        "colab": {
          "base_uri": "https://localhost:8080/"
        },
        "id": "NBiKqn057y-e",
        "outputId": "2c856dd9-ce15-4cd8-979c-24aa2a5ebd32"
      },
      "execution_count": 7,
      "outputs": [
        {
          "output_type": "stream",
          "name": "stdout",
          "text": [
            "./deviceQuery/deviceQuery_exe Starting...\n",
            "\n",
            " CUDA Device Query (Runtime API) version (CUDART static linking)\n",
            "\n",
            "Detected 1 CUDA Capable device(s)\n",
            "\n",
            "Device 0: \"Tesla T4\"\n",
            "  CUDA Driver Version / Runtime Version          11.2 / 11.2\n",
            "  CUDA Capability Major/Minor version number:    7.5\n",
            "  Total amount of global memory:                 15110 MBytes (15843721216 bytes)\n",
            "  (40) Multiprocessors, ( 64) CUDA Cores/MP:     2560 CUDA Cores\n",
            "  GPU Max Clock rate:                            1590 MHz (1.59 GHz)\n",
            "  Memory Clock rate:                             5001 Mhz\n",
            "  Memory Bus Width:                              256-bit\n",
            "  L2 Cache Size:                                 4194304 bytes\n",
            "  Maximum Texture Dimension Size (x,y,z)         1D=(131072), 2D=(131072, 65536), 3D=(16384, 16384, 16384)\n",
            "  Maximum Layered 1D Texture Size, (num) layers  1D=(32768), 2048 layers\n",
            "  Maximum Layered 2D Texture Size, (num) layers  2D=(32768, 32768), 2048 layers\n",
            "  Total amount of constant memory:               65536 bytes\n",
            "  Total amount of shared memory per block:       49152 bytes\n",
            "  Total shared memory per multiprocessor:        65536 bytes\n",
            "  Total number of registers available per block: 65536\n",
            "  Warp size:                                     32\n",
            "  Maximum number of threads per multiprocessor:  1024\n",
            "  Maximum number of threads per block:           1024\n",
            "  Max dimension size of a thread block (x,y,z): (1024, 1024, 64)\n",
            "  Max dimension size of a grid size    (x,y,z): (2147483647, 65535, 65535)\n",
            "  Maximum memory pitch:                          2147483647 bytes\n",
            "  Texture alignment:                             512 bytes\n",
            "  Concurrent copy and kernel execution:          Yes with 3 copy engine(s)\n",
            "  Run time limit on kernels:                     No\n",
            "  Integrated GPU sharing Host Memory:            No\n",
            "  Support host page-locked memory mapping:       Yes\n",
            "  Alignment requirement for Surfaces:            Yes\n",
            "  Device has ECC support:                        Enabled\n",
            "  Device supports Unified Addressing (UVA):      Yes\n",
            "  Device supports Managed Memory:                Yes\n",
            "  Device supports Compute Preemption:            Yes\n",
            "  Supports Cooperative Kernel Launch:            Yes\n",
            "  Supports MultiDevice Co-op Kernel Launch:      Yes\n",
            "  Device PCI Domain ID / Bus ID / location ID:   0 / 0 / 4\n",
            "  Compute Mode:\n",
            "     < Default (multiple host threads can use ::cudaSetDevice() with device simultaneously) >\n",
            "\n",
            "deviceQuery, CUDA Driver = CUDART, CUDA Driver Version = 11.2, CUDA Runtime Version = 11.2, NumDevs = 1\n",
            "Result = PASS\n"
          ]
        }
      ]
    }
  ]
}