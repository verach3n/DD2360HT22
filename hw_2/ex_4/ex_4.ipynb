{
  "nbformat": 4,
  "nbformat_minor": 0,
  "metadata": {
    "colab": {
      "provenance": [],
      "authorship_tag": "ABX9TyNro3LYR8cnEmHmlPRUwGcG",
      "include_colab_link": true
    },
    "kernelspec": {
      "name": "python3",
      "display_name": "Python 3"
    },
    "language_info": {
      "name": "python"
    },
    "accelerator": "GPU",
    "gpuClass": "standard"
  },
  "cells": [
    {
      "cell_type": "markdown",
      "metadata": {
        "id": "view-in-github",
        "colab_type": "text"
      },
      "source": [
        "<a href=\"https://colab.research.google.com/github/verach3n/DD2360HT22/blob/main/ex_4.ipynb\" target=\"_parent\"><img src=\"https://colab.research.google.com/assets/colab-badge.svg\" alt=\"Open In Colab\"/></a>"
      ]
    },
    {
      "cell_type": "code",
      "source": [
        "!nvcc --version\n",
        "!nvidia-smi"
      ],
      "metadata": {
        "colab": {
          "base_uri": "https://localhost:8080/"
        },
        "id": "F6-fgi7EVZoU",
        "outputId": "99a9e5a6-25db-4f60-fdfe-43296628475d"
      },
      "execution_count": 6,
      "outputs": [
        {
          "output_type": "stream",
          "name": "stdout",
          "text": [
            "nvcc: NVIDIA (R) Cuda compiler driver\n",
            "Copyright (c) 2005-2021 NVIDIA Corporation\n",
            "Built on Sun_Feb_14_21:12:58_PST_2021\n",
            "Cuda compilation tools, release 11.2, V11.2.152\n",
            "Build cuda_11.2.r11.2/compiler.29618528_0\n",
            "Wed Nov 30 14:08:51 2022       \n",
            "+-----------------------------------------------------------------------------+\n",
            "| NVIDIA-SMI 460.32.03    Driver Version: 460.32.03    CUDA Version: 11.2     |\n",
            "|-------------------------------+----------------------+----------------------+\n",
            "| GPU  Name        Persistence-M| Bus-Id        Disp.A | Volatile Uncorr. ECC |\n",
            "| Fan  Temp  Perf  Pwr:Usage/Cap|         Memory-Usage | GPU-Util  Compute M. |\n",
            "|                               |                      |               MIG M. |\n",
            "|===============================+======================+======================|\n",
            "|   0  Tesla T4            Off  | 00000000:00:04.0 Off |                    0 |\n",
            "| N/A   45C    P8     9W /  70W |      0MiB / 15109MiB |      0%      Default |\n",
            "|                               |                      |                  N/A |\n",
            "+-------------------------------+----------------------+----------------------+\n",
            "                                                                               \n",
            "+-----------------------------------------------------------------------------+\n",
            "| Processes:                                                                  |\n",
            "|  GPU   GI   CI        PID   Type   Process name                  GPU Memory |\n",
            "|        ID   ID                                                   Usage      |\n",
            "|=============================================================================|\n",
            "|  No running processes found                                                 |\n",
            "+-----------------------------------------------------------------------------+\n"
          ]
        }
      ]
    },
    {
      "cell_type": "code",
      "source": [
        "from google.colab import drive\n",
        "drive.mount('/content/drive')"
      ],
      "metadata": {
        "colab": {
          "base_uri": "https://localhost:8080/"
        },
        "id": "FkkS_U--dNlK",
        "outputId": "7a9296a9-9ad4-48e3-873f-aaf95ddda628"
      },
      "execution_count": 1,
      "outputs": [
        {
          "output_type": "stream",
          "name": "stdout",
          "text": [
            "Mounted at /content/drive\n"
          ]
        }
      ]
    },
    {
      "cell_type": "markdown",
      "source": [
        "# **1. Benchmark: LU Decomposition**\n",
        "## 1) lud_cuda\n",
        "Changes in makefile(./lud/cuda/Makefile):\n",
        "\n",
        "Tesla T4 has the Turing architecture, so line 11 should be `-arch=sm_75 \\`    https://arnon.dk/matching-sm-architectures-arch-and-gencode-for-various-nvidia-cards/"
      ],
      "metadata": {
        "id": "yNU4h0i9d6zh"
      }
    },
    {
      "cell_type": "code",
      "source": [
        "%cd '/content/drive/MyDrive/Colab Notebooks/DD2360/rodinia_3.1/cuda/lud'\n",
        "!ls"
      ],
      "metadata": {
        "colab": {
          "base_uri": "https://localhost:8080/"
        },
        "id": "UrnJWUBvZX28",
        "outputId": "b361033b-4a34-47da-d9fd-cc22dd07184f"
      },
      "execution_count": 29,
      "outputs": [
        {
          "output_type": "stream",
          "name": "stdout",
          "text": [
            "/content/drive/MyDrive/Colab Notebooks/DD2360/rodinia_3.1/cuda/lud\n",
            "base  common  cuda  Makefile  README  run  tools\n"
          ]
        }
      ]
    },
    {
      "cell_type": "code",
      "source": [
        "!make clean\n",
        "!make KERNEL_DIM=\"-DRD_WG_SIZE_0=64\""
      ],
      "metadata": {
        "colab": {
          "base_uri": "https://localhost:8080/"
        },
        "id": "9ep2c-fH2uTv",
        "outputId": "c55b2ab2-160d-4f79-f935-21540a13341d"
      },
      "execution_count": 30,
      "outputs": [
        {
          "output_type": "stream",
          "name": "stdout",
          "text": [
            "cd cuda; make clean\n",
            "make[1]: Entering directory '/content/drive/MyDrive/Colab Notebooks/DD2360/rodinia_3.1/cuda/lud/cuda'\n",
            "rm -f lud_cuda ../common/common.o lud.o lud_kernel.o *.linkinfo\n",
            "make[1]: Leaving directory '/content/drive/MyDrive/Colab Notebooks/DD2360/rodinia_3.1/cuda/lud/cuda'\n",
            "cd cuda; make\n",
            "make[1]: Entering directory '/content/drive/MyDrive/Colab Notebooks/DD2360/rodinia_3.1/cuda/lud/cuda'\n",
            "nvcc -DRD_WG_SIZE_0=64 -I../common -O3 -use_fast_math -arch=sm_75 -lm  -DGPU_TIMER  -o ../common/common.o -c ../common/common.c\n",
            "\u001b[01m\u001b[K../common/common.c:\u001b[m\u001b[K In function ‘\u001b[01m\u001b[Kcreate_matrix_from_file\u001b[m\u001b[K’:\n",
            "\u001b[01m\u001b[K../common/common.c:51:3:\u001b[m\u001b[K \u001b[01;35m\u001b[Kwarning: \u001b[m\u001b[Kignoring return value of ‘\u001b[01m\u001b[Kfscanf\u001b[m\u001b[K’, declared with attribute warn_unused_result [\u001b[01;35m\u001b[K-Wunused-result\u001b[m\u001b[K]\n",
            "   \u001b[01;35m\u001b[Kfscanf(fp, \"%d\\n\", &size)\u001b[m\u001b[K;\n",
            "   \u001b[01;35m\u001b[K^~~~~~~~~~~~~~~~~~~~~~~~~\u001b[m\u001b[K\n",
            "\u001b[01m\u001b[K../common/common.c:61:11:\u001b[m\u001b[K \u001b[01;35m\u001b[Kwarning: \u001b[m\u001b[Kignoring return value of ‘\u001b[01m\u001b[Kfscanf\u001b[m\u001b[K’, declared with attribute warn_unused_result [\u001b[01;35m\u001b[K-Wunused-result\u001b[m\u001b[K]\n",
            "           \u001b[01;35m\u001b[Kfscanf(fp, \"%f \", m+i*size+j)\u001b[m\u001b[K;\n",
            "           \u001b[01;35m\u001b[K^~~~~~~~~~~~~~~~~~~~~~~~~~~~~\u001b[m\u001b[K\n",
            "nvcc -DRD_WG_SIZE_0=64 -I../common -O3 -use_fast_math -arch=sm_75 -lm  -DGPU_TIMER  -o lud.o -c lud.cu\n",
            "nvcc -DRD_WG_SIZE_0=64 -I../common -O3 -use_fast_math -arch=sm_75 -lm  -DGPU_TIMER  -o lud_kernel.o -c lud_kernel.cu\n",
            "nvcc -I../common -O3 -use_fast_math -arch=sm_75 -lm  -o lud_cuda  ../common/common.o lud.o lud_kernel.o\n",
            "make[1]: Leaving directory '/content/drive/MyDrive/Colab Notebooks/DD2360/rodinia_3.1/cuda/lud/cuda'\n"
          ]
        }
      ]
    },
    {
      "cell_type": "code",
      "source": [
        "!ls\n",
        "!./cuda/lud_cuda -s 1500"
      ],
      "metadata": {
        "colab": {
          "base_uri": "https://localhost:8080/"
        },
        "id": "Kw32FIsP6j5v",
        "outputId": "58626c27-01df-43d9-8017-db9020a398d1"
      },
      "execution_count": 31,
      "outputs": [
        {
          "output_type": "stream",
          "name": "stdout",
          "text": [
            "base  common  cuda  Makefile  README  run  tools\n",
            "WG size of kernel = 64 X 64\n",
            "Generate input matrix internally, size =1500\n",
            "Creating matrix internally size=1500\n",
            "Time consumed(ms): 31.677000\n"
          ]
        }
      ]
    },
    {
      "cell_type": "markdown",
      "source": [
        "## 2) lud_omp\n",
        "Changes in makefile(./lud/omp/Makefile.offload):\n",
        "\n",
        "Line 18 and line 19 should be `-CC              := gcc\n",
        "CXX             := gcc\n",
        "`  "
      ],
      "metadata": {
        "id": "VexWkiDK7URO"
      }
    },
    {
      "cell_type": "code",
      "source": [
        "%cd '/content/drive/MyDrive/Colab Notebooks/DD2360/rodinia_3.1/openmp/lud'\n",
        "!ls"
      ],
      "metadata": {
        "colab": {
          "base_uri": "https://localhost:8080/"
        },
        "id": "0RfdgbQc8y7C",
        "outputId": "f749f43d-c29a-43d2-a315-6335707e6879"
      },
      "execution_count": 32,
      "outputs": [
        {
          "output_type": "stream",
          "name": "stdout",
          "text": [
            "/content/drive/MyDrive/Colab Notebooks/DD2360/rodinia_3.1/openmp/lud\n",
            "base  common  Makefile\tomp  README  run  run_offload  tools\n"
          ]
        }
      ]
    },
    {
      "cell_type": "code",
      "source": [
        "!make clean\n",
        "!make"
      ],
      "metadata": {
        "colab": {
          "base_uri": "https://localhost:8080/"
        },
        "id": "WHtcm73t83jI",
        "outputId": "a938ebac-c27c-4a97-a4dc-fb56b4053ddb"
      },
      "execution_count": 33,
      "outputs": [
        {
          "output_type": "stream",
          "name": "stdout",
          "text": [
            "cd omp; make clean ; make -f Makefile.offload clean\n",
            "make[1]: Entering directory '/content/drive/MyDrive/Colab Notebooks/DD2360/rodinia_3.1/openmp/lud/omp'\n",
            "rm --force lud_omp lud.o lud_omp.o ../common/common.o *~\n",
            "make[1]: Leaving directory '/content/drive/MyDrive/Colab Notebooks/DD2360/rodinia_3.1/openmp/lud/omp'\n",
            "make[1]: Entering directory '/content/drive/MyDrive/Colab Notebooks/DD2360/rodinia_3.1/openmp/lud/omp'\n",
            "rm --force lud_omp_offload lud.o lud_omp.o ../common/common.o *~\n",
            "make[1]: Leaving directory '/content/drive/MyDrive/Colab Notebooks/DD2360/rodinia_3.1/openmp/lud/omp'\n",
            "cd omp; make\n",
            "make[1]: Entering directory '/content/drive/MyDrive/Colab Notebooks/DD2360/rodinia_3.1/openmp/lud/omp'\n",
            "gcc  -c -Wall -O3   -fopenmp -I../common lud.c -o lud.o\n",
            "gcc  -c -Wall -O3   -fopenmp -I../common lud_omp.c -o lud_omp.o\n",
            "gcc  -c -Wall -O3   -fopenmp -I../common ../common/common.c -o ../common/common.o\n",
            "\u001b[01m\u001b[K../common/common.c:\u001b[m\u001b[K In function ‘\u001b[01m\u001b[Kcreate_matrix_from_file\u001b[m\u001b[K’:\n",
            "\u001b[01m\u001b[K../common/common.c:51:3:\u001b[m\u001b[K \u001b[01;35m\u001b[Kwarning: \u001b[m\u001b[Kignoring return value of ‘\u001b[01m\u001b[Kfscanf\u001b[m\u001b[K’, declared with attribute warn_unused_result [\u001b[01;35m\u001b[K-Wunused-result\u001b[m\u001b[K]\n",
            "   \u001b[01;35m\u001b[Kfscanf(fp, \"%d\\n\", &size)\u001b[m\u001b[K;\n",
            "   \u001b[01;35m\u001b[K^~~~~~~~~~~~~~~~~~~~~~~~~\u001b[m\u001b[K\n",
            "\u001b[01m\u001b[K../common/common.c:61:11:\u001b[m\u001b[K \u001b[01;35m\u001b[Kwarning: \u001b[m\u001b[Kignoring return value of ‘\u001b[01m\u001b[Kfscanf\u001b[m\u001b[K’, declared with attribute warn_unused_result [\u001b[01;35m\u001b[K-Wunused-result\u001b[m\u001b[K]\n",
            "           \u001b[01;35m\u001b[Kfscanf(fp, \"%f \", m+i*size+j)\u001b[m\u001b[K;\n",
            "           \u001b[01;35m\u001b[K^~~~~~~~~~~~~~~~~~~~~~~~~~~~~\u001b[m\u001b[K\n",
            "\u001b[01m\u001b[K../common/common.c:\u001b[m\u001b[K In function ‘\u001b[01m\u001b[Klud_verify\u001b[m\u001b[K’:\n",
            "\u001b[01m\u001b[K../common/common.c:187:1:\u001b[m\u001b[K \u001b[01;35m\u001b[Kwarning: \u001b[m\u001b[Kcontrol reaches end of non-void function [\u001b[01;35m\u001b[K-Wreturn-type\u001b[m\u001b[K]\n",
            " \u001b[01;35m\u001b[K}\u001b[m\u001b[K\n",
            " \u001b[01;35m\u001b[K^\u001b[m\u001b[K\n",
            "\u001b[01m\u001b[K../common/common.c:\u001b[m\u001b[K In function ‘\u001b[01m\u001b[Kcreate_matrix_from_random\u001b[m\u001b[K’:\n",
            "\u001b[01m\u001b[K../common/common.c:123:7:\u001b[m\u001b[K \u001b[01;35m\u001b[Kwarning: \u001b[m\u001b[K‘\u001b[01m\u001b[Km\u001b[m\u001b[K’ may be used uninitialized in this function [\u001b[01;35m\u001b[K-Wmaybe-uninitialized\u001b[m\u001b[K]\n",
            "   \u001b[01;35m\u001b[K*mp = m\u001b[m\u001b[K;\n",
            "   \u001b[01;35m\u001b[K~~~~^~~\u001b[m\u001b[K\n",
            "gcc   -fopenmp   -o lud_omp lud.o lud_omp.o ../common/common.o   -lm\n",
            "make[1]: Leaving directory '/content/drive/MyDrive/Colab Notebooks/DD2360/rodinia_3.1/openmp/lud/omp'\n",
            "cd omp; make -f Makefile.offload\n",
            "make[1]: Entering directory '/content/drive/MyDrive/Colab Notebooks/DD2360/rodinia_3.1/openmp/lud/omp'\n",
            "gcc   -fopenmp  -o lud_omp_offload lud.o lud_omp.o ../common/common.o   -lm\n",
            "make[1]: Leaving directory '/content/drive/MyDrive/Colab Notebooks/DD2360/rodinia_3.1/openmp/lud/omp'\n"
          ]
        }
      ]
    },
    {
      "cell_type": "code",
      "source": [
        "!ls\n",
        "!./omp/lud_omp -s 1500"
      ],
      "metadata": {
        "colab": {
          "base_uri": "https://localhost:8080/"
        },
        "id": "J5BFLu6V8_jA",
        "outputId": "d4db4cdb-fc00-432b-faf5-a34fae5fc307"
      },
      "execution_count": 34,
      "outputs": [
        {
          "output_type": "stream",
          "name": "stdout",
          "text": [
            "base  common  Makefile\tomp  README  run  run_offload  tools\n",
            "Generate input matrix internally, size =1500\n",
            "Creating matrix internally size=1500\n",
            "running OMP on host\n",
            "Time consumed(ms): 292.581000\n"
          ]
        }
      ]
    },
    {
      "cell_type": "markdown",
      "source": [
        "# **2. Benchmark: LavaMD2**\n",
        "## 1) lavaMD_cuda\n",
        "Changes in makefile(./lavaMD/cuda/Makefile):\n",
        "\n",
        "Line 21 should be`CUDA_FLAG = -arch sm_75`"
      ],
      "metadata": {
        "id": "25JMk4cq-o5_"
      }
    },
    {
      "cell_type": "code",
      "source": [
        "%cd '/content/drive/MyDrive/Colab Notebooks/DD2360/rodinia_3.1/cuda/lavaMD'\n",
        "!ls"
      ],
      "metadata": {
        "colab": {
          "base_uri": "https://localhost:8080/"
        },
        "id": "qzi1GtSCAXzG",
        "outputId": "dbb1bfb0-cc5b-4cad-f22c-869aaeb53d58"
      },
      "execution_count": 62,
      "outputs": [
        {
          "output_type": "stream",
          "name": "stdout",
          "text": [
            "/content/drive/MyDrive/Colab Notebooks/DD2360/rodinia_3.1/cuda/lavaMD\n",
            "kernel\tlavaMD\tmain.c\tmain.h\tmain.o\tmakefile  README  result.txt  run  util\n"
          ]
        }
      ]
    },
    {
      "cell_type": "code",
      "source": [
        "!make clean\n",
        "!make KERNEL_DIM=\"-DRD_WG_SIZE_0=64\""
      ],
      "metadata": {
        "colab": {
          "base_uri": "https://localhost:8080/"
        },
        "id": "s-WstR9YE0f9",
        "outputId": "f6ffeefb-d8ca-4d5f-bebd-84ed63384b57"
      },
      "execution_count": 63,
      "outputs": [
        {
          "output_type": "stream",
          "name": "stdout",
          "text": [
            "rm\t*.o \\\n",
            "\t./kernel/*.o \\\n",
            "\t./util/num/*.o \\\n",
            "\t./util/timer/*.o \\\n",
            "\t./util/device/*.o \\\n",
            "\tlavaMD\n",
            "gcc\t-DRD_WG_SIZE_0=64  main.c \\\n",
            "\t\t-c \\\n",
            "\t\t-o main.o \\\n",
            "\t\t-O3\n",
            "\u001b[01m\u001b[Kmain.c:\u001b[m\u001b[K In function ‘\u001b[01m\u001b[Kmain\u001b[m\u001b[K’:\n",
            "\u001b[01m\u001b[Kmain.c:95:6:\u001b[m\u001b[K \u001b[01;35m\u001b[Kwarning: \u001b[m\u001b[Kimplicit declaration of function ‘\u001b[01m\u001b[Kstrcmp\u001b[m\u001b[K’ [\u001b[01;35m\u001b[K-Wimplicit-function-declaration\u001b[m\u001b[K]\n",
            "   if(\u001b[01;35m\u001b[Kstrcmp\u001b[m\u001b[K(argv[dim_cpu.cur_arg], \"-boxes1d\")==0){\n",
            "      \u001b[01;35m\u001b[K^~~~~~\u001b[m\u001b[K\n",
            "\u001b[01m\u001b[Kmain.c:228:8:\u001b[m\u001b[K \u001b[01;35m\u001b[Kwarning: \u001b[m\u001b[Kimplicit declaration of function ‘\u001b[01m\u001b[Ktime\u001b[m\u001b[K’; did you mean ‘\u001b[01m\u001b[Ktrue\u001b[m\u001b[K’? [\u001b[01;35m\u001b[K-Wimplicit-function-declaration\u001b[m\u001b[K]\n",
            "  srand(\u001b[01;35m\u001b[Ktime\u001b[m\u001b[K(NULL));\n",
            "        \u001b[01;35m\u001b[K^~~~\u001b[m\u001b[K\n",
            "        \u001b[32m\u001b[Ktrue\u001b[m\u001b[K\n",
            "/usr/local/cuda/bin/nvcc -DRD_WG_SIZE_0=64\t\t\t\t\t\t./kernel/kernel_gpu_cuda_wrapper.cu \\\n",
            "\t\t\t\t\t\t\t\t-c \\\n",
            "\t\t\t\t\t\t\t\t-o ./kernel/kernel_gpu_cuda_wrapper.o \\\n",
            "\t\t\t\t\t\t\t\t-O3 \\\n",
            "\t\t\t\t\t\t\t\t-arch sm_75\n",
            "\u001b[01m\u001b[K./kernel/kernel_gpu_cuda_wrapper.cu:\u001b[m\u001b[K In function ‘\u001b[01m\u001b[Kvoid kernel_gpu_cuda_wrapper(par_str, dim_str, box_str*, FOUR_VECTOR*, double*, FOUR_VECTOR*)\u001b[m\u001b[K’:\n",
            "\u001b[01m\u001b[K./kernel/kernel_gpu_cuda_wrapper.cu:66:23:\u001b[m\u001b[K \u001b[01;35m\u001b[Kwarning: \u001b[m\u001b[K‘\u001b[01m\u001b[KcudaError_t cudaThreadSynchronize()\u001b[m\u001b[K’ is deprecated [\u001b[01;35m\u001b[K-Wdeprecated-declarations\u001b[m\u001b[K]\n",
            "  cudaThreadSynchronize\u001b[01;35m\u001b[K(\u001b[m\u001b[K);\n",
            "                       \u001b[01;35m\u001b[K^\u001b[m\u001b[K\n",
            "\u001b[01m\u001b[K/usr/local/cuda/bin/../targets/x86_64-linux/include/cuda_runtime_api.h:1011:46:\u001b[m\u001b[K \u001b[01;36m\u001b[Knote: \u001b[m\u001b[Kdeclared here\n",
            " extern __CUDA_DEPRECATED __host__ cudaError_t\u001b[01;36m\u001b[K CUDARTAPI cudaThread\u001b[m\u001b[KSynchronize(void);\n",
            "                                              \u001b[01;36m\u001b[K^~~~~~~~~~~~~~~~~~~~~\u001b[m\u001b[K\n",
            "\u001b[01m\u001b[K./kernel/kernel_gpu_cuda_wrapper.cu:196:23:\u001b[m\u001b[K \u001b[01;35m\u001b[Kwarning: \u001b[m\u001b[K‘\u001b[01m\u001b[KcudaError_t cudaThreadSynchronize()\u001b[m\u001b[K’ is deprecated [\u001b[01;35m\u001b[K-Wdeprecated-declarations\u001b[m\u001b[K]\n",
            "  cudaThreadSynchronize\u001b[01;35m\u001b[K(\u001b[m\u001b[K);\n",
            "                       \u001b[01;35m\u001b[K^\u001b[m\u001b[K\n",
            "\u001b[01m\u001b[K/usr/local/cuda/bin/../targets/x86_64-linux/include/cuda_runtime_api.h:1011:46:\u001b[m\u001b[K \u001b[01;36m\u001b[Knote: \u001b[m\u001b[Kdeclared here\n",
            " extern __CUDA_DEPRECATED __host__ cudaError_t\u001b[01;36m\u001b[K CUDARTAPI cudaThread\u001b[m\u001b[KSynchronize(void);\n",
            "                                              \u001b[01;36m\u001b[K^~~~~~~~~~~~~~~~~~~~~\u001b[m\u001b[K\n",
            "\u001b[01m\u001b[K./kernel/kernel_gpu_cuda_wrapper.cu:228:165:\u001b[m\u001b[K \u001b[01;35m\u001b[Kwarning: \u001b[m\u001b[Kunknown conversion type character ‘\u001b[01m\u001b[K:\u001b[m\u001b[K’ in format [\u001b[01;35m\u001b[K-Wformat=\u001b[m\u001b[K]\n",
            "  printf(\"%15.12f s, %15.12f % : GPU: SET DEVICE / DRIVER INIT\\n\", (float) (time1-time0) / 1000000, (float) (time1-time0) / (float) (time6-time0) * 100);\n",
            "                                                                                                                                                                     \u001b[01;35m\u001b[K^\u001b[m\u001b[K\n",
            "\u001b[01m\u001b[K./kernel/kernel_gpu_cuda_wrapper.cu:229:148:\u001b[m\u001b[K \u001b[01;35m\u001b[Kwarning: \u001b[m\u001b[Kunknown conversion type character ‘\u001b[01m\u001b[K:\u001b[m\u001b[K’ in format [\u001b[01;35m\u001b[K-Wformat=\u001b[m\u001b[K]\n",
            "  printf(\"%15.12f s, %15.12f % : GPU MEM: ALO\\n\",      (float) (time2-time1) / 1000000, (float) (time2-time1) / (float) (time6-time0) * 100);\n",
            "                                                                                                                                                    \u001b[01;35m\u001b[K^\u001b[m\u001b[K\n",
            "\u001b[01m\u001b[K./kernel/kernel_gpu_cuda_wrapper.cu:230:152:\u001b[m\u001b[K \u001b[01;35m\u001b[Kwarning: \u001b[m\u001b[Kunknown conversion type character ‘\u001b[01m\u001b[K:\u001b[m\u001b[K’ in format [\u001b[01;35m\u001b[K-Wformat=\u001b[m\u001b[K]\n",
            "  printf(\"%15.12f s, %15.12f % : GPU MEM: COPY IN\\n\",     (float) (time3-time2) / 1000000, (float) (time3-time2) / (float) (time6-time0) * 100);\n",
            "                                                                                                                                                        \u001b[01;35m\u001b[K^\u001b[m\u001b[K\n",
            "\u001b[01m\u001b[K./kernel/kernel_gpu_cuda_wrapper.cu:232:147:\u001b[m\u001b[K \u001b[01;35m\u001b[Kwarning: \u001b[m\u001b[Kunknown conversion type character ‘\u001b[01m\u001b[K:\u001b[m\u001b[K’ in format [\u001b[01;35m\u001b[K-Wformat=\u001b[m\u001b[K]\n",
            "  printf(\"%15.12f s, %15.12f % : GPU: KERNEL\\n\",      (float) (time4-time3) / 1000000, (float) (time4-time3) / (float) (time6-time0) * 100);\n",
            "                                                                                                                                                   \u001b[01;35m\u001b[K^\u001b[m\u001b[K\n",
            "\u001b[01m\u001b[K./kernel/kernel_gpu_cuda_wrapper.cu:234:153:\u001b[m\u001b[K \u001b[01;35m\u001b[Kwarning: \u001b[m\u001b[Kunknown conversion type character ‘\u001b[01m\u001b[K:\u001b[m\u001b[K’ in format [\u001b[01;35m\u001b[K-Wformat=\u001b[m\u001b[K]\n",
            "  printf(\"%15.12f s, %15.12f % : GPU MEM: COPY OUT\\n\",    (float) (time5-time4) / 1000000, (float) (time5-time4) / (float) (time6-time0) * 100);\n",
            "                                                                                                                                                         \u001b[01;35m\u001b[K^\u001b[m\u001b[K\n",
            "\u001b[01m\u001b[K./kernel/kernel_gpu_cuda_wrapper.cu:235:148:\u001b[m\u001b[K \u001b[01;35m\u001b[Kwarning: \u001b[m\u001b[Kunknown conversion type character ‘\u001b[01m\u001b[K:\u001b[m\u001b[K’ in format [\u001b[01;35m\u001b[K-Wformat=\u001b[m\u001b[K]\n",
            "  printf(\"%15.12f s, %15.12f % : GPU MEM: FRE\\n\",      (float) (time6-time5) / 1000000, (float) (time6-time5) / (float) (time6-time0) * 100);\n",
            "                                                                                                                                                    \u001b[01;35m\u001b[K^\u001b[m\u001b[K\n",
            "gcc\t\t\t./util/num/num.c \\\n",
            "\t\t\t\t-c \\\n",
            "\t\t\t\t-o ./util/num/num.o \\\n",
            "\t\t\t\t-O3\n",
            "gcc\t\t\t\t./util/timer/timer.c \\\n",
            "\t\t\t\t\t-c \\\n",
            "\t\t\t\t\t-o ./util/timer/timer.o \\\n",
            "\t\t\t\t\t-O3\n",
            "\u001b[01m\u001b[K./util/timer/timer.c:\u001b[m\u001b[K In function ‘\u001b[01m\u001b[Kget_time\u001b[m\u001b[K’:\n",
            "\u001b[01m\u001b[K./util/timer/timer.c:26:2:\u001b[m\u001b[K \u001b[01;35m\u001b[Kwarning: \u001b[m\u001b[Kimplicit declaration of function ‘\u001b[01m\u001b[Kgettimeofday\u001b[m\u001b[K’; did you mean ‘\u001b[01m\u001b[Kget_time\u001b[m\u001b[K’? [\u001b[01;35m\u001b[K-Wimplicit-function-declaration\u001b[m\u001b[K]\n",
            "  \u001b[01;35m\u001b[Kgettimeofday\u001b[m\u001b[K(&tv, NULL);\n",
            "  \u001b[01;35m\u001b[K^~~~~~~~~~~~\u001b[m\u001b[K\n",
            "  \u001b[32m\u001b[Kget_time\u001b[m\u001b[K\n",
            "/usr/local/cuda/bin/nvcc\t\t\t./util/device/device.cu \\\n",
            "\t\t\t\t\t-c \\\n",
            "\t\t\t\t\t-o ./util/device/device.o \\\n",
            "\t\t\t\t\t-O3\n",
            "gcc\t-DRD_WG_SIZE_0=64 main.o \\\n",
            "\t\t./kernel/kernel_gpu_cuda_wrapper.o \\\n",
            "\t\t./util/num/num.o \\\n",
            "\t\t./util/timer/timer.o \\\n",
            "\t\t./util/device/device.o \\\n",
            "\t\t-lm \\\n",
            "\t\t-L/usr/local/cuda/lib64 \\\n",
            "\t\t-lcuda -lcudart \\\n",
            "\t\t-lgomp \\\n",
            "\t\t-o lavaMD\n"
          ]
        }
      ]
    },
    {
      "cell_type": "code",
      "source": [
        "!./lavaMD -boxes1d 10"
      ],
      "metadata": {
        "colab": {
          "base_uri": "https://localhost:8080/"
        },
        "id": "QEowDwCsEQN3",
        "outputId": "7c7de18e-d7f9-4bd2-d54f-17434b6b6310"
      },
      "execution_count": 64,
      "outputs": [
        {
          "output_type": "stream",
          "name": "stdout",
          "text": [
            "thread block size of kernel = 64 \n",
            "Configuration used: boxes1d = 10\n",
            "Time spent in different stages of GPU_CUDA KERNEL:\n",
            " 0.218876004219 s, 50.504173278809 % : GPU: SET DEVICE / DRIVER INIT\n",
            " 0.000292000012 s,  0.067377053201 % : GPU MEM: ALO\n",
            " 0.001889999956 s,  0.436104893684 % : GPU MEM: COPY IN\n",
            " 0.211007997394 s, 48.688686370850 % : GPU: KERNEL\n",
            " 0.000738999981 s,  0.170519307256 % : GPU MEM: COPY OUT\n",
            " 0.000577000028 s,  0.133138895035 % : GPU MEM: FRE\n",
            "Total time:\n",
            "0.433382004499 s\n"
          ]
        }
      ]
    },
    {
      "cell_type": "markdown",
      "source": [
        "## 2) lavaMD_omp\n",
        "No necenssary changes in makefile."
      ],
      "metadata": {
        "id": "9TgAKMywHUjT"
      }
    },
    {
      "cell_type": "code",
      "source": [
        "%cd '/content/drive/MyDrive/Colab Notebooks/DD2360/rodinia_3.1/openmp/lavaMD'\n",
        "!ls"
      ],
      "metadata": {
        "colab": {
          "base_uri": "https://localhost:8080/"
        },
        "id": "gvOFyHMiHrz-",
        "outputId": "5cd8e740-b4ad-4aaa-e8a3-e1de4cf4a8d8"
      },
      "execution_count": 58,
      "outputs": [
        {
          "output_type": "stream",
          "name": "stdout",
          "text": [
            "/content/drive/MyDrive/Colab Notebooks/DD2360/rodinia_3.1/openmp/lavaMD\n",
            "kernel\tmain.c\tmain.h\tmakefile  README  run  util\n"
          ]
        }
      ]
    },
    {
      "cell_type": "code",
      "source": [
        "!make clean\n",
        "!make OUTPUT=Y"
      ],
      "metadata": {
        "colab": {
          "base_uri": "https://localhost:8080/"
        },
        "id": "ZsTED2JoHvgG",
        "outputId": "6db3101d-3be3-4455-9dde-6c1205f6c80a"
      },
      "execution_count": 59,
      "outputs": [
        {
          "output_type": "stream",
          "name": "stdout",
          "text": [
            "rm\t*.o \\\n",
            "\t./kernel/*.o \\\n",
            "\t./util/num/*.o \\\n",
            "\t./util/timer/*.o \\\n",
            "                ./util/device/*.o \\\n",
            "\tlavaMD\n",
            "rm: cannot remove '*.o': No such file or directory\n",
            "rm: cannot remove './kernel/*.o': No such file or directory\n",
            "rm: cannot remove './util/num/*.o': No such file or directory\n",
            "rm: cannot remove './util/timer/*.o': No such file or directory\n",
            "rm: cannot remove './util/device/*.o': No such file or directory\n",
            "rm: cannot remove 'lavaMD': No such file or directory\n",
            "makefile:67: recipe for target 'clean' failed\n",
            "make: *** [clean] Error 1\n",
            "gcc\t-DOUTPUT main.c \\\n",
            "\t\t-c \\\n",
            "\t\t-o main.o \\\n",
            "\t\t-O3\n",
            "\u001b[01m\u001b[Kmain.c:\u001b[m\u001b[K In function ‘\u001b[01m\u001b[Kmain\u001b[m\u001b[K’:\n",
            "\u001b[01m\u001b[Kmain.c:95:6:\u001b[m\u001b[K \u001b[01;35m\u001b[Kwarning: \u001b[m\u001b[Kimplicit declaration of function ‘\u001b[01m\u001b[Kstrcmp\u001b[m\u001b[K’ [\u001b[01;35m\u001b[K-Wimplicit-function-declaration\u001b[m\u001b[K]\n",
            "   if(\u001b[01;35m\u001b[Kstrcmp\u001b[m\u001b[K(argv[dim_cpu.cur_arg], \"-cores\")==0){\n",
            "      \u001b[01;35m\u001b[K^~~~~~\u001b[m\u001b[K\n",
            "\u001b[01m\u001b[Kmain.c:253:8:\u001b[m\u001b[K \u001b[01;35m\u001b[Kwarning: \u001b[m\u001b[Kimplicit declaration of function ‘\u001b[01m\u001b[Ktime\u001b[m\u001b[K’; did you mean ‘\u001b[01m\u001b[Ktrue\u001b[m\u001b[K’? [\u001b[01;35m\u001b[K-Wimplicit-function-declaration\u001b[m\u001b[K]\n",
            "  srand(\u001b[01;35m\u001b[Ktime\u001b[m\u001b[K(NULL));\n",
            "        \u001b[01;35m\u001b[K^~~~\u001b[m\u001b[K\n",
            "        \u001b[32m\u001b[Ktrue\u001b[m\u001b[K\n",
            "gcc\t\t\t\t./kernel/kernel_cpu.c \\\n",
            "\t\t\t\t\t-c \\\n",
            "\t\t\t\t\t-o ./kernel/kernel_cpu.o \\\n",
            "\t\t\t\t\t-O3 \\\n",
            "\t\t\t\t\t-fopenmp\n",
            "\u001b[01m\u001b[K./kernel/kernel_cpu.c:\u001b[m\u001b[K In function ‘\u001b[01m\u001b[Kkernel_cpu\u001b[m\u001b[K’:\n",
            "\u001b[01m\u001b[K./kernel/kernel_cpu.c:206:31:\u001b[m\u001b[K \u001b[01;35m\u001b[Kwarning: \u001b[m\u001b[Kunknown conversion type character ‘\u001b[01m\u001b[K:\u001b[m\u001b[K’ in format [\u001b[01;35m\u001b[K-Wformat=\u001b[m\u001b[K]\n",
            "  printf(\"%15.12f s, %15.12f % \u001b[01;35m\u001b[K:\u001b[m\u001b[K CPU/MCPU: VARIABLES\\n\",    (float) (time1-time0) / 1000000, (float) (time1-time0) / (float) (time4-time0) * 100);\n",
            "                               \u001b[01;35m\u001b[K^\u001b[m\u001b[K\n",
            "\u001b[01m\u001b[K./kernel/kernel_cpu.c:207:31:\u001b[m\u001b[K \u001b[01;35m\u001b[Kwarning: \u001b[m\u001b[Kunknown conversion type character ‘\u001b[01m\u001b[K:\u001b[m\u001b[K’ in format [\u001b[01;35m\u001b[K-Wformat=\u001b[m\u001b[K]\n",
            "  printf(\"%15.12f s, %15.12f % \u001b[01;35m\u001b[K:\u001b[m\u001b[K MCPU: SET DEVICE\\n\",     (float) (time2-time1) / 1000000, (float) (time2-time1) / (float) (time4-time0) * 100);\n",
            "                               \u001b[01;35m\u001b[K^\u001b[m\u001b[K\n",
            "\u001b[01m\u001b[K./kernel/kernel_cpu.c:208:31:\u001b[m\u001b[K \u001b[01;35m\u001b[Kwarning: \u001b[m\u001b[Kunknown conversion type character ‘\u001b[01m\u001b[K:\u001b[m\u001b[K’ in format [\u001b[01;35m\u001b[K-Wformat=\u001b[m\u001b[K]\n",
            "  printf(\"%15.12f s, %15.12f % \u001b[01;35m\u001b[K:\u001b[m\u001b[K CPU/MCPU: INPUTS\\n\",     (float) (time3-time2) / 1000000, (float) (time3-time2) / (float) (time4-time0) * 100);\n",
            "                               \u001b[01;35m\u001b[K^\u001b[m\u001b[K\n",
            "\u001b[01m\u001b[K./kernel/kernel_cpu.c:209:31:\u001b[m\u001b[K \u001b[01;35m\u001b[Kwarning: \u001b[m\u001b[Kunknown conversion type character ‘\u001b[01m\u001b[K:\u001b[m\u001b[K’ in format [\u001b[01;35m\u001b[K-Wformat=\u001b[m\u001b[K]\n",
            "  printf(\"%15.12f s, %15.12f % \u001b[01;35m\u001b[K:\u001b[m\u001b[K CPU/MCPU: KERNEL\\n\",     (float) (time4-time3) / 1000000, (float) (time4-time3) / (float) (time4-time0) * 100);\n",
            "                               \u001b[01;35m\u001b[K^\u001b[m\u001b[K\n",
            "gcc\t\t\t./util/num/num.c \\\n",
            "\t\t\t\t-c \\\n",
            "\t\t\t\t-o ./util/num/num.o \\\n",
            "\t\t\t\t-O3\n",
            "gcc\t\t\t\t./util/timer/timer.c \\\n",
            "\t\t\t\t\t-c \\\n",
            "\t\t\t\t\t-o ./util/timer/timer.o \\\n",
            "\t\t\t\t\t-O3\n",
            "\u001b[01m\u001b[K./util/timer/timer.c:\u001b[m\u001b[K In function ‘\u001b[01m\u001b[Kget_time\u001b[m\u001b[K’:\n",
            "\u001b[01m\u001b[K./util/timer/timer.c:26:2:\u001b[m\u001b[K \u001b[01;35m\u001b[Kwarning: \u001b[m\u001b[Kimplicit declaration of function ‘\u001b[01m\u001b[Kgettimeofday\u001b[m\u001b[K’; did you mean ‘\u001b[01m\u001b[Kget_time\u001b[m\u001b[K’? [\u001b[01;35m\u001b[K-Wimplicit-function-declaration\u001b[m\u001b[K]\n",
            "  \u001b[01;35m\u001b[Kgettimeofday\u001b[m\u001b[K(&tv, NULL);\n",
            "  \u001b[01;35m\u001b[K^~~~~~~~~~~~\u001b[m\u001b[K\n",
            "  \u001b[32m\u001b[Kget_time\u001b[m\u001b[K\n",
            "gcc\tmain.o \\\n",
            "\t\t./kernel/kernel_cpu.o \\\n",
            "\t\t./util/num/num.o \\\n",
            "\t\t./util/timer/timer.o \\\n",
            "\t\t-lm \\\n",
            "\t\t-lgomp \\\n",
            "\t\t-o lavaMD\n"
          ]
        }
      ]
    },
    {
      "cell_type": "code",
      "source": [
        "!./lavaMD -cores 4 -boxes1d 10"
      ],
      "metadata": {
        "colab": {
          "base_uri": "https://localhost:8080/"
        },
        "id": "0OCZUYcIHvjP",
        "outputId": "9481f9e1-93ab-48c3-caf4-096ca011c0d8"
      },
      "execution_count": 61,
      "outputs": [
        {
          "output_type": "stream",
          "name": "stdout",
          "text": [
            "Configuration used: cores = 4, boxes1d = 10\n",
            "Time spent in different stages of CPU/MCPU KERNEL:\n",
            " 0.000000000000 s,  0.000000000000 % : CPU/MCPU: VARIABLES\n",
            " 0.000010000000 s,  0.000162096127 % : MCPU: SET DEVICE\n",
            " 0.000000000000 s,  0.000000000000 % : CPU/MCPU: INPUTS\n",
            " 6.169168949127 s, 99.999839782715 % : CPU/MCPU: KERNEL\n",
            "Total time:\n",
            "6.169178962708 s\n"
          ]
        }
      ]
    },
    {
      "cell_type": "markdown",
      "source": [
        "# **3. Benchmark: B+ Tree**\n",
        "## 1) b+tree_cuda\n",
        "Changes in makefile(./b+tree/cuda/Makefile):\n",
        "\n",
        "Tesla T4 has the Turing architecture, so line 4 should be `CUDA_FLAG = -arch sm_75`    https://arnon.dk/matching-sm-architectures-arch-and-gencode-for-various-nvidia-cards/"
      ],
      "metadata": {
        "id": "f0MOAs6MIivX"
      }
    },
    {
      "cell_type": "code",
      "source": [
        "%cd '/content/drive/MyDrive/Colab Notebooks/DD2360/rodinia_3.1/cuda/b+tree'\n",
        "!ls"
      ],
      "metadata": {
        "colab": {
          "base_uri": "https://localhost:8080/"
        },
        "id": "SgtYb312JrF3",
        "outputId": "929582a8-0477-4fdc-bf2e-ce931784eca7"
      },
      "execution_count": 100,
      "outputs": [
        {
          "output_type": "stream",
          "name": "stdout",
          "text": [
            "/content/drive/MyDrive/Colab Notebooks/DD2360/rodinia_3.1/cuda/b+tree\n",
            "b+tree.out  kernel  main.h  Makefile\tpenmp\trun\n",
            "common.h    main.c  main.o  output.txt\tREADME\tutil\n"
          ]
        }
      ]
    },
    {
      "cell_type": "code",
      "source": [
        "!make clean\n",
        "!make KERNEL_DIM=\"-DRD_WG_SIZE_0=64\""
      ],
      "metadata": {
        "colab": {
          "base_uri": "https://localhost:8080/"
        },
        "id": "W3W0wxVNJxKn",
        "outputId": "41fe8665-e02f-445e-a5f0-047250f7cd51"
      },
      "execution_count": 101,
      "outputs": [
        {
          "output_type": "stream",
          "name": "stdout",
          "text": [
            "rm\t*.o *.out \\\n",
            "\t./kernel/*.o \\\n",
            "\t./util/timer/*.o \\\n",
            "\t./util/num/*.o \\\n",
            "\t./util/cuda/*.o \\\n",
            "                output.txt\n",
            "gcc\t-DRD_WG_SIZE_0=64 ./main.c \\\n",
            "\t\t-c \\\n",
            "\t\t-o ./main.o \\\n",
            "\t\t-O3\n",
            "\u001b[01m\u001b[K./main.c:\u001b[m\u001b[K In function ‘\u001b[01m\u001b[Ktransform_to_cuda\u001b[m\u001b[K’:\n",
            "\u001b[01m\u001b[K./main.c:652:2:\u001b[m\u001b[K \u001b[01;35m\u001b[Kwarning: \u001b[m\u001b[Kimplicit declaration of function ‘\u001b[01m\u001b[Kgettimeofday\u001b[m\u001b[K’; did you mean ‘\u001b[01m\u001b[Kget_time\u001b[m\u001b[K’? [\u001b[01;35m\u001b[K-Wimplicit-function-declaration\u001b[m\u001b[K]\n",
            "  \u001b[01;35m\u001b[Kgettimeofday\u001b[m\u001b[K (&one, NULL);\n",
            "  \u001b[01;35m\u001b[K^~~~~~~~~~~~\u001b[m\u001b[K\n",
            "  \u001b[32m\u001b[Kget_time\u001b[m\u001b[K\n",
            "\u001b[01m\u001b[K./main.c:737:34:\u001b[m\u001b[K \u001b[01;35m\u001b[Kwarning: \u001b[m\u001b[Kformat ‘\u001b[01m\u001b[K%d\u001b[m\u001b[K’ expects argument of type ‘\u001b[01m\u001b[Kint\u001b[m\u001b[K’, but argument 2 has type ‘\u001b[01m\u001b[Klong int\u001b[m\u001b[K’ [\u001b[01;35m\u001b[K-Wformat=\u001b[m\u001b[K]\n",
            "   printf(\"\\nNumber of records = \u001b[01;35m\u001b[K%d\u001b[m\u001b[K, sizeof(record)=%d, total=%d\\n\",size,sizeof(record),size*sizeof(record));\n",
            "                                 \u001b[01;35m\u001b[K~^\u001b[m\u001b[K\n",
            "                                 \u001b[32m\u001b[K%ld\u001b[m\u001b[K\n",
            "\u001b[01m\u001b[K./main.c:737:53:\u001b[m\u001b[K \u001b[01;35m\u001b[Kwarning: \u001b[m\u001b[Kformat ‘\u001b[01m\u001b[K%d\u001b[m\u001b[K’ expects argument of type ‘\u001b[01m\u001b[Kint\u001b[m\u001b[K’, but argument 3 has type ‘\u001b[01m\u001b[Klong unsigned int\u001b[m\u001b[K’ [\u001b[01;35m\u001b[K-Wformat=\u001b[m\u001b[K]\n",
            "   printf(\"\\nNumber of records = %d, sizeof(record)=\u001b[01;35m\u001b[K%d\u001b[m\u001b[K, total=%d\\n\",size,sizeof(record),size*sizeof(record));\n",
            "                                                    \u001b[01;35m\u001b[K~^\u001b[m\u001b[K\n",
            "                                                    \u001b[32m\u001b[K%ld\u001b[m\u001b[K\n",
            "\u001b[01m\u001b[K./main.c:737:63:\u001b[m\u001b[K \u001b[01;35m\u001b[Kwarning: \u001b[m\u001b[Kformat ‘\u001b[01m\u001b[K%d\u001b[m\u001b[K’ expects argument of type ‘\u001b[01m\u001b[Kint\u001b[m\u001b[K’, but argument 4 has type ‘\u001b[01m\u001b[Klong unsigned int\u001b[m\u001b[K’ [\u001b[01;35m\u001b[K-Wformat=\u001b[m\u001b[K]\n",
            "   printf(\"\\nNumber of records = %d, sizeof(record)=%d, total=\u001b[01;35m\u001b[K%d\u001b[m\u001b[K\\n\",size,sizeof(record),\u001b[32m\u001b[Ksize*sizeof(record)\u001b[m\u001b[K);\n",
            "                                                              \u001b[01;35m\u001b[K~^\u001b[m\u001b[K                        \u001b[32m\u001b[K~~~~~~~~~~~~~~~~~~~\u001b[m\u001b[K\n",
            "                                                              \u001b[32m\u001b[K%ld\u001b[m\u001b[K\n",
            "\u001b[01m\u001b[K./main.c:738:31:\u001b[m\u001b[K \u001b[01;35m\u001b[Kwarning: \u001b[m\u001b[Kformat ‘\u001b[01m\u001b[K%d\u001b[m\u001b[K’ expects argument of type ‘\u001b[01m\u001b[Kint\u001b[m\u001b[K’, but argument 2 has type ‘\u001b[01m\u001b[Klong int\u001b[m\u001b[K’ [\u001b[01;35m\u001b[K-Wformat=\u001b[m\u001b[K]\n",
            "   printf(\"Number of knodes = \u001b[01;35m\u001b[K%d\u001b[m\u001b[K, sizeof(knode)=%d, total=%d\\n\",nodeindex,sizeof(knode),(nodeindex)*sizeof(knode));\n",
            "                              \u001b[01;35m\u001b[K~^\u001b[m\u001b[K\n",
            "                              \u001b[32m\u001b[K%ld\u001b[m\u001b[K\n",
            "\u001b[01m\u001b[K./main.c:738:49:\u001b[m\u001b[K \u001b[01;35m\u001b[Kwarning: \u001b[m\u001b[Kformat ‘\u001b[01m\u001b[K%d\u001b[m\u001b[K’ expects argument of type ‘\u001b[01m\u001b[Kint\u001b[m\u001b[K’, but argument 3 has type ‘\u001b[01m\u001b[Klong unsigned int\u001b[m\u001b[K’ [\u001b[01;35m\u001b[K-Wformat=\u001b[m\u001b[K]\n",
            "   printf(\"Number of knodes = %d, sizeof(knode)=\u001b[01;35m\u001b[K%d\u001b[m\u001b[K, total=%d\\n\",nodeindex,sizeof(knode),(nodeindex)*sizeof(knode));\n",
            "                                                \u001b[01;35m\u001b[K~^\u001b[m\u001b[K\n",
            "                                                \u001b[32m\u001b[K%ld\u001b[m\u001b[K\n",
            "\u001b[01m\u001b[K./main.c:738:59:\u001b[m\u001b[K \u001b[01;35m\u001b[Kwarning: \u001b[m\u001b[Kformat ‘\u001b[01m\u001b[K%d\u001b[m\u001b[K’ expects argument of type ‘\u001b[01m\u001b[Kint\u001b[m\u001b[K’, but argument 4 has type ‘\u001b[01m\u001b[Klong unsigned int\u001b[m\u001b[K’ [\u001b[01;35m\u001b[K-Wformat=\u001b[m\u001b[K]\n",
            "   printf(\"Number of knodes = %d, sizeof(knode)=%d, total=\u001b[01;35m\u001b[K%d\u001b[m\u001b[K\\n\",nodeindex,sizeof(knode),\u001b[32m\u001b[K(nodeindex)*sizeof(knode)\u001b[m\u001b[K);\n",
            "                                                          \u001b[01;35m\u001b[K~^\u001b[m\u001b[K                            \u001b[32m\u001b[K~~~~~~~~~~~~~~~~~~~~~~~~~\u001b[m\u001b[K\n",
            "                                                          \u001b[32m\u001b[K%ld\u001b[m\u001b[K\n",
            "\u001b[01m\u001b[K./main.c:739:45:\u001b[m\u001b[K \u001b[01;35m\u001b[Kwarning: \u001b[m\u001b[Kformat ‘\u001b[01m\u001b[K%d\u001b[m\u001b[K’ expects argument of type ‘\u001b[01m\u001b[Kint\u001b[m\u001b[K’, but argument 2 has type ‘\u001b[01m\u001b[Klong int\u001b[m\u001b[K’ [\u001b[01;35m\u001b[K-Wformat=\u001b[m\u001b[K]\n",
            "   printf(\"\\nDone Transformation. Mem used: \u001b[01;35m\u001b[K%d\u001b[m\u001b[K\\n\", mem_used);\n",
            "                                            \u001b[01;35m\u001b[K~^\u001b[m\u001b[K\n",
            "                                            \u001b[32m\u001b[K%ld\u001b[m\u001b[K\n",
            "\u001b[01m\u001b[K./main.c:\u001b[m\u001b[K In function ‘\u001b[01m\u001b[Kprint_tree\u001b[m\u001b[K’:\n",
            "\u001b[01m\u001b[K./main.c:930:13:\u001b[m\u001b[K \u001b[01;35m\u001b[Kwarning: \u001b[m\u001b[Kformat ‘\u001b[01m\u001b[K%x\u001b[m\u001b[K’ expects argument of type ‘\u001b[01m\u001b[Kunsigned int\u001b[m\u001b[K’, but argument 2 has type ‘\u001b[01m\u001b[Knode * {aka struct node *}\u001b[m\u001b[K’ [\u001b[01;35m\u001b[K-Wformat=\u001b[m\u001b[K]\n",
            "   printf(\"(\u001b[01;35m\u001b[K%x\u001b[m\u001b[K)\", n);\n",
            "            \u001b[01;35m\u001b[K~^\u001b[m\u001b[K\n",
            "\u001b[01m\u001b[K./main.c:933:13:\u001b[m\u001b[K \u001b[01;35m\u001b[Kwarning: \u001b[m\u001b[Kformat ‘\u001b[01m\u001b[K%x\u001b[m\u001b[K’ expects argument of type ‘\u001b[01m\u001b[Kunsigned int\u001b[m\u001b[K’, but argument 2 has type ‘\u001b[01m\u001b[Kvoid *\u001b[m\u001b[K’ [\u001b[01;35m\u001b[K-Wformat=\u001b[m\u001b[K]\n",
            "    printf(\"\u001b[01;35m\u001b[K%x\u001b[m\u001b[K \", \u001b[32m\u001b[Kn->pointers[i]\u001b[m\u001b[K);\n",
            "            \u001b[01;35m\u001b[K~^\u001b[m\u001b[K    \u001b[32m\u001b[K~~~~~~~~~~~~~~\u001b[m\u001b[K\n",
            "            \u001b[32m\u001b[K%p\u001b[m\u001b[K\n",
            "\u001b[01m\u001b[K./main.c:941:13:\u001b[m\u001b[K \u001b[01;35m\u001b[Kwarning: \u001b[m\u001b[Kformat ‘\u001b[01m\u001b[K%x\u001b[m\u001b[K’ expects argument of type ‘\u001b[01m\u001b[Kunsigned int\u001b[m\u001b[K’, but argument 2 has type ‘\u001b[01m\u001b[Kvoid *\u001b[m\u001b[K’ [\u001b[01;35m\u001b[K-Wformat=\u001b[m\u001b[K]\n",
            "    printf(\"\u001b[01;35m\u001b[K%x\u001b[m\u001b[K \", \u001b[32m\u001b[Kn->pointers[order - 1]\u001b[m\u001b[K);\n",
            "            \u001b[01;35m\u001b[K~^\u001b[m\u001b[K    \u001b[32m\u001b[K~~~~~~~~~~~~~~~~~~~~~~\u001b[m\u001b[K\n",
            "            \u001b[32m\u001b[K%p\u001b[m\u001b[K\n",
            "\u001b[01m\u001b[K./main.c:943:13:\u001b[m\u001b[K \u001b[01;35m\u001b[Kwarning: \u001b[m\u001b[Kformat ‘\u001b[01m\u001b[K%x\u001b[m\u001b[K’ expects argument of type ‘\u001b[01m\u001b[Kunsigned int\u001b[m\u001b[K’, but argument 2 has type ‘\u001b[01m\u001b[Kvoid *\u001b[m\u001b[K’ [\u001b[01;35m\u001b[K-Wformat=\u001b[m\u001b[K]\n",
            "    printf(\"\u001b[01;35m\u001b[K%x\u001b[m\u001b[K \", \u001b[32m\u001b[Kn->pointers[n->num_keys]\u001b[m\u001b[K);\n",
            "            \u001b[01;35m\u001b[K~^\u001b[m\u001b[K    \u001b[32m\u001b[K~~~~~~~~~~~~~~~~~~~~~~~~\u001b[m\u001b[K\n",
            "            \u001b[32m\u001b[K%p\u001b[m\u001b[K\n",
            "\u001b[01m\u001b[K./main.c:\u001b[m\u001b[K In function ‘\u001b[01m\u001b[Kmain\u001b[m\u001b[K’:\n",
            "\u001b[01m\u001b[K./main.c:1866:2:\u001b[m\u001b[K \u001b[01;35m\u001b[Kwarning: \u001b[m\u001b[Kimplicit declaration of function ‘\u001b[01m\u001b[KcudaSetDevice\u001b[m\u001b[K’ [\u001b[01;35m\u001b[K-Wimplicit-function-declaration\u001b[m\u001b[K]\n",
            "  \u001b[01;35m\u001b[KcudaSetDevice\u001b[m\u001b[K(device);\n",
            "  \u001b[01;35m\u001b[K^~~~~~~~~~~~~\u001b[m\u001b[K\n",
            "\u001b[01m\u001b[K./main.c:1958:37:\u001b[m\u001b[K \u001b[01;35m\u001b[Kwarning: \u001b[m\u001b[Kpassing argument 2 of ‘\u001b[01m\u001b[Kfputs\u001b[m\u001b[K’ from incompatible pointer type [\u001b[01;35m\u001b[K-Wincompatible-pointer-types\u001b[m\u001b[K]\n",
            "        fputs (\"Fail to open %s !\\n\",\u001b[01;35m\u001b[Koutput\u001b[m\u001b[K);\n",
            "                                     \u001b[01;35m\u001b[K^~~~~~\u001b[m\u001b[K\n",
            "In file included from \u001b[01m\u001b[K./main.c:60:0\u001b[m\u001b[K:\n",
            "\u001b[01m\u001b[K/usr/include/stdio.h:626:12:\u001b[m\u001b[K \u001b[01;36m\u001b[Knote: \u001b[m\u001b[Kexpected ‘\u001b[01m\u001b[KFILE * restrict {aka struct _IO_FILE * restrict}\u001b[m\u001b[K’ but argument is of type ‘\u001b[01m\u001b[Kchar *\u001b[m\u001b[K’\n",
            " extern int \u001b[01;36m\u001b[Kfputs\u001b[m\u001b[K (const char *__restrict __s, FILE *__restrict __stream);\n",
            "            \u001b[01;36m\u001b[K^~~~~\u001b[m\u001b[K\n",
            "\u001b[01m\u001b[K./main.c:2148:48:\u001b[m\u001b[K \u001b[01;35m\u001b[Kwarning: \u001b[m\u001b[Kcomparison between pointer and integer\n",
            "     while(*commandPointer!=32 && commandPointer\u001b[01;35m\u001b[K!=\u001b[m\u001b[K'\\n')\n",
            "                                                \u001b[01;35m\u001b[K^~\u001b[m\u001b[K\n",
            "\u001b[01m\u001b[K./main.c:2224:38:\u001b[m\u001b[K \u001b[01;35m\u001b[Kwarning: \u001b[m\u001b[Kpassing argument 2 of ‘\u001b[01m\u001b[Kfputs\u001b[m\u001b[K’ from incompatible pointer type [\u001b[01;35m\u001b[K-Wincompatible-pointer-types\u001b[m\u001b[K]\n",
            "         fputs (\"Fail to open %s !\\n\",\u001b[01;35m\u001b[Koutput\u001b[m\u001b[K);\n",
            "                                      \u001b[01;35m\u001b[K^~~~~~\u001b[m\u001b[K\n",
            "In file included from \u001b[01m\u001b[K./main.c:60:0\u001b[m\u001b[K:\n",
            "\u001b[01m\u001b[K/usr/include/stdio.h:626:12:\u001b[m\u001b[K \u001b[01;36m\u001b[Knote: \u001b[m\u001b[Kexpected ‘\u001b[01m\u001b[KFILE * restrict {aka struct _IO_FILE * restrict}\u001b[m\u001b[K’ but argument is of type ‘\u001b[01m\u001b[Kchar *\u001b[m\u001b[K’\n",
            " extern int \u001b[01;36m\u001b[Kfputs\u001b[m\u001b[K (const char *__restrict __s, FILE *__restrict __stream);\n",
            "            \u001b[01;36m\u001b[K^~~~~\u001b[m\u001b[K\n",
            "\u001b[01m\u001b[K./main.c:2278:48:\u001b[m\u001b[K \u001b[01;35m\u001b[Kwarning: \u001b[m\u001b[Kcomparison between pointer and integer\n",
            "     while(*commandPointer!=32 && commandPointer\u001b[01;35m\u001b[K!=\u001b[m\u001b[K'\\n')\n",
            "                                                \u001b[01;35m\u001b[K^~\u001b[m\u001b[K\n",
            "\u001b[01m\u001b[K./main.c:2283:48:\u001b[m\u001b[K \u001b[01;35m\u001b[Kwarning: \u001b[m\u001b[Kcomparison between pointer and integer\n",
            "     while(*commandPointer!=32 && commandPointer\u001b[01;35m\u001b[K!=\u001b[m\u001b[K'\\n')\n",
            "                                                \u001b[01;35m\u001b[K^~\u001b[m\u001b[K\n",
            "\u001b[01m\u001b[K./main.c:2371:38:\u001b[m\u001b[K \u001b[01;35m\u001b[Kwarning: \u001b[m\u001b[Kpassing argument 2 of ‘\u001b[01m\u001b[Kfputs\u001b[m\u001b[K’ from incompatible pointer type [\u001b[01;35m\u001b[K-Wincompatible-pointer-types\u001b[m\u001b[K]\n",
            "         fputs (\"Fail to open %s !\\n\",\u001b[01;35m\u001b[Koutput\u001b[m\u001b[K);\n",
            "                                      \u001b[01;35m\u001b[K^~~~~~\u001b[m\u001b[K\n",
            "In file included from \u001b[01m\u001b[K./main.c:60:0\u001b[m\u001b[K:\n",
            "\u001b[01m\u001b[K/usr/include/stdio.h:626:12:\u001b[m\u001b[K \u001b[01;36m\u001b[Knote: \u001b[m\u001b[Kexpected ‘\u001b[01m\u001b[KFILE * restrict {aka struct _IO_FILE * restrict}\u001b[m\u001b[K’ but argument is of type ‘\u001b[01m\u001b[Kchar *\u001b[m\u001b[K’\n",
            " extern int \u001b[01;36m\u001b[Kfputs\u001b[m\u001b[K (const char *__restrict __s, FILE *__restrict __stream);\n",
            "            \u001b[01;36m\u001b[K^~~~~\u001b[m\u001b[K\n",
            "\u001b[01m\u001b[K./main.c:1994:3:\u001b[m\u001b[K \u001b[01;35m\u001b[Kwarning: \u001b[m\u001b[Kignoring return value of ‘\u001b[01m\u001b[Kfscanf\u001b[m\u001b[K’, declared with attribute warn_unused_result [\u001b[01;35m\u001b[K-Wunused-result\u001b[m\u001b[K]\n",
            "   \u001b[01;35m\u001b[Kfscanf(file_pointer, \"%d\\n\", &input)\u001b[m\u001b[K;\n",
            "   \u001b[01;35m\u001b[K^~~~~~~~~~~~~~~~~~~~~~~~~~~~~~~~~~~~\u001b[m\u001b[K\n",
            "\u001b[01m\u001b[K./main.c:1999:4:\u001b[m\u001b[K \u001b[01;35m\u001b[Kwarning: \u001b[m\u001b[Kignoring return value of ‘\u001b[01m\u001b[Kfscanf\u001b[m\u001b[K’, declared with attribute warn_unused_result [\u001b[01;35m\u001b[K-Wunused-result\u001b[m\u001b[K]\n",
            "    \u001b[01;35m\u001b[Kfscanf(file_pointer, \"%d\\n\", &input)\u001b[m\u001b[K;\n",
            "    \u001b[01;35m\u001b[K^~~~~~~~~~~~~~~~~~~~~~~~~~~~~~~~~~~~\u001b[m\u001b[K\n",
            "\u001b[01m\u001b[K./main.c:2039:5:\u001b[m\u001b[K \u001b[01;35m\u001b[Kwarning: \u001b[m\u001b[Kignoring return value of ‘\u001b[01m\u001b[Kscanf\u001b[m\u001b[K’, declared with attribute warn_unused_result [\u001b[01;35m\u001b[K-Wunused-result\u001b[m\u001b[K]\n",
            "     \u001b[01;35m\u001b[Kscanf(\"%d\", &input)\u001b[m\u001b[K;\n",
            "     \u001b[01;35m\u001b[K^~~~~~~~~~~~~~~~~~~\u001b[m\u001b[K\n",
            "\u001b[01m\u001b[K./main.c:2060:5:\u001b[m\u001b[K \u001b[01;35m\u001b[Kwarning: \u001b[m\u001b[Kignoring return value of ‘\u001b[01m\u001b[Kscanf\u001b[m\u001b[K’, declared with attribute warn_unused_result [\u001b[01;35m\u001b[K-Wunused-result\u001b[m\u001b[K]\n",
            "     \u001b[01;35m\u001b[Kscanf(\"%d\", &input)\u001b[m\u001b[K;\n",
            "     \u001b[01;35m\u001b[K^~~~~~~~~~~~~~~~~~~\u001b[m\u001b[K\n",
            "\u001b[01m\u001b[K./main.c:2076:5:\u001b[m\u001b[K \u001b[01;35m\u001b[Kwarning: \u001b[m\u001b[Kignoring return value of ‘\u001b[01m\u001b[Kscanf\u001b[m\u001b[K’, declared with attribute warn_unused_result [\u001b[01;35m\u001b[K-Wunused-result\u001b[m\u001b[K]\n",
            "     \u001b[01;35m\u001b[Kscanf(\"%d\", &input)\u001b[m\u001b[K;\n",
            "     \u001b[01;35m\u001b[K^~~~~~~~~~~~~~~~~~~\u001b[m\u001b[K\n",
            "\u001b[01m\u001b[K./main.c:2252:5:\u001b[m\u001b[K \u001b[01;35m\u001b[Kwarning: \u001b[m\u001b[Kignoring return value of ‘\u001b[01m\u001b[Kscanf\u001b[m\u001b[K’, declared with attribute warn_unused_result [\u001b[01;35m\u001b[K-Wunused-result\u001b[m\u001b[K]\n",
            "     \u001b[01;35m\u001b[Kscanf(\"%d\", &start)\u001b[m\u001b[K;\n",
            "     \u001b[01;35m\u001b[K^~~~~~~~~~~~~~~~~~~\u001b[m\u001b[K\n",
            "\u001b[01m\u001b[K./main.c:2253:5:\u001b[m\u001b[K \u001b[01;35m\u001b[Kwarning: \u001b[m\u001b[Kignoring return value of ‘\u001b[01m\u001b[Kscanf\u001b[m\u001b[K’, declared with attribute warn_unused_result [\u001b[01;35m\u001b[K-Wunused-result\u001b[m\u001b[K]\n",
            "     \u001b[01;35m\u001b[Kscanf(\"%d\", &end)\u001b[m\u001b[K;\n",
            "     \u001b[01;35m\u001b[K^~~~~~~~~~~~~~~~~\u001b[m\u001b[K\n",
            "nvcc -DRD_WG_SIZE_0=64 ./kernel/kernel_gpu_cuda_wrapper.cu \\\n",
            "\t\t\t-c \\\n",
            "\t\t\t-o ./kernel/kernel_gpu_cuda_wrapper.o \\\n",
            "\t\t\t-O3 \\\n",
            "\t\t\t-arch sm_75\n",
            "\u001b[01m\u001b[K./kernel/kernel_gpu_cuda_wrapper.cu:\u001b[m\u001b[K In function ‘\u001b[01m\u001b[Kvoid kernel_gpu_cuda_wrapper(record*, long int, knode*, long int, long int, int, long int, int, long int*, long int*, int*, record*)\u001b[m\u001b[K’:\n",
            "\u001b[01m\u001b[K./kernel/kernel_gpu_cuda_wrapper.cu:78:23:\u001b[m\u001b[K \u001b[01;35m\u001b[Kwarning: \u001b[m\u001b[K‘\u001b[01m\u001b[KcudaError_t cudaThreadSynchronize()\u001b[m\u001b[K’ is deprecated [\u001b[01;35m\u001b[K-Wdeprecated-declarations\u001b[m\u001b[K]\n",
            "  cudaThreadSynchronize\u001b[01;35m\u001b[K(\u001b[m\u001b[K);\n",
            "                       \u001b[01;35m\u001b[K^\u001b[m\u001b[K\n",
            "\u001b[01m\u001b[K/usr/local/cuda/bin/../targets/x86_64-linux/include/cuda_runtime_api.h:1011:46:\u001b[m\u001b[K \u001b[01;36m\u001b[Knote: \u001b[m\u001b[Kdeclared here\n",
            " extern __CUDA_DEPRECATED __host__ cudaError_t\u001b[01;36m\u001b[K CUDARTAPI cudaThread\u001b[m\u001b[KSynchronize(void);\n",
            "                                              \u001b[01;36m\u001b[K^~~~~~~~~~~~~~~~~~~~~\u001b[m\u001b[K\n",
            "\u001b[01m\u001b[K./kernel/kernel_gpu_cuda_wrapper.cu:226:23:\u001b[m\u001b[K \u001b[01;35m\u001b[Kwarning: \u001b[m\u001b[K‘\u001b[01m\u001b[KcudaError_t cudaThreadSynchronize()\u001b[m\u001b[K’ is deprecated [\u001b[01;35m\u001b[K-Wdeprecated-declarations\u001b[m\u001b[K]\n",
            "  cudaThreadSynchronize\u001b[01;35m\u001b[K(\u001b[m\u001b[K);\n",
            "                       \u001b[01;35m\u001b[K^\u001b[m\u001b[K\n",
            "\u001b[01m\u001b[K/usr/local/cuda/bin/../targets/x86_64-linux/include/cuda_runtime_api.h:1011:46:\u001b[m\u001b[K \u001b[01;36m\u001b[Knote: \u001b[m\u001b[Kdeclared here\n",
            " extern __CUDA_DEPRECATED __host__ cudaError_t\u001b[01;36m\u001b[K CUDARTAPI cudaThread\u001b[m\u001b[KSynchronize(void);\n",
            "                                              \u001b[01;36m\u001b[K^~~~~~~~~~~~~~~~~~~~~\u001b[m\u001b[K\n",
            "\u001b[01m\u001b[K./kernel/kernel_gpu_cuda_wrapper.cu:268:165:\u001b[m\u001b[K \u001b[01;35m\u001b[Kwarning: \u001b[m\u001b[Kunknown conversion type character ‘\u001b[01m\u001b[K:\u001b[m\u001b[K’ in format [\u001b[01;35m\u001b[K-Wformat=\u001b[m\u001b[K]\n",
            "  printf(\"%15.12f s, %15.12f % : GPU: SET DEVICE / DRIVER INIT\\n\", (float) (time1-time0) / 1000000, (float) (time1-time0) / (float) (time6-time0) * 100);\n",
            "                                                                                                                                                                     \u001b[01;35m\u001b[K^\u001b[m\u001b[K\n",
            "\u001b[01m\u001b[K./kernel/kernel_gpu_cuda_wrapper.cu:269:148:\u001b[m\u001b[K \u001b[01;35m\u001b[Kwarning: \u001b[m\u001b[Kunknown conversion type character ‘\u001b[01m\u001b[K:\u001b[m\u001b[K’ in format [\u001b[01;35m\u001b[K-Wformat=\u001b[m\u001b[K]\n",
            "  printf(\"%15.12f s, %15.12f % : GPU MEM: ALO\\n\",      (float) (time2-time1) / 1000000, (float) (time2-time1) / (float) (time6-time0) * 100);\n",
            "                                                                                                                                                    \u001b[01;35m\u001b[K^\u001b[m\u001b[K\n",
            "\u001b[01m\u001b[K./kernel/kernel_gpu_cuda_wrapper.cu:270:152:\u001b[m\u001b[K \u001b[01;35m\u001b[Kwarning: \u001b[m\u001b[Kunknown conversion type character ‘\u001b[01m\u001b[K:\u001b[m\u001b[K’ in format [\u001b[01;35m\u001b[K-Wformat=\u001b[m\u001b[K]\n",
            "  printf(\"%15.12f s, %15.12f % : GPU MEM: COPY IN\\n\",     (float) (time3-time2) / 1000000, (float) (time3-time2) / (float) (time6-time0) * 100);\n",
            "                                                                                                                                                        \u001b[01;35m\u001b[K^\u001b[m\u001b[K\n",
            "\u001b[01m\u001b[K./kernel/kernel_gpu_cuda_wrapper.cu:272:147:\u001b[m\u001b[K \u001b[01;35m\u001b[Kwarning: \u001b[m\u001b[Kunknown conversion type character ‘\u001b[01m\u001b[K:\u001b[m\u001b[K’ in format [\u001b[01;35m\u001b[K-Wformat=\u001b[m\u001b[K]\n",
            "  printf(\"%15.12f s, %15.12f % : GPU: KERNEL\\n\",      (float) (time4-time3) / 1000000, (float) (time4-time3) / (float) (time6-time0) * 100);\n",
            "                                                                                                                                                   \u001b[01;35m\u001b[K^\u001b[m\u001b[K\n",
            "\u001b[01m\u001b[K./kernel/kernel_gpu_cuda_wrapper.cu:274:153:\u001b[m\u001b[K \u001b[01;35m\u001b[Kwarning: \u001b[m\u001b[Kunknown conversion type character ‘\u001b[01m\u001b[K:\u001b[m\u001b[K’ in format [\u001b[01;35m\u001b[K-Wformat=\u001b[m\u001b[K]\n",
            "  printf(\"%15.12f s, %15.12f % : GPU MEM: COPY OUT\\n\",    (float) (time5-time4) / 1000000, (float) (time5-time4) / (float) (time6-time0) * 100);\n",
            "                                                                                                                                                         \u001b[01;35m\u001b[K^\u001b[m\u001b[K\n",
            "\u001b[01m\u001b[K./kernel/kernel_gpu_cuda_wrapper.cu:275:148:\u001b[m\u001b[K \u001b[01;35m\u001b[Kwarning: \u001b[m\u001b[Kunknown conversion type character ‘\u001b[01m\u001b[K:\u001b[m\u001b[K’ in format [\u001b[01;35m\u001b[K-Wformat=\u001b[m\u001b[K]\n",
            "  printf(\"%15.12f s, %15.12f % : GPU MEM: FRE\\n\",      (float) (time6-time5) / 1000000, (float) (time6-time5) / (float) (time6-time0) * 100);\n",
            "                                                                                                                                                    \u001b[01;35m\u001b[K^\u001b[m\u001b[K\n",
            "nvcc -DRD_WG_SIZE_0=64 ./kernel/kernel_gpu_cuda_wrapper_2.cu \\\n",
            "\t\t\t-c \\\n",
            "\t\t\t-o ./kernel/kernel_gpu_cuda_wrapper_2.o \\\n",
            "\t\t\t-O3 \\\n",
            "\t\t\t-arch sm_75\n",
            "\u001b[01m\u001b[K./kernel/kernel_gpu_cuda_wrapper_2.cu:\u001b[m\u001b[K In function ‘\u001b[01m\u001b[Kvoid kernel_gpu_cuda_wrapper_2(knode*, long int, long int, int, long int, int, long int*, long int*, long int*, long int*, int*, int*, int*, int*)\u001b[m\u001b[K’:\n",
            "\u001b[01m\u001b[K./kernel/kernel_gpu_cuda_wrapper_2.cu:80:23:\u001b[m\u001b[K \u001b[01;35m\u001b[Kwarning: \u001b[m\u001b[K‘\u001b[01m\u001b[KcudaError_t cudaThreadSynchronize()\u001b[m\u001b[K’ is deprecated [\u001b[01;35m\u001b[K-Wdeprecated-declarations\u001b[m\u001b[K]\n",
            "  cudaThreadSynchronize\u001b[01;35m\u001b[K(\u001b[m\u001b[K);\n",
            "                       \u001b[01;35m\u001b[K^\u001b[m\u001b[K\n",
            "\u001b[01m\u001b[K/usr/local/cuda/bin/../targets/x86_64-linux/include/cuda_runtime_api.h:1011:46:\u001b[m\u001b[K \u001b[01;36m\u001b[Knote: \u001b[m\u001b[Kdeclared here\n",
            " extern __CUDA_DEPRECATED __host__ cudaError_t\u001b[01;36m\u001b[K CUDARTAPI cudaThread\u001b[m\u001b[KSynchronize(void);\n",
            "                                              \u001b[01;36m\u001b[K^~~~~~~~~~~~~~~~~~~~~\u001b[m\u001b[K\n",
            "\u001b[01m\u001b[K./kernel/kernel_gpu_cuda_wrapper_2.cu:275:23:\u001b[m\u001b[K \u001b[01;35m\u001b[Kwarning: \u001b[m\u001b[K‘\u001b[01m\u001b[KcudaError_t cudaThreadSynchronize()\u001b[m\u001b[K’ is deprecated [\u001b[01;35m\u001b[K-Wdeprecated-declarations\u001b[m\u001b[K]\n",
            "  cudaThreadSynchronize\u001b[01;35m\u001b[K(\u001b[m\u001b[K);\n",
            "                       \u001b[01;35m\u001b[K^\u001b[m\u001b[K\n",
            "\u001b[01m\u001b[K/usr/local/cuda/bin/../targets/x86_64-linux/include/cuda_runtime_api.h:1011:46:\u001b[m\u001b[K \u001b[01;36m\u001b[Knote: \u001b[m\u001b[Kdeclared here\n",
            " extern __CUDA_DEPRECATED __host__ cudaError_t\u001b[01;36m\u001b[K CUDARTAPI cudaThread\u001b[m\u001b[KSynchronize(void);\n",
            "                                              \u001b[01;36m\u001b[K^~~~~~~~~~~~~~~~~~~~~\u001b[m\u001b[K\n",
            "\u001b[01m\u001b[K./kernel/kernel_gpu_cuda_wrapper_2.cu:327:165:\u001b[m\u001b[K \u001b[01;35m\u001b[Kwarning: \u001b[m\u001b[Kunknown conversion type character ‘\u001b[01m\u001b[K:\u001b[m\u001b[K’ in format [\u001b[01;35m\u001b[K-Wformat=\u001b[m\u001b[K]\n",
            "  printf(\"%15.12f s, %15.12f % : GPU: SET DEVICE / DRIVER INIT\\n\", (float) (time1-time0) / 1000000, (float) (time1-time0) / (float) (time6-time0) * 100);\n",
            "                                                                                                                                                                     \u001b[01;35m\u001b[K^\u001b[m\u001b[K\n",
            "\u001b[01m\u001b[K./kernel/kernel_gpu_cuda_wrapper_2.cu:328:148:\u001b[m\u001b[K \u001b[01;35m\u001b[Kwarning: \u001b[m\u001b[Kunknown conversion type character ‘\u001b[01m\u001b[K:\u001b[m\u001b[K’ in format [\u001b[01;35m\u001b[K-Wformat=\u001b[m\u001b[K]\n",
            "  printf(\"%15.12f s, %15.12f % : GPU MEM: ALO\\n\",      (float) (time2-time1) / 1000000, (float) (time2-time1) / (float) (time6-time0) * 100);\n",
            "                                                                                                                                                    \u001b[01;35m\u001b[K^\u001b[m\u001b[K\n",
            "\u001b[01m\u001b[K./kernel/kernel_gpu_cuda_wrapper_2.cu:329:152:\u001b[m\u001b[K \u001b[01;35m\u001b[Kwarning: \u001b[m\u001b[Kunknown conversion type character ‘\u001b[01m\u001b[K:\u001b[m\u001b[K’ in format [\u001b[01;35m\u001b[K-Wformat=\u001b[m\u001b[K]\n",
            "  printf(\"%15.12f s, %15.12f % : GPU MEM: COPY IN\\n\",     (float) (time3-time2) / 1000000, (float) (time3-time2) / (float) (time6-time0) * 100);\n",
            "                                                                                                                                                        \u001b[01;35m\u001b[K^\u001b[m\u001b[K\n",
            "\u001b[01m\u001b[K./kernel/kernel_gpu_cuda_wrapper_2.cu:331:147:\u001b[m\u001b[K \u001b[01;35m\u001b[Kwarning: \u001b[m\u001b[Kunknown conversion type character ‘\u001b[01m\u001b[K:\u001b[m\u001b[K’ in format [\u001b[01;35m\u001b[K-Wformat=\u001b[m\u001b[K]\n",
            "  printf(\"%15.12f s, %15.12f % : GPU: KERNEL\\n\",      (float) (time4-time3) / 1000000, (float) (time4-time3) / (float) (time6-time0) * 100);\n",
            "                                                                                                                                                   \u001b[01;35m\u001b[K^\u001b[m\u001b[K\n",
            "\u001b[01m\u001b[K./kernel/kernel_gpu_cuda_wrapper_2.cu:333:153:\u001b[m\u001b[K \u001b[01;35m\u001b[Kwarning: \u001b[m\u001b[Kunknown conversion type character ‘\u001b[01m\u001b[K:\u001b[m\u001b[K’ in format [\u001b[01;35m\u001b[K-Wformat=\u001b[m\u001b[K]\n",
            "  printf(\"%15.12f s, %15.12f % : GPU MEM: COPY OUT\\n\",    (float) (time5-time4) / 1000000, (float) (time5-time4) / (float) (time6-time0) * 100);\n",
            "                                                                                                                                                         \u001b[01;35m\u001b[K^\u001b[m\u001b[K\n",
            "\u001b[01m\u001b[K./kernel/kernel_gpu_cuda_wrapper_2.cu:334:148:\u001b[m\u001b[K \u001b[01;35m\u001b[Kwarning: \u001b[m\u001b[Kunknown conversion type character ‘\u001b[01m\u001b[K:\u001b[m\u001b[K’ in format [\u001b[01;35m\u001b[K-Wformat=\u001b[m\u001b[K]\n",
            "  printf(\"%15.12f s, %15.12f % : GPU MEM: FRE\\n\",      (float) (time6-time5) / 1000000, (float) (time6-time5) / (float) (time6-time0) * 100);\n",
            "                                                                                                                                                    \u001b[01;35m\u001b[K^\u001b[m\u001b[K\n",
            "gcc\t./util/timer/timer.c \\\n",
            "\t\t-c \\\n",
            "\t\t-o ./util/timer/timer.o \\\n",
            "\t\t-O3\n",
            "\u001b[01m\u001b[K./util/timer/timer.c:\u001b[m\u001b[K In function ‘\u001b[01m\u001b[Kget_time\u001b[m\u001b[K’:\n",
            "\u001b[01m\u001b[K./util/timer/timer.c:26:2:\u001b[m\u001b[K \u001b[01;35m\u001b[Kwarning: \u001b[m\u001b[Kimplicit declaration of function ‘\u001b[01m\u001b[Kgettimeofday\u001b[m\u001b[K’; did you mean ‘\u001b[01m\u001b[Kget_time\u001b[m\u001b[K’? [\u001b[01;35m\u001b[K-Wimplicit-function-declaration\u001b[m\u001b[K]\n",
            "  \u001b[01;35m\u001b[Kgettimeofday\u001b[m\u001b[K(&tv, NULL);\n",
            "  \u001b[01;35m\u001b[K^~~~~~~~~~~~\u001b[m\u001b[K\n",
            "  \u001b[32m\u001b[Kget_time\u001b[m\u001b[K\n",
            "gcc\t./util/num/num.c \\\n",
            "\t\t-c \\\n",
            "\t\t-o ./util/num/num.o \\\n",
            "\t\t-O3\n",
            "nvcc\t./util/cuda/cuda.cu \\\n",
            "\t\t\t-c \\\n",
            "\t\t\t-o ./util/cuda/cuda.o \\\n",
            "\t\t\t-O3 \\\n",
            "\t\t\t-arch sm_75\n",
            "gcc\t./main.o \\\n",
            "\t\t./kernel/kernel_gpu_cuda_wrapper.o \\\n",
            "\t\t./kernel/kernel_gpu_cuda_wrapper_2.o \\\n",
            "\t\t./util/timer/timer.o \\\n",
            "\t\t./util/num/num.o \\\n",
            "\t\t./util/cuda/cuda.o \\\n",
            "\t\t-lm \\\n",
            "\t\t-L/usr/local/cuda/lib64 \\\n",
            "\t\t-lcuda -lcudart\\\n",
            "                       -o b+tree.out\n"
          ]
        }
      ]
    },
    {
      "cell_type": "code",
      "source": [
        "!nvprof ./b+tree.out file ../../data/b+tree/mil.txt command ../../data/b+tree/command.txt"
      ],
      "metadata": {
        "colab": {
          "base_uri": "https://localhost:8080/"
        },
        "id": "hNTQ0eHIJ2TQ",
        "outputId": "7494f4f0-6bcb-4773-d9eb-10a6517d4f5b"
      },
      "execution_count": 102,
      "outputs": [
        {
          "output_type": "stream",
          "name": "stdout",
          "text": [
            "WG size of kernel 1 & 2  = 64 \n",
            "==3580== NVPROF is profiling process 3580, command: ./b+tree.out file ../../data/b+tree/mil.txt command ../../data/b+tree/command.txt\n",
            "Selecting device 0\n",
            "Input File: ../../data/b+tree/mil.txt \n",
            "Command File: ../../data/b+tree/command.txt \n",
            "Command Buffer: \n",
            "j 6000 3000\n",
            "k 10000\n",
            "\n",
            "\n",
            "Getting input from file ../../data/b+tree/mil.txt...\n",
            "Transforming data to a GPU suitable structure...\n",
            "Tree transformation took 1.510372\n",
            "Waiting for command\n",
            "> \n",
            "******command: j count=6000, rSize=6000 \n",
            "knodes_elem=32257, knodes_unit_mem=532, knodes_mem=17160724\n",
            "# of blocks = 6000, # of threads/block = 64 (ensure that device can handle)\n",
            "Time spent in different stages of GPU_CUDA KERNEL:\n",
            " 0.310860008001 s, 98.328918457031 % : GPU: SET DEVICE / DRIVER INIT\n",
            " 0.000288999989 s,  0.091414324939 % : GPU MEM: ALO\n",
            " 0.003872999921 s,  1.225078463554 % : GPU MEM: COPY IN\n",
            " 0.000148000006 s,  0.046814259142 % : GPU: KERNEL\n",
            " 0.000043000000 s,  0.013601439074 % : GPU MEM: COPY OUT\n",
            " 0.000929999980 s,  0.294170677662 % : GPU MEM: FRE\n",
            "Total time:\n",
            "0.316143006086 s\n",
            "> > > > > > > > > > > > \n",
            " ******command: k count=10000 \n",
            "records_elem=1000000, records_unit_mem=4, records_mem=4000000\n",
            "knodes_elem=32257, knodes_unit_mem=532, knodes_mem=17160724\n",
            "# of blocks = 10000, # of threads/block = 64 (ensure that device can handle)\n",
            "Time spent in different stages of GPU_CUDA KERNEL:\n",
            " 0.000028000000 s,  0.406504034996 % : GPU: SET DEVICE / DRIVER INIT\n",
            " 0.000358999998 s,  5.211962699890 % : GPU MEM: ALO\n",
            " 0.005193000194 s, 75.391983032227 % : GPU MEM: COPY IN\n",
            " 0.000150000007 s,  2.177700519562 % : GPU: KERNEL\n",
            " 0.000028000000 s,  0.406504034996 % : GPU MEM: COPY OUT\n",
            " 0.001129999990 s, 16.405342102051 % : GPU MEM: FRE\n",
            "Total time:\n",
            "0.006887999829 s\n",
            "> > > > > > > > > > \n",
            "==3580== Profiling application: ./b+tree.out file ../../data/b+tree/mil.txt command ../../data/b+tree/command.txt\n",
            "==3580== Profiling result:\n",
            "            Type  Time(%)      Time     Calls       Avg       Min       Max  Name\n",
            " GPU activities:   97.00%  8.0162ms        15  534.41us  3.6480us  3.7578ms  [CUDA memcpy HtoD]\n",
            "                    1.50%  124.35us         1  124.35us  124.35us  124.35us  findK\n",
            "                    1.32%  109.12us         1  109.12us  109.12us  109.12us  findRangeK\n",
            "                    0.17%  14.079us         3  4.6930us  4.1280us  5.3760us  [CUDA memcpy DtoH]\n",
            "      API calls:   96.15%  311.08ms         4  77.769ms  10.997us  310.83ms  cudaThreadSynchronize\n",
            "                    2.82%  9.1110ms        18  506.17us  17.423us  4.0564ms  cudaMemcpy\n",
            "                    0.64%  2.0557ms        15  137.05us  2.2390us  796.77us  cudaFree\n",
            "                    0.20%  632.05us        15  42.136us  2.4850us  167.58us  cudaMalloc\n",
            "                    0.11%  357.90us         1  357.90us  357.90us  357.90us  cuDeviceTotalMem\n",
            "                    0.05%  170.29us       101  1.6860us     128ns  69.066us  cuDeviceGetAttribute\n",
            "                    0.02%  56.284us         2  28.142us  23.095us  33.189us  cudaLaunchKernel\n",
            "                    0.01%  32.942us         1  32.942us  32.942us  32.942us  cuDeviceGetName\n",
            "                    0.00%  11.063us        35     316ns     149ns  1.3760us  cudaGetLastError\n",
            "                    0.00%  5.4420us         1  5.4420us  5.4420us  5.4420us  cuDeviceGetPCIBusId\n",
            "                    0.00%  4.8750us         1  4.8750us  4.8750us  4.8750us  cudaSetDevice\n",
            "                    0.00%  1.6530us         3     551ns     190ns  1.0100us  cuDeviceGetCount\n",
            "                    0.00%  1.3600us         2     680ns     294ns  1.0660us  cuDeviceGet\n",
            "                    0.00%     277ns         1     277ns     277ns     277ns  cuDeviceGetUuid\n"
          ]
        }
      ]
    },
    {
      "cell_type": "markdown",
      "source": [
        "## 2) b+tree_omp\n",
        "No necessary changes in makefile."
      ],
      "metadata": {
        "id": "9aXHP9QxPsf-"
      }
    },
    {
      "cell_type": "code",
      "source": [
        "%cd '/content/drive/MyDrive/Colab Notebooks/DD2360/rodinia_3.1/openmp/b+tree'\n",
        "!ls"
      ],
      "metadata": {
        "colab": {
          "base_uri": "https://localhost:8080/"
        },
        "id": "1nKb2bghP4s8",
        "outputId": "e45278d7-0e57-41f6-f3a7-00dd6dc647e6"
      },
      "execution_count": 103,
      "outputs": [
        {
          "output_type": "stream",
          "name": "stdout",
          "text": [
            "/content/drive/MyDrive/Colab Notebooks/DD2360/rodinia_3.1/openmp/b+tree\n",
            "common.h  kernel  main.c  main.h  Makefile  penmp  run\tutil\n"
          ]
        }
      ]
    },
    {
      "cell_type": "code",
      "source": [
        "!make clean\n",
        "!make"
      ],
      "metadata": {
        "colab": {
          "base_uri": "https://localhost:8080/"
        },
        "id": "IaMwKzGwP4vl",
        "outputId": "b618847a-b45d-4d6f-a003-e22cf7716cc5"
      },
      "execution_count": 104,
      "outputs": [
        {
          "output_type": "stream",
          "name": "stdout",
          "text": [
            "rm\t*.o *.out \\\n",
            "\t./kernel/*.o \\\n",
            "\t./util/timer/*.o \\\n",
            "\t./util/num/*.o \\\n",
            "                output.txt\n",
            "rm: cannot remove '*.o': No such file or directory\n",
            "rm: cannot remove '*.out': No such file or directory\n",
            "rm: cannot remove './kernel/*.o': No such file or directory\n",
            "rm: cannot remove './util/timer/*.o': No such file or directory\n",
            "rm: cannot remove './util/num/*.o': No such file or directory\n",
            "rm: cannot remove 'output.txt': No such file or directory\n",
            "Makefile:89: recipe for target 'clean' failed\n",
            "make: *** [clean] Error 1\n",
            "gcc\t./main.c \\\n",
            "\t\t-c \\\n",
            "\t\t-o ./main.o \\\n",
            "\t\t-O3\n",
            "\u001b[01m\u001b[K./main.c:\u001b[m\u001b[K In function ‘\u001b[01m\u001b[Ktransform_to_cuda\u001b[m\u001b[K’:\n",
            "\u001b[01m\u001b[K./main.c:652:2:\u001b[m\u001b[K \u001b[01;35m\u001b[Kwarning: \u001b[m\u001b[Kimplicit declaration of function ‘\u001b[01m\u001b[Kgettimeofday\u001b[m\u001b[K’; did you mean ‘\u001b[01m\u001b[Kget_time\u001b[m\u001b[K’? [\u001b[01;35m\u001b[K-Wimplicit-function-declaration\u001b[m\u001b[K]\n",
            "  \u001b[01;35m\u001b[Kgettimeofday\u001b[m\u001b[K (&one, NULL);\n",
            "  \u001b[01;35m\u001b[K^~~~~~~~~~~~\u001b[m\u001b[K\n",
            "  \u001b[32m\u001b[Kget_time\u001b[m\u001b[K\n",
            "\u001b[01m\u001b[K./main.c:737:34:\u001b[m\u001b[K \u001b[01;35m\u001b[Kwarning: \u001b[m\u001b[Kformat ‘\u001b[01m\u001b[K%d\u001b[m\u001b[K’ expects argument of type ‘\u001b[01m\u001b[Kint\u001b[m\u001b[K’, but argument 2 has type ‘\u001b[01m\u001b[Klong int\u001b[m\u001b[K’ [\u001b[01;35m\u001b[K-Wformat=\u001b[m\u001b[K]\n",
            "   printf(\"\\nNumber of records = \u001b[01;35m\u001b[K%d\u001b[m\u001b[K, sizeof(record)=%d, total=%d\\n\",size,sizeof(record),size*sizeof(record));\n",
            "                                 \u001b[01;35m\u001b[K~^\u001b[m\u001b[K\n",
            "                                 \u001b[32m\u001b[K%ld\u001b[m\u001b[K\n",
            "\u001b[01m\u001b[K./main.c:737:53:\u001b[m\u001b[K \u001b[01;35m\u001b[Kwarning: \u001b[m\u001b[Kformat ‘\u001b[01m\u001b[K%d\u001b[m\u001b[K’ expects argument of type ‘\u001b[01m\u001b[Kint\u001b[m\u001b[K’, but argument 3 has type ‘\u001b[01m\u001b[Klong unsigned int\u001b[m\u001b[K’ [\u001b[01;35m\u001b[K-Wformat=\u001b[m\u001b[K]\n",
            "   printf(\"\\nNumber of records = %d, sizeof(record)=\u001b[01;35m\u001b[K%d\u001b[m\u001b[K, total=%d\\n\",size,sizeof(record),size*sizeof(record));\n",
            "                                                    \u001b[01;35m\u001b[K~^\u001b[m\u001b[K\n",
            "                                                    \u001b[32m\u001b[K%ld\u001b[m\u001b[K\n",
            "\u001b[01m\u001b[K./main.c:737:63:\u001b[m\u001b[K \u001b[01;35m\u001b[Kwarning: \u001b[m\u001b[Kformat ‘\u001b[01m\u001b[K%d\u001b[m\u001b[K’ expects argument of type ‘\u001b[01m\u001b[Kint\u001b[m\u001b[K’, but argument 4 has type ‘\u001b[01m\u001b[Klong unsigned int\u001b[m\u001b[K’ [\u001b[01;35m\u001b[K-Wformat=\u001b[m\u001b[K]\n",
            "   printf(\"\\nNumber of records = %d, sizeof(record)=%d, total=\u001b[01;35m\u001b[K%d\u001b[m\u001b[K\\n\",size,sizeof(record),\u001b[32m\u001b[Ksize*sizeof(record)\u001b[m\u001b[K);\n",
            "                                                              \u001b[01;35m\u001b[K~^\u001b[m\u001b[K                        \u001b[32m\u001b[K~~~~~~~~~~~~~~~~~~~\u001b[m\u001b[K\n",
            "                                                              \u001b[32m\u001b[K%ld\u001b[m\u001b[K\n",
            "\u001b[01m\u001b[K./main.c:738:31:\u001b[m\u001b[K \u001b[01;35m\u001b[Kwarning: \u001b[m\u001b[Kformat ‘\u001b[01m\u001b[K%d\u001b[m\u001b[K’ expects argument of type ‘\u001b[01m\u001b[Kint\u001b[m\u001b[K’, but argument 2 has type ‘\u001b[01m\u001b[Klong int\u001b[m\u001b[K’ [\u001b[01;35m\u001b[K-Wformat=\u001b[m\u001b[K]\n",
            "   printf(\"Number of knodes = \u001b[01;35m\u001b[K%d\u001b[m\u001b[K, sizeof(knode)=%d, total=%d\\n\",nodeindex,sizeof(knode),(nodeindex)*sizeof(knode));\n",
            "                              \u001b[01;35m\u001b[K~^\u001b[m\u001b[K\n",
            "                              \u001b[32m\u001b[K%ld\u001b[m\u001b[K\n",
            "\u001b[01m\u001b[K./main.c:738:49:\u001b[m\u001b[K \u001b[01;35m\u001b[Kwarning: \u001b[m\u001b[Kformat ‘\u001b[01m\u001b[K%d\u001b[m\u001b[K’ expects argument of type ‘\u001b[01m\u001b[Kint\u001b[m\u001b[K’, but argument 3 has type ‘\u001b[01m\u001b[Klong unsigned int\u001b[m\u001b[K’ [\u001b[01;35m\u001b[K-Wformat=\u001b[m\u001b[K]\n",
            "   printf(\"Number of knodes = %d, sizeof(knode)=\u001b[01;35m\u001b[K%d\u001b[m\u001b[K, total=%d\\n\",nodeindex,sizeof(knode),(nodeindex)*sizeof(knode));\n",
            "                                                \u001b[01;35m\u001b[K~^\u001b[m\u001b[K\n",
            "                                                \u001b[32m\u001b[K%ld\u001b[m\u001b[K\n",
            "\u001b[01m\u001b[K./main.c:738:59:\u001b[m\u001b[K \u001b[01;35m\u001b[Kwarning: \u001b[m\u001b[Kformat ‘\u001b[01m\u001b[K%d\u001b[m\u001b[K’ expects argument of type ‘\u001b[01m\u001b[Kint\u001b[m\u001b[K’, but argument 4 has type ‘\u001b[01m\u001b[Klong unsigned int\u001b[m\u001b[K’ [\u001b[01;35m\u001b[K-Wformat=\u001b[m\u001b[K]\n",
            "   printf(\"Number of knodes = %d, sizeof(knode)=%d, total=\u001b[01;35m\u001b[K%d\u001b[m\u001b[K\\n\",nodeindex,sizeof(knode),\u001b[32m\u001b[K(nodeindex)*sizeof(knode)\u001b[m\u001b[K);\n",
            "                                                          \u001b[01;35m\u001b[K~^\u001b[m\u001b[K                            \u001b[32m\u001b[K~~~~~~~~~~~~~~~~~~~~~~~~~\u001b[m\u001b[K\n",
            "                                                          \u001b[32m\u001b[K%ld\u001b[m\u001b[K\n",
            "\u001b[01m\u001b[K./main.c:739:45:\u001b[m\u001b[K \u001b[01;35m\u001b[Kwarning: \u001b[m\u001b[Kformat ‘\u001b[01m\u001b[K%d\u001b[m\u001b[K’ expects argument of type ‘\u001b[01m\u001b[Kint\u001b[m\u001b[K’, but argument 2 has type ‘\u001b[01m\u001b[Klong int\u001b[m\u001b[K’ [\u001b[01;35m\u001b[K-Wformat=\u001b[m\u001b[K]\n",
            "   printf(\"\\nDone Transformation. Mem used: \u001b[01;35m\u001b[K%d\u001b[m\u001b[K\\n\", mem_used);\n",
            "                                            \u001b[01;35m\u001b[K~^\u001b[m\u001b[K\n",
            "                                            \u001b[32m\u001b[K%ld\u001b[m\u001b[K\n",
            "\u001b[01m\u001b[K./main.c:\u001b[m\u001b[K In function ‘\u001b[01m\u001b[Kprint_tree\u001b[m\u001b[K’:\n",
            "\u001b[01m\u001b[K./main.c:930:13:\u001b[m\u001b[K \u001b[01;35m\u001b[Kwarning: \u001b[m\u001b[Kformat ‘\u001b[01m\u001b[K%x\u001b[m\u001b[K’ expects argument of type ‘\u001b[01m\u001b[Kunsigned int\u001b[m\u001b[K’, but argument 2 has type ‘\u001b[01m\u001b[Knode * {aka struct node *}\u001b[m\u001b[K’ [\u001b[01;35m\u001b[K-Wformat=\u001b[m\u001b[K]\n",
            "   printf(\"(\u001b[01;35m\u001b[K%x\u001b[m\u001b[K)\", n);\n",
            "            \u001b[01;35m\u001b[K~^\u001b[m\u001b[K\n",
            "\u001b[01m\u001b[K./main.c:933:13:\u001b[m\u001b[K \u001b[01;35m\u001b[Kwarning: \u001b[m\u001b[Kformat ‘\u001b[01m\u001b[K%x\u001b[m\u001b[K’ expects argument of type ‘\u001b[01m\u001b[Kunsigned int\u001b[m\u001b[K’, but argument 2 has type ‘\u001b[01m\u001b[Kvoid *\u001b[m\u001b[K’ [\u001b[01;35m\u001b[K-Wformat=\u001b[m\u001b[K]\n",
            "    printf(\"\u001b[01;35m\u001b[K%x\u001b[m\u001b[K \", \u001b[32m\u001b[Kn->pointers[i]\u001b[m\u001b[K);\n",
            "            \u001b[01;35m\u001b[K~^\u001b[m\u001b[K    \u001b[32m\u001b[K~~~~~~~~~~~~~~\u001b[m\u001b[K\n",
            "            \u001b[32m\u001b[K%p\u001b[m\u001b[K\n",
            "\u001b[01m\u001b[K./main.c:941:13:\u001b[m\u001b[K \u001b[01;35m\u001b[Kwarning: \u001b[m\u001b[Kformat ‘\u001b[01m\u001b[K%x\u001b[m\u001b[K’ expects argument of type ‘\u001b[01m\u001b[Kunsigned int\u001b[m\u001b[K’, but argument 2 has type ‘\u001b[01m\u001b[Kvoid *\u001b[m\u001b[K’ [\u001b[01;35m\u001b[K-Wformat=\u001b[m\u001b[K]\n",
            "    printf(\"\u001b[01;35m\u001b[K%x\u001b[m\u001b[K \", \u001b[32m\u001b[Kn->pointers[order - 1]\u001b[m\u001b[K);\n",
            "            \u001b[01;35m\u001b[K~^\u001b[m\u001b[K    \u001b[32m\u001b[K~~~~~~~~~~~~~~~~~~~~~~\u001b[m\u001b[K\n",
            "            \u001b[32m\u001b[K%p\u001b[m\u001b[K\n",
            "\u001b[01m\u001b[K./main.c:943:13:\u001b[m\u001b[K \u001b[01;35m\u001b[Kwarning: \u001b[m\u001b[Kformat ‘\u001b[01m\u001b[K%x\u001b[m\u001b[K’ expects argument of type ‘\u001b[01m\u001b[Kunsigned int\u001b[m\u001b[K’, but argument 2 has type ‘\u001b[01m\u001b[Kvoid *\u001b[m\u001b[K’ [\u001b[01;35m\u001b[K-Wformat=\u001b[m\u001b[K]\n",
            "    printf(\"\u001b[01;35m\u001b[K%x\u001b[m\u001b[K \", \u001b[32m\u001b[Kn->pointers[n->num_keys]\u001b[m\u001b[K);\n",
            "            \u001b[01;35m\u001b[K~^\u001b[m\u001b[K    \u001b[32m\u001b[K~~~~~~~~~~~~~~~~~~~~~~~~\u001b[m\u001b[K\n",
            "            \u001b[32m\u001b[K%p\u001b[m\u001b[K\n",
            "\u001b[01m\u001b[K./main.c:\u001b[m\u001b[K In function ‘\u001b[01m\u001b[Kmain\u001b[m\u001b[K’:\n",
            "\u001b[01m\u001b[K./main.c:1948:37:\u001b[m\u001b[K \u001b[01;35m\u001b[Kwarning: \u001b[m\u001b[Kpassing argument 2 of ‘\u001b[01m\u001b[Kfputs\u001b[m\u001b[K’ from incompatible pointer type [\u001b[01;35m\u001b[K-Wincompatible-pointer-types\u001b[m\u001b[K]\n",
            "        fputs (\"Fail to open %s !\\n\",\u001b[01;35m\u001b[Koutput\u001b[m\u001b[K);\n",
            "                                     \u001b[01;35m\u001b[K^~~~~~\u001b[m\u001b[K\n",
            "In file included from \u001b[01m\u001b[K./main.c:60:0\u001b[m\u001b[K:\n",
            "\u001b[01m\u001b[K/usr/include/stdio.h:626:12:\u001b[m\u001b[K \u001b[01;36m\u001b[Knote: \u001b[m\u001b[Kexpected ‘\u001b[01m\u001b[KFILE * restrict {aka struct _IO_FILE * restrict}\u001b[m\u001b[K’ but argument is of type ‘\u001b[01m\u001b[Kchar *\u001b[m\u001b[K’\n",
            " extern int \u001b[01;36m\u001b[Kfputs\u001b[m\u001b[K (const char *__restrict __s, FILE *__restrict __stream);\n",
            "            \u001b[01;36m\u001b[K^~~~~\u001b[m\u001b[K\n",
            "\u001b[01m\u001b[K./main.c:2139:48:\u001b[m\u001b[K \u001b[01;35m\u001b[Kwarning: \u001b[m\u001b[Kcomparison between pointer and integer\n",
            "     while(*commandPointer!=32 && commandPointer\u001b[01;35m\u001b[K!=\u001b[m\u001b[K'\\n')\n",
            "                                                \u001b[01;35m\u001b[K^~\u001b[m\u001b[K\n",
            "\u001b[01m\u001b[K./main.c:2218:38:\u001b[m\u001b[K \u001b[01;35m\u001b[Kwarning: \u001b[m\u001b[Kpassing argument 2 of ‘\u001b[01m\u001b[Kfputs\u001b[m\u001b[K’ from incompatible pointer type [\u001b[01;35m\u001b[K-Wincompatible-pointer-types\u001b[m\u001b[K]\n",
            "         fputs (\"Fail to open %s !\\n\",\u001b[01;35m\u001b[Koutput\u001b[m\u001b[K);\n",
            "                                      \u001b[01;35m\u001b[K^~~~~~\u001b[m\u001b[K\n",
            "In file included from \u001b[01m\u001b[K./main.c:60:0\u001b[m\u001b[K:\n",
            "\u001b[01m\u001b[K/usr/include/stdio.h:626:12:\u001b[m\u001b[K \u001b[01;36m\u001b[Knote: \u001b[m\u001b[Kexpected ‘\u001b[01m\u001b[KFILE * restrict {aka struct _IO_FILE * restrict}\u001b[m\u001b[K’ but argument is of type ‘\u001b[01m\u001b[Kchar *\u001b[m\u001b[K’\n",
            " extern int \u001b[01;36m\u001b[Kfputs\u001b[m\u001b[K (const char *__restrict __s, FILE *__restrict __stream);\n",
            "            \u001b[01;36m\u001b[K^~~~~\u001b[m\u001b[K\n",
            "\u001b[01m\u001b[K./main.c:2272:48:\u001b[m\u001b[K \u001b[01;35m\u001b[Kwarning: \u001b[m\u001b[Kcomparison between pointer and integer\n",
            "     while(*commandPointer!=32 && commandPointer\u001b[01;35m\u001b[K!=\u001b[m\u001b[K'\\n')\n",
            "                                                \u001b[01;35m\u001b[K^~\u001b[m\u001b[K\n",
            "\u001b[01m\u001b[K./main.c:2277:48:\u001b[m\u001b[K \u001b[01;35m\u001b[Kwarning: \u001b[m\u001b[Kcomparison between pointer and integer\n",
            "     while(*commandPointer!=32 && commandPointer\u001b[01;35m\u001b[K!=\u001b[m\u001b[K'\\n')\n",
            "                                                \u001b[01;35m\u001b[K^~\u001b[m\u001b[K\n",
            "\u001b[01m\u001b[K./main.c:2374:38:\u001b[m\u001b[K \u001b[01;35m\u001b[Kwarning: \u001b[m\u001b[Kpassing argument 2 of ‘\u001b[01m\u001b[Kfputs\u001b[m\u001b[K’ from incompatible pointer type [\u001b[01;35m\u001b[K-Wincompatible-pointer-types\u001b[m\u001b[K]\n",
            "         fputs (\"Fail to open %s !\\n\",\u001b[01;35m\u001b[Koutput\u001b[m\u001b[K);\n",
            "                                      \u001b[01;35m\u001b[K^~~~~~\u001b[m\u001b[K\n",
            "In file included from \u001b[01m\u001b[K./main.c:60:0\u001b[m\u001b[K:\n",
            "\u001b[01m\u001b[K/usr/include/stdio.h:626:12:\u001b[m\u001b[K \u001b[01;36m\u001b[Knote: \u001b[m\u001b[Kexpected ‘\u001b[01m\u001b[KFILE * restrict {aka struct _IO_FILE * restrict}\u001b[m\u001b[K’ but argument is of type ‘\u001b[01m\u001b[Kchar *\u001b[m\u001b[K’\n",
            " extern int \u001b[01;36m\u001b[Kfputs\u001b[m\u001b[K (const char *__restrict __s, FILE *__restrict __stream);\n",
            "            \u001b[01;36m\u001b[K^~~~~\u001b[m\u001b[K\n",
            "\u001b[01m\u001b[K./main.c:1985:3:\u001b[m\u001b[K \u001b[01;35m\u001b[Kwarning: \u001b[m\u001b[Kignoring return value of ‘\u001b[01m\u001b[Kfscanf\u001b[m\u001b[K’, declared with attribute warn_unused_result [\u001b[01;35m\u001b[K-Wunused-result\u001b[m\u001b[K]\n",
            "   \u001b[01;35m\u001b[Kfscanf(file_pointer, \"%d\\n\", &input)\u001b[m\u001b[K;\n",
            "   \u001b[01;35m\u001b[K^~~~~~~~~~~~~~~~~~~~~~~~~~~~~~~~~~~~\u001b[m\u001b[K\n",
            "\u001b[01m\u001b[K./main.c:1990:4:\u001b[m\u001b[K \u001b[01;35m\u001b[Kwarning: \u001b[m\u001b[Kignoring return value of ‘\u001b[01m\u001b[Kfscanf\u001b[m\u001b[K’, declared with attribute warn_unused_result [\u001b[01;35m\u001b[K-Wunused-result\u001b[m\u001b[K]\n",
            "    \u001b[01;35m\u001b[Kfscanf(file_pointer, \"%d\\n\", &input)\u001b[m\u001b[K;\n",
            "    \u001b[01;35m\u001b[K^~~~~~~~~~~~~~~~~~~~~~~~~~~~~~~~~~~~\u001b[m\u001b[K\n",
            "\u001b[01m\u001b[K./main.c:2030:5:\u001b[m\u001b[K \u001b[01;35m\u001b[Kwarning: \u001b[m\u001b[Kignoring return value of ‘\u001b[01m\u001b[Kscanf\u001b[m\u001b[K’, declared with attribute warn_unused_result [\u001b[01;35m\u001b[K-Wunused-result\u001b[m\u001b[K]\n",
            "     \u001b[01;35m\u001b[Kscanf(\"%d\", &input)\u001b[m\u001b[K;\n",
            "     \u001b[01;35m\u001b[K^~~~~~~~~~~~~~~~~~~\u001b[m\u001b[K\n",
            "\u001b[01m\u001b[K./main.c:2051:5:\u001b[m\u001b[K \u001b[01;35m\u001b[Kwarning: \u001b[m\u001b[Kignoring return value of ‘\u001b[01m\u001b[Kscanf\u001b[m\u001b[K’, declared with attribute warn_unused_result [\u001b[01;35m\u001b[K-Wunused-result\u001b[m\u001b[K]\n",
            "     \u001b[01;35m\u001b[Kscanf(\"%d\", &input)\u001b[m\u001b[K;\n",
            "     \u001b[01;35m\u001b[K^~~~~~~~~~~~~~~~~~~\u001b[m\u001b[K\n",
            "\u001b[01m\u001b[K./main.c:2067:5:\u001b[m\u001b[K \u001b[01;35m\u001b[Kwarning: \u001b[m\u001b[Kignoring return value of ‘\u001b[01m\u001b[Kscanf\u001b[m\u001b[K’, declared with attribute warn_unused_result [\u001b[01;35m\u001b[K-Wunused-result\u001b[m\u001b[K]\n",
            "     \u001b[01;35m\u001b[Kscanf(\"%d\", &input)\u001b[m\u001b[K;\n",
            "     \u001b[01;35m\u001b[K^~~~~~~~~~~~~~~~~~~\u001b[m\u001b[K\n",
            "\u001b[01m\u001b[K./main.c:2246:5:\u001b[m\u001b[K \u001b[01;35m\u001b[Kwarning: \u001b[m\u001b[Kignoring return value of ‘\u001b[01m\u001b[Kscanf\u001b[m\u001b[K’, declared with attribute warn_unused_result [\u001b[01;35m\u001b[K-Wunused-result\u001b[m\u001b[K]\n",
            "     \u001b[01;35m\u001b[Kscanf(\"%d\", &start)\u001b[m\u001b[K;\n",
            "     \u001b[01;35m\u001b[K^~~~~~~~~~~~~~~~~~~\u001b[m\u001b[K\n",
            "\u001b[01m\u001b[K./main.c:2247:5:\u001b[m\u001b[K \u001b[01;35m\u001b[Kwarning: \u001b[m\u001b[Kignoring return value of ‘\u001b[01m\u001b[Kscanf\u001b[m\u001b[K’, declared with attribute warn_unused_result [\u001b[01;35m\u001b[K-Wunused-result\u001b[m\u001b[K]\n",
            "     \u001b[01;35m\u001b[Kscanf(\"%d\", &end)\u001b[m\u001b[K;\n",
            "     \u001b[01;35m\u001b[K^~~~~~~~~~~~~~~~~\u001b[m\u001b[K\n",
            "gcc\t./kernel/kernel_cpu.c \\\n",
            "\t\t-c \\\n",
            "\t\t-o ./kernel/kernel_cpu.o \\\n",
            "\t\t-O3 \\\n",
            "\t\t-fopenmp\n",
            "\u001b[01m\u001b[K./kernel/kernel_cpu.c:\u001b[m\u001b[K In function ‘\u001b[01m\u001b[Kkernel_cpu\u001b[m\u001b[K’:\n",
            "\u001b[01m\u001b[K./kernel/kernel_cpu.c:133:31:\u001b[m\u001b[K \u001b[01;35m\u001b[Kwarning: \u001b[m\u001b[Kunknown conversion type character ‘\u001b[01m\u001b[K:\u001b[m\u001b[K’ in format [\u001b[01;35m\u001b[K-Wformat=\u001b[m\u001b[K]\n",
            "  printf(\"%15.12f s, %15.12f % \u001b[01;35m\u001b[K:\u001b[m\u001b[K MCPU: SET DEVICE\\n\",     (float) (time1-time0) / 1000000, (float) (time1-time0) / (float) (time2-time0) * 100);\n",
            "                               \u001b[01;35m\u001b[K^\u001b[m\u001b[K\n",
            "\u001b[01m\u001b[K./kernel/kernel_cpu.c:134:31:\u001b[m\u001b[K \u001b[01;35m\u001b[Kwarning: \u001b[m\u001b[Kunknown conversion type character ‘\u001b[01m\u001b[K:\u001b[m\u001b[K’ in format [\u001b[01;35m\u001b[K-Wformat=\u001b[m\u001b[K]\n",
            "  printf(\"%15.12f s, %15.12f % \u001b[01;35m\u001b[K:\u001b[m\u001b[K CPU/MCPU: KERNEL\\n\",     (float) (time2-time1) / 1000000, (float) (time2-time1) / (float) (time2-time0) * 100);\n",
            "                               \u001b[01;35m\u001b[K^\u001b[m\u001b[K\n",
            "gcc\t./kernel/kernel_cpu_2.c \\\n",
            "\t\t-c \\\n",
            "\t\t-o ./kernel/kernel_cpu_2.o \\\n",
            "\t\t-O3 \\\n",
            "\t\t-fopenmp\n",
            "\u001b[01m\u001b[K./kernel/kernel_cpu_2.c:\u001b[m\u001b[K In function ‘\u001b[01m\u001b[Kkernel_cpu_2\u001b[m\u001b[K’:\n",
            "\u001b[01m\u001b[K./kernel/kernel_cpu_2.c:158:2:\u001b[m\u001b[K \u001b[01;35m\u001b[Kwarning: \u001b[m\u001b[Kimplicit declaration of function ‘\u001b[01m\u001b[Kprintf\u001b[m\u001b[K’ [\u001b[01;35m\u001b[K-Wimplicit-function-declaration\u001b[m\u001b[K]\n",
            "  \u001b[01;35m\u001b[Kprintf\u001b[m\u001b[K(\"Time spent in different stages of CPU/MCPU KERNEL:\\n\");\n",
            "  \u001b[01;35m\u001b[K^~~~~~\u001b[m\u001b[K\n",
            "\u001b[01m\u001b[K./kernel/kernel_cpu_2.c:158:2:\u001b[m\u001b[K \u001b[01;35m\u001b[Kwarning: \u001b[m\u001b[Kincompatible implicit declaration of built-in function ‘\u001b[01m\u001b[Kprintf\u001b[m\u001b[K’\n",
            "\u001b[01m\u001b[K./kernel/kernel_cpu_2.c:158:2:\u001b[m\u001b[K \u001b[01;36m\u001b[Knote: \u001b[m\u001b[Kinclude ‘\u001b[01m\u001b[K<stdio.h>\u001b[m\u001b[K’ or provide a declaration of ‘\u001b[01m\u001b[Kprintf\u001b[m\u001b[K’\n",
            "\u001b[01m\u001b[K./kernel/kernel_cpu_2.c:160:31:\u001b[m\u001b[K \u001b[01;35m\u001b[Kwarning: \u001b[m\u001b[Kunknown conversion type character ‘\u001b[01m\u001b[K:\u001b[m\u001b[K’ in format [\u001b[01;35m\u001b[K-Wformat=\u001b[m\u001b[K]\n",
            "  printf(\"%15.12f s, %15.12f % \u001b[01;35m\u001b[K:\u001b[m\u001b[K MCPU: SET DEVICE\\n\",     (float) (time1-time0) / 1000000, (float) (time1-time0) / (float) (time2-time0) * 100);\n",
            "                               \u001b[01;35m\u001b[K^\u001b[m\u001b[K\n",
            "\u001b[01m\u001b[K./kernel/kernel_cpu_2.c:161:31:\u001b[m\u001b[K \u001b[01;35m\u001b[Kwarning: \u001b[m\u001b[Kunknown conversion type character ‘\u001b[01m\u001b[K:\u001b[m\u001b[K’ in format [\u001b[01;35m\u001b[K-Wformat=\u001b[m\u001b[K]\n",
            "  printf(\"%15.12f s, %15.12f % \u001b[01;35m\u001b[K:\u001b[m\u001b[K CPU/MCPU: KERNEL\\n\",     (float) (time2-time1) / 1000000, (float) (time2-time1) / (float) (time2-time0) * 100);\n",
            "                               \u001b[01;35m\u001b[K^\u001b[m\u001b[K\n",
            "gcc\t./util/timer/timer.c \\\n",
            "\t\t-c \\\n",
            "\t\t-o ./util/timer/timer.o \\\n",
            "\t\t-O3\n",
            "\u001b[01m\u001b[K./util/timer/timer.c:\u001b[m\u001b[K In function ‘\u001b[01m\u001b[Kget_time\u001b[m\u001b[K’:\n",
            "\u001b[01m\u001b[K./util/timer/timer.c:26:2:\u001b[m\u001b[K \u001b[01;35m\u001b[Kwarning: \u001b[m\u001b[Kimplicit declaration of function ‘\u001b[01m\u001b[Kgettimeofday\u001b[m\u001b[K’; did you mean ‘\u001b[01m\u001b[Kget_time\u001b[m\u001b[K’? [\u001b[01;35m\u001b[K-Wimplicit-function-declaration\u001b[m\u001b[K]\n",
            "  \u001b[01;35m\u001b[Kgettimeofday\u001b[m\u001b[K(&tv, NULL);\n",
            "  \u001b[01;35m\u001b[K^~~~~~~~~~~~\u001b[m\u001b[K\n",
            "  \u001b[32m\u001b[Kget_time\u001b[m\u001b[K\n",
            "gcc\t./util/num/num.c \\\n",
            "\t\t-c \\\n",
            "\t\t-o ./util/num/num.o \\\n",
            "\t\t-O3\n",
            "gcc\t./main.o \\\n",
            "\t\t./kernel/kernel_cpu.o \\\n",
            "\t\t./kernel/kernel_cpu_2.o \\\n",
            "\t\t./util/timer/timer.o \\\n",
            "\t\t./util/num/num.o \\\n",
            "\t\t-lm \\\n",
            "\t\t-lgomp \\\n",
            "                        -o b+tree.out\n"
          ]
        }
      ]
    },
    {
      "cell_type": "code",
      "source": [
        "!nvprof ./b+tree.out core 2 file ../../data/b+tree/mil.txt command ../../data/b+tree/command.txt"
      ],
      "metadata": {
        "colab": {
          "base_uri": "https://localhost:8080/"
        },
        "id": "lim-kk7NP44F",
        "outputId": "8f482d75-1c84-4330-8a10-3406bc054fe3"
      },
      "execution_count": 105,
      "outputs": [
        {
          "output_type": "stream",
          "name": "stdout",
          "text": [
            "Input File: ../../data/b+tree/mil.txt \n",
            "Command File: ../../data/b+tree/command.txt \n",
            "Command Buffer: \n",
            "j 6000 3000\n",
            "k 10000\n",
            "\n",
            "\n",
            "Getting input from file core...\n",
            "Transforming data to a GPU suitable structure...\n",
            "Tree transformation took 0.030762\n",
            "Waiting for command\n",
            "> \n",
            "******command: j count=6000, rSize=6000 \n",
            "Time spent in different stages of CPU/MCPU KERNEL:\n",
            " 0.000015000000 s,  0.103906899691 % : MCPU: SET DEVICE\n",
            " 0.014421000145 s, 99.896087646484 % : CPU/MCPU: KERNEL\n",
            "Total time:\n",
            "0.014436000027 s\n",
            "> > > > > > > > > > > > \n",
            " ******command: k count=10000 \n",
            "Time spent in different stages of CPU/MCPU KERNEL:\n",
            " 0.000000000000 s,  0.000000000000 % : MCPU: SET DEVICE\n",
            " 0.014205999672 s, 100.000000000000 % : CPU/MCPU: KERNEL\n",
            "Total time:\n",
            "0.014205999672 s\n",
            "> > > > > > > > > > \n",
            "======== Warning: No profile data collected.\n"
          ]
        }
      ]
    }
  ]
}