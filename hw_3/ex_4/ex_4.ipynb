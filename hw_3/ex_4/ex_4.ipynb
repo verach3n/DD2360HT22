{
  "nbformat": 4,
  "nbformat_minor": 0,
  "metadata": {
    "colab": {
      "provenance": []
    },
    "kernelspec": {
      "name": "python3",
      "display_name": "Python 3"
    },
    "language_info": {
      "name": "python"
    },
    "gpuClass": "standard",
    "accelerator": "GPU"
  },
  "cells": [
    {
      "cell_type": "markdown",
      "source": [
        "Useful links:\n",
        "- https://stackoverflow.com/questions/15431365/cudamemcpy-segmentation-fault\n",
        "- https://stackoverflow.com/questions/31598021/cuda-cudamemcpy-struct-of-arrays"
      ],
      "metadata": {
        "id": "rBBKad2FaCvl"
      }
    },
    {
      "cell_type": "code",
      "source": [
        "!nvcc --version\n",
        "!nvidia-smi"
      ],
      "metadata": {
        "colab": {
          "base_uri": "https://localhost:8080/"
        },
        "id": "OEm6GxLePnsK",
        "outputId": "fae9df63-894d-48a8-b5bc-3c1bbb56b198"
      },
      "execution_count": 1,
      "outputs": [
        {
          "output_type": "stream",
          "name": "stdout",
          "text": [
            "nvcc: NVIDIA (R) Cuda compiler driver\n",
            "Copyright (c) 2005-2021 NVIDIA Corporation\n",
            "Built on Sun_Feb_14_21:12:58_PST_2021\n",
            "Cuda compilation tools, release 11.2, V11.2.152\n",
            "Build cuda_11.2.r11.2/compiler.29618528_0\n",
            "Wed Dec  7 11:03:30 2022       \n",
            "+-----------------------------------------------------------------------------+\n",
            "| NVIDIA-SMI 460.32.03    Driver Version: 460.32.03    CUDA Version: 11.2     |\n",
            "|-------------------------------+----------------------+----------------------+\n",
            "| GPU  Name        Persistence-M| Bus-Id        Disp.A | Volatile Uncorr. ECC |\n",
            "| Fan  Temp  Perf  Pwr:Usage/Cap|         Memory-Usage | GPU-Util  Compute M. |\n",
            "|                               |                      |               MIG M. |\n",
            "|===============================+======================+======================|\n",
            "|   0  Tesla T4            Off  | 00000000:00:04.0 Off |                    0 |\n",
            "| N/A   70C    P0    32W /  70W |      0MiB / 15109MiB |      0%      Default |\n",
            "|                               |                      |                  N/A |\n",
            "+-------------------------------+----------------------+----------------------+\n",
            "                                                                               \n",
            "+-----------------------------------------------------------------------------+\n",
            "| Processes:                                                                  |\n",
            "|  GPU   GI   CI        PID   Type   Process name                  GPU Memory |\n",
            "|        ID   ID                                                   Usage      |\n",
            "|=============================================================================|\n",
            "|  No running processes found                                                 |\n",
            "+-----------------------------------------------------------------------------+\n"
          ]
        }
      ]
    },
    {
      "cell_type": "code",
      "source": [
        "from google.colab import drive\n",
        "drive.mount('/content/drive')\n",
        "%cd '/content/drive/MyDrive/Colab Notebooks/DD2360 Applied GPU Programming KTH/hw_3/ex_4/sputniPIC-DD2360'\n",
        "!ls"
      ],
      "metadata": {
        "id": "_qizZP6dQX85",
        "colab": {
          "base_uri": "https://localhost:8080/"
        },
        "outputId": "c16dfebd-7574-4f67-dd91-1ee887bbe105"
      },
      "execution_count": 2,
      "outputs": [
        {
          "output_type": "stream",
          "name": "stdout",
          "text": [
            "Mounted at /content/drive\n",
            "/content/drive/MyDrive/Colab Notebooks/DD2360 Applied GPU Programming KTH/hw_3/ex_4/sputniPIC-DD2360\n",
            "bin  data  include  inputfiles\tMakefile  src  tmp.txt\n"
          ]
        }
      ]
    },
    {
      "cell_type": "code",
      "source": [
        "#make clean\n",
        "!make all"
      ],
      "metadata": {
        "id": "tDbmJXh06LOk",
        "colab": {
          "base_uri": "https://localhost:8080/"
        },
        "outputId": "b9bb16f6-293a-43a7-ac74-55dde803992e"
      },
      "execution_count": 6,
      "outputs": [
        {
          "output_type": "stream",
          "name": "stdout",
          "text": [
            "nvcc -I./include -arch=sm_75 -std=c++11 -O3 -g -G -Xcompiler -Wall --compiler-bindir=g++ src/Particles.cu -c -o src/Particles.o\n",
            "\u001b[01m\u001b[Ksrc/Particles.cu:6:12:\u001b[m\u001b[K \u001b[01;35m\u001b[Kwarning: \u001b[m\u001b[KISO C++11 requires whitespace after the macro name\n",
            " #define ans\u001b[01;35m\u001b[K)\u001b[m\u001b[K { gpuAssert((ans), __FILE__, __LINE__); }\n",
            "            \u001b[01;35m\u001b[K^\u001b[m\u001b[K\n",
            "\u001b[01m\u001b[Ksrc/Particles.cu:6:12:\u001b[m\u001b[K \u001b[01;35m\u001b[Kwarning: \u001b[m\u001b[KISO C++11 requires whitespace after the macro name\n",
            " #define ans\u001b[01;35m\u001b[K)\u001b[m\u001b[K { gpuAssert((ans), __FILE__, __LINE__); }\n",
            "            \u001b[01;35m\u001b[K^\u001b[m\u001b[K\n",
            "\u001b[01m\u001b[Ksrc/Particles.cu:\u001b[m\u001b[K In function ‘\u001b[01m\u001b[Kint mover_PC(particles*, EMfield*, grid*, parameters*)\u001b[m\u001b[K’:\n",
            "\u001b[01m\u001b[Ksrc/Particles.cu:172:38:\u001b[m\u001b[K \u001b[01;35m\u001b[Kwarning: \u001b[m\u001b[K‘\u001b[01m\u001b[Kwptilde\u001b[m\u001b[K’ may be used uninitialized in this function [\u001b[01;35m\u001b[K-Wmaybe-uninitialized\u001b[m\u001b[K]\n",
            "             part->z[i] = zpt\u001b[01;35m\u001b[Kilde + wptilde*dt_sub_cycl\u001b[m\u001b[King;\n",
            "                             \u001b[01;35m\u001b[K~~~~~~~~~^~~~~~~~~~~~~~~~~\u001b[m\u001b[K\n",
            "\u001b[01m\u001b[Ksrc/Particles.cu:168:26:\u001b[m\u001b[K \u001b[01;35m\u001b[Kwarning: \u001b[m\u001b[K‘\u001b[01m\u001b[Kvptilde\u001b[m\u001b[K’ may be used uninitialized in this function [\u001b[01;35m\u001b[K-Wmaybe-uninitialized\u001b[m\u001b[K]\n",
            "             part->\u001b[01;35m\u001b[Kv[i]= 2.0*vptilde\u001b[m\u001b[K - part->v[i];\n",
            "                   \u001b[01;35m\u001b[K~~~~~~~^~~~~~~~~~\u001b[m\u001b[K\n",
            "\u001b[01m\u001b[Ksrc/Particles.cu:167:26:\u001b[m\u001b[K \u001b[01;35m\u001b[Kwarning: \u001b[m\u001b[K‘\u001b[01m\u001b[Kuptilde\u001b[m\u001b[K’ may be used uninitialized in this function [\u001b[01;35m\u001b[K-Wmaybe-uninitialized\u001b[m\u001b[K]\n",
            "             part->\u001b[01;35m\u001b[Ku[i]= 2.0*uptilde\u001b[m\u001b[K - part->u[i];\n",
            "                   \u001b[01;35m\u001b[K~~~~~~~^~~~~~~~~~\u001b[m\u001b[K\n",
            "nvcc -I./include -arch=sm_75 -std=c++11 -O3 -g -G -Xcompiler -Wall --compiler-bindir=g++ src/RW_IO.o src/Particles_aux.o src/InterpDensSpecies.o src/Timing.o src/ConfigFile.o src/InterpDensNet.o src/Grid.o src/Basic.o src/BC.o src/TransArraySpace3D.o src/EMfield_aux.o src/EMfield.o src/sputniPIC.o src/Particles.o -o bin/sputniPIC.out\n"
          ]
        }
      ]
    },
    {
      "cell_type": "code",
      "source": [
        "!./bin/sputniPIC.out inputfiles/GEM_2D.inp"
      ],
      "metadata": {
        "colab": {
          "base_uri": "https://localhost:8080/"
        },
        "id": "OT13zLA_LhNx",
        "outputId": "beb3323f-3d34-49d1-f319-614092b327ea"
      },
      "execution_count": 7,
      "outputs": [
        {
          "output_type": "stream",
          "name": "stdout",
          "text": [
            "\n",
            "-------------------------\n",
            "sputniPIC Sim. Parameters\n",
            "-------------------------\n",
            "Number of species    = 4\n",
            "Number of particles of species 0 = 4096000\t (MAX = 4096000)  QOM = -64\n",
            "Number of particles of species 1 = 4096000\t (MAX = 4096000)  QOM = 1\n",
            "Number of particles of species 2 = 4096000\t (MAX = 4096000)  QOM = -64\n",
            "Number of particles of species 3 = 4096000\t (MAX = 4096000)  QOM = 1\n",
            "x-Length                 = 40\n",
            "y-Length                 = 20\n",
            "z-Length                 = 1\n",
            "Number of cells (x)      = 256\n",
            "Number of cells (y)      = 128\n",
            "Number of cells (z)      = 1\n",
            "Time step                = 0.25\n",
            "Number of cycles         = 10\n",
            "Results saved in: data\n",
            "*************************************************\n",
            "**  Initialize GEM Challenge with Pertubation  **\n",
            "*************************************************\n",
            "** B0x = 0.0195\n",
            "** B0y = 0\n",
            "** B0z = 0\n",
            "** Delta (current sheet thickness) = 0.5\n",
            "** rho species 0 = 1 CURRENT SHEET \n",
            "** rho species 1 = 1 CURRENT SHEET \n",
            "** rho species 2 = 0.02 BACKGROUND \n",
            "** rho species 3 = 0.02 BACKGROUND \n",
            "*************************************************\n",
            "\n",
            "***********************\n",
            "   cycle = 1\n",
            "***********************\n",
            "***  MOVER with SUBCYCLYING 1 - species 0 ***\n",
            "***  MOVER with SUBCYCLYING 1 - species 1 ***\n",
            "***  MOVER with SUBCYCLYING 1 - species 2 ***\n",
            "***  MOVER with SUBCYCLYING 1 - species 3 ***\n",
            "\n",
            "***********************\n",
            "   cycle = 2\n",
            "***********************\n",
            "***  MOVER with SUBCYCLYING 1 - species 0 ***\n",
            "***  MOVER with SUBCYCLYING 1 - species 1 ***\n",
            "***  MOVER with SUBCYCLYING 1 - species 2 ***\n",
            "***  MOVER with SUBCYCLYING 1 - species 3 ***\n",
            "\n",
            "***********************\n",
            "   cycle = 3\n",
            "***********************\n",
            "***  MOVER with SUBCYCLYING 1 - species 0 ***\n",
            "***  MOVER with SUBCYCLYING 1 - species 1 ***\n",
            "***  MOVER with SUBCYCLYING 1 - species 2 ***\n",
            "***  MOVER with SUBCYCLYING 1 - species 3 ***\n",
            "\n",
            "***********************\n",
            "   cycle = 4\n",
            "***********************\n",
            "***  MOVER with SUBCYCLYING 1 - species 0 ***\n",
            "***  MOVER with SUBCYCLYING 1 - species 1 ***\n",
            "***  MOVER with SUBCYCLYING 1 - species 2 ***\n",
            "***  MOVER with SUBCYCLYING 1 - species 3 ***\n",
            "\n",
            "***********************\n",
            "   cycle = 5\n",
            "***********************\n",
            "***  MOVER with SUBCYCLYING 1 - species 0 ***\n",
            "***  MOVER with SUBCYCLYING 1 - species 1 ***\n",
            "***  MOVER with SUBCYCLYING 1 - species 2 ***\n",
            "***  MOVER with SUBCYCLYING 1 - species 3 ***\n",
            "\n",
            "***********************\n",
            "   cycle = 6\n",
            "***********************\n",
            "***  MOVER with SUBCYCLYING 1 - species 0 ***\n",
            "***  MOVER with SUBCYCLYING 1 - species 1 ***\n",
            "***  MOVER with SUBCYCLYING 1 - species 2 ***\n",
            "***  MOVER with SUBCYCLYING 1 - species 3 ***\n",
            "\n",
            "***********************\n",
            "   cycle = 7\n",
            "***********************\n",
            "***  MOVER with SUBCYCLYING 1 - species 0 ***\n",
            "***  MOVER with SUBCYCLYING 1 - species 1 ***\n",
            "***  MOVER with SUBCYCLYING 1 - species 2 ***\n",
            "***  MOVER with SUBCYCLYING 1 - species 3 ***\n",
            "\n",
            "***********************\n",
            "   cycle = 8\n",
            "***********************\n",
            "***  MOVER with SUBCYCLYING 1 - species 0 ***\n",
            "***  MOVER with SUBCYCLYING 1 - species 1 ***\n",
            "***  MOVER with SUBCYCLYING 1 - species 2 ***\n",
            "***  MOVER with SUBCYCLYING 1 - species 3 ***\n",
            "\n",
            "***********************\n",
            "   cycle = 9\n",
            "***********************\n",
            "***  MOVER with SUBCYCLYING 1 - species 0 ***\n",
            "***  MOVER with SUBCYCLYING 1 - species 1 ***\n",
            "***  MOVER with SUBCYCLYING 1 - species 2 ***\n",
            "***  MOVER with SUBCYCLYING 1 - species 3 ***\n",
            "\n",
            "***********************\n",
            "   cycle = 10\n",
            "***********************\n",
            "***  MOVER with SUBCYCLYING 1 - species 0 ***\n",
            "***  MOVER with SUBCYCLYING 1 - species 1 ***\n",
            "***  MOVER with SUBCYCLYING 1 - species 2 ***\n",
            "***  MOVER with SUBCYCLYING 1 - species 3 ***\n",
            "Opening file: ./data/E_10.vtk\n",
            "Opening file: ./data/B_10.vtk\n",
            "Opening file: ./data/rhoe_10.vtk\n",
            "Opening file: ./data/rhoi_10.vtk\n",
            "Opening file: ./data/rho_net_10.vtk\n",
            "\n",
            "**************************************\n",
            "   Tot. Simulation Time (s) = 51.5889\n",
            "   Mover Time / Cycle   (s) = 0.838036\n",
            "   Interp. Time / Cycle (s) = 3.94097\n",
            "**************************************\n"
          ]
        }
      ]
    },
    {
      "cell_type": "markdown",
      "source": [
        "**Debugging:**\n",
        "- https://stackoverflow.com/questions/70626304/how-to-debug-a-cuda-google-colab-notebook\n",
        "- https://stackoverflow.com/questions/14038589/what-is-the-canonical-way-to-check-for-errors-using-the-cuda-runtime-api\n",
        "- https://www.olcf.ornl.gov/calendar/cuda-debugging/\n",
        "- https://colab.research.google.com/drive/1GJOfTp56OeQRdE4u2_S7pUNRcJb4ik9X?usp=sharing"
      ],
      "metadata": {
        "id": "lu_knEH9X-Az"
      }
    },
    {
      "cell_type": "code",
      "source": [
        "!printf \"set cuda memcheck on\\nset cuda api_failures stop\\ncatch throw\\nr\\nbt\\ninfo locals\\nthread 1\\nbt\\n\" > ./tmp.txt\n",
        "!cuda-gdb -batch -x tmp.txt --args ./bin/sputniPIC.out inputfiles/GEM_2D.inp\n",
        "#!compute-sanitizer ./bin/sputniPIC.out inputfiles/GEM_2D.inp"
      ],
      "metadata": {
        "colab": {
          "base_uri": "https://localhost:8080/"
        },
        "id": "N_BPR8KYURSk",
        "outputId": "86475ad0-7b55-41df-fa3d-3dd79830c0ac"
      },
      "execution_count": 8,
      "outputs": [
        {
          "output_type": "stream",
          "name": "stdout",
          "text": [
            "Catchpoint 1 (throw)\n",
            "warning: Error disabling address space randomization: Operation not permitted\n",
            "[Thread debugging using libthread_db enabled]\n",
            "Using host libthread_db library \"/lib/x86_64-linux-gnu/libthread_db.so.1\".\n",
            "\n",
            "-------------------------\n",
            "sputniPIC Sim. Parameters\n",
            "-------------------------\n",
            "Number of species    = 4\n",
            "Number of particles of species 0 = 4096000\t (MAX = 4096000)  QOM = -64\n",
            "Number of particles of species 1 = 4096000\t (MAX = 4096000)  QOM = 1\n",
            "Number of particles of species 2 = 4096000\t (MAX = 4096000)  QOM = -64\n",
            "Number of particles of species 3 = 4096000\t (MAX = 4096000)  QOM = 1\n",
            "x-Length                 = 40\n",
            "y-Length                 = 20\n",
            "z-Length                 = 1\n",
            "Number of cells (x)      = 256\n",
            "Number of cells (y)      = 128\n",
            "Number of cells (z)      = 1\n",
            "Time step                = 0.25\n",
            "Number of cycles         = 10\n",
            "Results saved in: data\n",
            "*************************************************\n",
            "**  Initialize GEM Challenge with Pertubation  **\n",
            "*************************************************\n",
            "** B0x = 0.0195\n",
            "** B0y = 0\n",
            "** B0z = 0\n",
            "** Delta (current sheet thickness) = 0.5\n",
            "** rho species 0 = 1 CURRENT SHEET \n",
            "** rho species 1 = 1 CURRENT SHEET \n",
            "** rho species 2 = 0.02 BACKGROUND \n",
            "** rho species 3 = 0.02 BACKGROUND \n",
            "*************************************************\n",
            "\n",
            "***********************\n",
            "   cycle = 1\n",
            "***********************\n",
            "[Detaching after fork from child process 456]\n",
            "[New Thread 0x7f2416d26700 (LWP 460)]\n",
            "[New Thread 0x7f2416525700 (LWP 461)]\n",
            "***  MOVER with SUBCYCLYING 1 - species 0 ***\n",
            "***  MOVER with SUBCYCLYING 1 - species 1 ***\n",
            "***  MOVER with SUBCYCLYING 1 - species 2 ***\n",
            "***  MOVER with SUBCYCLYING 1 - species 3 ***\n",
            "\n",
            "***********************\n",
            "   cycle = 2\n",
            "***********************\n",
            "***  MOVER with SUBCYCLYING 1 - species 0 ***\n",
            "***  MOVER with SUBCYCLYING 1 - species 1 ***\n",
            "***  MOVER with SUBCYCLYING 1 - species 2 ***\n",
            "***  MOVER with SUBCYCLYING 1 - species 3 ***\n",
            "\n",
            "***********************\n",
            "   cycle = 3\n",
            "***********************\n",
            "***  MOVER with SUBCYCLYING 1 - species 0 ***\n",
            "***  MOVER with SUBCYCLYING 1 - species 1 ***\n",
            "***  MOVER with SUBCYCLYING 1 - species 2 ***\n",
            "***  MOVER with SUBCYCLYING 1 - species 3 ***\n",
            "\n",
            "***********************\n",
            "   cycle = 4\n",
            "***********************\n",
            "***  MOVER with SUBCYCLYING 1 - species 0 ***\n",
            "***  MOVER with SUBCYCLYING 1 - species 1 ***\n",
            "***  MOVER with SUBCYCLYING 1 - species 2 ***\n",
            "***  MOVER with SUBCYCLYING 1 - species 3 ***\n",
            "\n",
            "***********************\n",
            "   cycle = 5\n",
            "***********************\n",
            "***  MOVER with SUBCYCLYING 1 - species 0 ***\n",
            "***  MOVER with SUBCYCLYING 1 - species 1 ***\n",
            "***  MOVER with SUBCYCLYING 1 - species 2 ***\n",
            "***  MOVER with SUBCYCLYING 1 - species 3 ***\n",
            "\n",
            "***********************\n",
            "   cycle = 6\n",
            "***********************\n",
            "***  MOVER with SUBCYCLYING 1 - species 0 ***\n",
            "***  MOVER with SUBCYCLYING 1 - species 1 ***\n",
            "***  MOVER with SUBCYCLYING 1 - species 2 ***\n",
            "***  MOVER with SUBCYCLYING 1 - species 3 ***\n",
            "\n",
            "***********************\n",
            "   cycle = 7\n",
            "***********************\n",
            "***  MOVER with SUBCYCLYING 1 - species 0 ***\n",
            "***  MOVER with SUBCYCLYING 1 - species 1 ***\n",
            "***  MOVER with SUBCYCLYING 1 - species 2 ***\n",
            "***  MOVER with SUBCYCLYING 1 - species 3 ***\n",
            "\n",
            "***********************\n",
            "   cycle = 8\n",
            "***********************\n",
            "***  MOVER with SUBCYCLYING 1 - species 0 ***\n",
            "***  MOVER with SUBCYCLYING 1 - species 1 ***\n",
            "***  MOVER with SUBCYCLYING 1 - species 2 ***\n",
            "***  MOVER with SUBCYCLYING 1 - species 3 ***\n",
            "\n",
            "***********************\n",
            "   cycle = 9\n",
            "***********************\n",
            "***  MOVER with SUBCYCLYING 1 - species 0 ***\n",
            "***  MOVER with SUBCYCLYING 1 - species 1 ***\n",
            "***  MOVER with SUBCYCLYING 1 - species 2 ***\n",
            "***  MOVER with SUBCYCLYING 1 - species 3 ***\n",
            "\n",
            "***********************\n",
            "   cycle = 10\n",
            "***********************\n",
            "***  MOVER with SUBCYCLYING 1 - species 0 ***\n",
            "***  MOVER with SUBCYCLYING 1 - species 1 ***\n",
            "***  MOVER with SUBCYCLYING 1 - species 2 ***\n",
            "***  MOVER with SUBCYCLYING 1 - species 3 ***\n",
            "Opening file: ./data/E_10.vtk\n",
            "Opening file: ./data/B_10.vtk\n",
            "Opening file: ./data/rhoe_10.vtk\n",
            "Opening file: ./data/rhoi_10.vtk\n",
            "Opening file: ./data/rho_net_10.vtk\n",
            "\n",
            "**************************************\n",
            "   Tot. Simulation Time (s) = 401.78\n",
            "   Mover Time / Cycle   (s) = 35.9102\n",
            "   Interp. Time / Cycle (s) = 3.88806\n",
            "**************************************\n",
            "[Thread 0x7f2416d26700 (LWP 460) exited]\n",
            "[Thread 0x7f2420013000 (LWP 451) exited]\n",
            "[Inferior 1 (process 451) exited normally]\n",
            "tmp.txt:5: Error in sourced command file:\n",
            "No stack.\n"
          ]
        }
      ]
    }
  ]
}