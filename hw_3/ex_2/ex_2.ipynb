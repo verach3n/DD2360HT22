{
  "cells": [
    {
      "cell_type": "markdown",
      "metadata": {
        "id": "M9TzqVPHlpNU"
      },
      "source": [
        "## Preparation"
      ]
    },
    {
      "cell_type": "code",
      "execution_count": 1,
      "metadata": {
        "colab": {
          "base_uri": "https://localhost:8080/"
        },
        "id": "jV_y3Rzgkjmx",
        "outputId": "821e3698-b6a2-4e20-81f6-e4086b13d1a7"
      },
      "outputs": [
        {
          "output_type": "stream",
          "name": "stdout",
          "text": [
            "Mounted at /content/drive\n"
          ]
        }
      ],
      "source": [
        "from google.colab import drive\n",
        "drive.mount('/content/drive')"
      ]
    },
    {
      "cell_type": "code",
      "execution_count": 2,
      "metadata": {
        "colab": {
          "base_uri": "https://localhost:8080/"
        },
        "id": "f2U-J6k2ll-m",
        "outputId": "67b3d8e4-a8e6-4588-ebf4-376fd0089ef6"
      },
      "outputs": [
        {
          "output_type": "stream",
          "name": "stdout",
          "text": [
            "ex_1  ex_1.cu  ex_2  ex_2.cu  ex_3.cu  try  try.cu  vectorAdd  vectorAdd.cu\n"
          ]
        }
      ],
      "source": [
        "import os\n",
        "path = \"/content/drive/MyDrive/ColabNotebooks/DD2360/hw3_1\"\n",
        "os.chdir(path)\n",
        "!ls"
      ]
    },
    {
      "cell_type": "markdown",
      "metadata": {
        "id": "zuXRoaisl1wc"
      },
      "source": [
        "## Compiling and Execution"
      ]
    },
    {
      "cell_type": "code",
      "execution_count": 5,
      "metadata": {
        "id": "ntnEi_b7l2xm",
        "colab": {
          "base_uri": "https://localhost:8080/"
        },
        "outputId": "b119f922-d435-4bd2-d252-03cf27f1b183"
      },
      "outputs": [
        {
          "output_type": "stream",
          "name": "stdout",
          "text": [
            "ex_2.cu(41): warning: variable \"numBRows\" was set but never used\n",
            "\n",
            "ex_2.cu(43): warning: variable \"numCRows\" was set but never used\n",
            "\n",
            "ex_2.cu(44): warning: variable \"numCColumns\" was set but never used\n",
            "\n"
          ]
        }
      ],
      "source": [
        "!nvcc -arch=sm_75 ex_2.cu -o ex_2"
      ]
    },
    {
      "cell_type": "code",
      "execution_count": null,
      "metadata": {
        "colab": {
          "base_uri": "https://localhost:8080/"
        },
        "id": "UJCx0bBpl5m3",
        "outputId": "756214a6-455c-46cc-bbc9-44a089676369"
      },
      "outputs": [
        {
          "name": "stdout",
          "output_type": "stream",
          "text": [
            "Input matrix dim (128 x 128) (128 x 128) (128 x 128)\n",
            "Equal!\n",
            "Data copy from host to device time: 0.000123\n",
            "Kernel launching time: 0.000122\n",
            "Data copy from device to host time: 0.000113\n"
          ]
        }
      ],
      "source": [
        "!./ex_2 128 128 128"
      ]
    },
    {
      "cell_type": "code",
      "execution_count": null,
      "metadata": {
        "colab": {
          "base_uri": "https://localhost:8080/"
        },
        "id": "M5K0WoEvtFjr",
        "outputId": "4d799536-b402-4b6a-8c38-a5d21685af46"
      },
      "outputs": [
        {
          "name": "stdout",
          "output_type": "stream",
          "text": [
            "Input matrix dim (511 x 1023) (1023 x 4094) (511 x 4094)\n",
            "Equal!\n",
            "Data copy from host to device time: 0.009557\n",
            "Kernel launching time: 0.047570\n",
            "Data copy from device to host time: 0.010373\n"
          ]
        }
      ],
      "source": [
        "!./ex_2 511 1023 4094"
      ]
    },
    {
      "cell_type": "markdown",
      "metadata": {
        "id": "NsF4y1WTnDLP"
      },
      "source": [
        "## NVIDIA Nsight Systems for Profiling"
      ]
    },
    {
      "cell_type": "code",
      "execution_count": null,
      "metadata": {
        "colab": {
          "base_uri": "https://localhost:8080/"
        },
        "id": "d33zu-oSsSaz",
        "outputId": "ec9b7ca8-2f48-433b-8d1a-7ea0739e2234"
      },
      "outputs": [
        {
          "name": "stdout",
          "output_type": "stream",
          "text": [
            "Input matrix dim (128 x 128) (128 x 128) (128 x 128)\n",
            "==PROF== Connected to process 4106 (/content/drive/MyDrive/ColabNotebooks/DD2360/hw3_1/ex_2)\n",
            "==PROF== Profiling \"gemm\" - 1: 0%....50%....100% - 8 passes\n",
            "Equal!\n",
            "Data copy from host to device time: 0.000113\n",
            "Kernel launching time: 0.848985\n",
            "Data copy from device to host time: 0.000141\n",
            "==PROF== Disconnected from process 4106\n",
            "[4106] ex_2@127.0.0.1\n",
            "  gemm(double*, double*, double*, int, int, int, int), 2022-Dec-15 21:30:52, Context 1, Stream 7\n",
            "    Section: GPU Speed Of Light\n",
            "    ---------------------------------------------------------------------- --------------- ------------------------------\n",
            "    DRAM Frequency                                                           cycle/nsecond                           4.98\n",
            "    SM Frequency                                                             cycle/usecond                         583.43\n",
            "    Elapsed Cycles                                                                   cycle                         36,865\n",
            "    Memory [%]                                                                           %                          17.99\n",
            "    SOL DRAM                                                                             %                           2.36\n",
            "    Duration                                                                       usecond                          63.17\n",
            "    SOL L1/TEX Cache                                                                     %                          35.88\n",
            "    SOL L2 Cache                                                                         %                           3.42\n",
            "    SM Active Cycles                                                                 cycle                      28,650.25\n",
            "    SM [%]                                                                               %                          71.13\n",
            "    ---------------------------------------------------------------------- --------------- ------------------------------\n",
            "    WRN   Compute is more heavily utilized than Memory: Look at the Compute Workload Analysis report section to see     \n",
            "          what the compute pipelines are spending their time doing. Also, consider whether any computation is           \n",
            "          redundant and could be reduced or moved to look-up tables.                                                    \n",
            "\n",
            "    Section: Launch Statistics\n",
            "    ---------------------------------------------------------------------- --------------- ------------------------------\n",
            "    Block Size                                                                                                        256\n",
            "    Function Cache Configuration                                                                  cudaFuncCachePreferNone\n",
            "    Grid Size                                                                                                          64\n",
            "    Registers Per Thread                                                   register/thread                             62\n",
            "    Shared Memory Configuration Size                                                 Kbyte                          32.77\n",
            "    Driver Shared Memory Per Block                                              byte/block                              0\n",
            "    Dynamic Shared Memory Per Block                                             byte/block                              0\n",
            "    Static Shared Memory Per Block                                              byte/block                              0\n",
            "    Threads                                                                         thread                         16,384\n",
            "    Waves Per SM                                                                                                     0.40\n",
            "    ---------------------------------------------------------------------- --------------- ------------------------------\n",
            "    WRN   If you execute __syncthreads() to synchronize the threads of a block, it is recommended to have more than the \n",
            "          achieved 1 blocks per multiprocessor. This way, blocks that aren't waiting for __syncthreads() can keep the   \n",
            "          hardware busy.                                                                                                \n",
            "\n",
            "    Section: Occupancy\n",
            "    ---------------------------------------------------------------------- --------------- ------------------------------\n",
            "    Block Limit SM                                                                   block                             16\n",
            "    Block Limit Registers                                                            block                              4\n",
            "    Block Limit Shared Mem                                                           block                             16\n",
            "    Block Limit Warps                                                                block                              4\n",
            "    Theoretical Active Warps per SM                                                   warp                             32\n",
            "    Theoretical Occupancy                                                                %                            100\n",
            "    Achieved Occupancy                                                                   %                          42.80\n",
            "    Achieved Active Warps Per SM                                                      warp                          13.70\n",
            "    ---------------------------------------------------------------------- --------------- ------------------------------\n",
            "\n"
          ]
        }
      ],
      "source": [
        "!/usr/local/cuda-11/bin/nv-nsight-cu-cli ./ex_2 128 128 128"
      ]
    },
    {
      "cell_type": "code",
      "execution_count": null,
      "metadata": {
        "colab": {
          "base_uri": "https://localhost:8080/"
        },
        "id": "pe6wwWy7t3l2",
        "outputId": "134a4a13-dbf8-4688-eb7c-96b469ebedc0"
      },
      "outputs": [
        {
          "name": "stdout",
          "output_type": "stream",
          "text": [
            "Input matrix dim (511 x 1023) (1023 x 4094) (511 x 4094)\n",
            "==PROF== Connected to process 4187 (/content/drive/MyDrive/ColabNotebooks/DD2360/hw3_1/ex_2)\n",
            "==PROF== Profiling \"gemm\" - 1: 0%....50%....100% - 8 passes\n",
            "Equal!\n",
            "Data copy from host to device time: 0.009557\n",
            "Kernel launching time: 1.028793\n",
            "Data copy from device to host time: 0.010650\n",
            "==PROF== Disconnected from process 4187\n",
            "[4187] ex_2@127.0.0.1\n",
            "  gemm(double*, double*, double*, int, int, int, int), 2022-Dec-15 21:36:53, Context 1, Stream 7\n",
            "    Section: GPU Speed Of Light\n",
            "    ---------------------------------------------------------------------- --------------- ------------------------------\n",
            "    DRAM Frequency                                                           cycle/nsecond                           5.00\n",
            "    SM Frequency                                                             cycle/usecond                         584.98\n",
            "    Elapsed Cycles                                                                   cycle                     27,772,172\n",
            "    Memory [%]                                                                           %                          25.20\n",
            "    SOL DRAM                                                                             %                          11.50\n",
            "    Duration                                                                       msecond                          47.48\n",
            "    SOL L1/TEX Cache                                                                     %                          50.41\n",
            "    SOL L2 Cache                                                                         %                           5.73\n",
            "    SM Active Cycles                                                                 cycle                  27,708,070.85\n",
            "    SM [%]                                                                               %                          96.56\n",
            "    ---------------------------------------------------------------------- --------------- ------------------------------\n",
            "    OK    The kernel is utilizing greater than 80.0% of the available compute or memory performance of the device. To   \n",
            "          further improve performance, work will likely need to be shifted from the most utilized to another unit.      \n",
            "          Start by analyzing workloads in the Compute Workload Analysis section.                                        \n",
            "\n",
            "    Section: Launch Statistics\n",
            "    ---------------------------------------------------------------------- --------------- ------------------------------\n",
            "    Block Size                                                                                                        256\n",
            "    Function Cache Configuration                                                                  cudaFuncCachePreferNone\n",
            "    Grid Size                                                                                                       8,192\n",
            "    Registers Per Thread                                                   register/thread                             62\n",
            "    Shared Memory Configuration Size                                                 Kbyte                          32.77\n",
            "    Driver Shared Memory Per Block                                              byte/block                              0\n",
            "    Dynamic Shared Memory Per Block                                             byte/block                              0\n",
            "    Static Shared Memory Per Block                                              byte/block                              0\n",
            "    Threads                                                                         thread                      2,097,152\n",
            "    Waves Per SM                                                                                                    51.20\n",
            "    ---------------------------------------------------------------------- --------------- ------------------------------\n",
            "\n",
            "    Section: Occupancy\n",
            "    ---------------------------------------------------------------------- --------------- ------------------------------\n",
            "    Block Limit SM                                                                   block                             16\n",
            "    Block Limit Registers                                                            block                              4\n",
            "    Block Limit Shared Mem                                                           block                             16\n",
            "    Block Limit Warps                                                                block                              4\n",
            "    Theoretical Active Warps per SM                                                   warp                             32\n",
            "    Theoretical Occupancy                                                                %                            100\n",
            "    Achieved Occupancy                                                                   %                          99.20\n",
            "    Achieved Active Warps Per SM                                                      warp                          31.74\n",
            "    ---------------------------------------------------------------------- --------------- ------------------------------\n",
            "\n"
          ]
        }
      ],
      "source": [
        "!/usr/local/cuda-11/bin/nv-nsight-cu-cli ./ex_2 511 1023 4094"
      ]
    },
    {
      "cell_type": "markdown",
      "metadata": {
        "id": "oOxIkuJcujY0"
      },
      "source": [
        "## Stacked bar chart: double"
      ]
    },
    {
      "cell_type": "code",
      "execution_count": null,
      "metadata": {
        "colab": {
          "base_uri": "https://localhost:8080/"
        },
        "id": "o0r4C2KNupHo",
        "outputId": "4718381b-27f0-4b60-ea8e-06bf85b7d39f"
      },
      "outputs": [
        {
          "name": "stdout",
          "output_type": "stream",
          "text": [
            "Input matrix dim (600 x 1023) (1023 x 4100) (600 x 4100)\n",
            "Equal!\n",
            "Data copy from host to device time: 0.008338\n",
            "Kernel launching time: 0.055917\n",
            "Data copy from device to host time: 0.012827\n"
          ]
        }
      ],
      "source": [
        "!./ex_2 600 1023 4100"
      ]
    },
    {
      "cell_type": "code",
      "execution_count": null,
      "metadata": {
        "colab": {
          "base_uri": "https://localhost:8080/"
        },
        "id": "23KUIR4bwODV",
        "outputId": "3855c216-3a3f-4fc1-9f77-83bc0a5770ac"
      },
      "outputs": [
        {
          "name": "stdout",
          "output_type": "stream",
          "text": [
            "Input matrix dim (650 x 1023) (1023 x 4200) (650 x 4200)\n",
            "Equal!\n",
            "Data copy from host to device time: 0.008798\n",
            "Kernel launching time: 0.061965\n",
            "Data copy from device to host time: 0.014074\n"
          ]
        }
      ],
      "source": [
        "!./ex_2 650 1023 4200"
      ]
    },
    {
      "cell_type": "code",
      "execution_count": null,
      "metadata": {
        "colab": {
          "base_uri": "https://localhost:8080/"
        },
        "id": "mbgTPgHkwga2",
        "outputId": "afa1060b-44bf-41fa-f0fc-d72d744397a6"
      },
      "outputs": [
        {
          "name": "stdout",
          "output_type": "stream",
          "text": [
            "Input matrix dim (650 x 1023) (1023 x 4300) (650 x 4300)\n",
            "Equal!\n",
            "Data copy from host to device time: 0.008786\n",
            "Kernel launching time: 0.063341\n",
            "Data copy from device to host time: 0.014257\n"
          ]
        }
      ],
      "source": [
        "!./ex_2 650 1023 4300"
      ]
    },
    {
      "cell_type": "code",
      "execution_count": null,
      "metadata": {
        "colab": {
          "base_uri": "https://localhost:8080/"
        },
        "id": "Vz8tYzNjwzfT",
        "outputId": "198ce8a7-1540-43ba-91b0-9681f7bda952"
      },
      "outputs": [
        {
          "name": "stdout",
          "output_type": "stream",
          "text": [
            "Input matrix dim (700 x 1023) (1023 x 4250) (700 x 4250)\n",
            "Equal!\n",
            "Data copy from host to device time: 0.009160\n",
            "Kernel launching time: 0.067462\n",
            "Data copy from device to host time: 0.015201\n"
          ]
        }
      ],
      "source": [
        "!./ex_2 700 1023 4250"
      ]
    },
    {
      "cell_type": "code",
      "execution_count": null,
      "metadata": {
        "colab": {
          "base_uri": "https://localhost:8080/"
        },
        "id": "KQu9tYP-w9ED",
        "outputId": "8a034c49-3d3e-4391-abd1-8084a3bda7de"
      },
      "outputs": [
        {
          "name": "stdout",
          "output_type": "stream",
          "text": [
            "Input matrix dim (750 x 1023) (1023 x 4300) (750 x 4300)\n",
            "Equal!\n",
            "Data copy from host to device time: 0.008715\n",
            "Kernel launching time: 0.073116\n",
            "Data copy from device to host time: 0.016980\n"
          ]
        }
      ],
      "source": [
        "!./ex_2 750 1023 4300"
      ]
    },
    {
      "cell_type": "code",
      "execution_count": null,
      "metadata": {
        "colab": {
          "base_uri": "https://localhost:8080/"
        },
        "id": "f4n8m-R2xHBU",
        "outputId": "4a38b825-f03b-4b76-c9b4-3b05050de6f5"
      },
      "outputs": [
        {
          "name": "stdout",
          "output_type": "stream",
          "text": [
            "Input matrix dim (800 x 1023) (1023 x 4300) (800 x 4300)\n",
            "Equal!\n",
            "Data copy from host to device time: 0.008866\n",
            "Kernel launching time: 0.077931\n",
            "Data copy from device to host time: 0.018235\n"
          ]
        }
      ],
      "source": [
        "!./ex_2 800 1023 4300"
      ]
    },
    {
      "cell_type": "code",
      "execution_count": null,
      "metadata": {
        "colab": {
          "base_uri": "https://localhost:8080/"
        },
        "id": "62yv1IiFx1Yu",
        "outputId": "21734fd4-6f15-40d4-a8a6-b6f8e7a2a088"
      },
      "outputs": [
        {
          "name": "stdout",
          "output_type": "stream",
          "text": [
            "Input matrix dim (1000 x 1023) (1023 x 4350) (1000 x 4350)\n",
            "Equal!\n",
            "Data copy from host to device time: 0.009500\n",
            "Kernel launching time: 0.098499\n",
            "Data copy from device to host time: 0.023451\n"
          ]
        }
      ],
      "source": [
        "!./ex_2 1000 1023 4350"
      ]
    },
    {
      "cell_type": "code",
      "execution_count": null,
      "metadata": {
        "colab": {
          "base_uri": "https://localhost:8080/"
        },
        "id": "Gh5FyEqLyE-q",
        "outputId": "fcb93820-4da7-4b80-ef88-debc57ecf1a1"
      },
      "outputs": [
        {
          "name": "stdout",
          "output_type": "stream",
          "text": [
            "Input matrix dim (2000 x 1023) (1023 x 4350) (2000 x 4350)\n",
            "Equal!\n",
            "Data copy from host to device time: 0.011796\n",
            "Kernel launching time: 0.177772\n",
            "Data copy from device to host time: 0.044840\n"
          ]
        }
      ],
      "source": [
        "!./ex_2 2000 1023 4350"
      ]
    },
    {
      "cell_type": "code",
      "execution_count": null,
      "metadata": {
        "colab": {
          "base_uri": "https://localhost:8080/"
        },
        "id": "CdIX1a8HyRf2",
        "outputId": "ce3d28ca-ae59-4ebb-d771-4a3ae898f438"
      },
      "outputs": [
        {
          "name": "stdout",
          "output_type": "stream",
          "text": [
            "Input matrix dim (3000 x 1023) (1023 x 4350) (3000 x 4350)\n",
            "Equal!\n",
            "Data copy from host to device time: 0.014067\n",
            "Kernel launching time: 0.257940\n",
            "Data copy from device to host time: 0.066673\n"
          ]
        }
      ],
      "source": [
        "!./ex_2 3000 1023 4350"
      ]
    },
    {
      "cell_type": "code",
      "execution_count": null,
      "metadata": {
        "colab": {
          "base_uri": "https://localhost:8080/"
        },
        "id": "h24bNIjNzlRH",
        "outputId": "05e95fe5-45be-438b-dfbe-6a392767ecbe"
      },
      "outputs": [
        {
          "name": "stdout",
          "output_type": "stream",
          "text": [
            "Input matrix dim (4000 x 1023) (1023 x 4400) (4000 x 4400)\n",
            "Equal!\n",
            "Data copy from host to device time: 0.015862\n",
            "Kernel launching time: 0.320241\n",
            "Data copy from device to host time: 0.089935\n"
          ]
        }
      ],
      "source": [
        "!./ex_2 4000 1023 4400"
      ]
    },
    {
      "cell_type": "code",
      "execution_count": null,
      "metadata": {
        "colab": {
          "base_uri": "https://localhost:8080/",
          "height": 318
        },
        "id": "5_n5HrCyux2z",
        "outputId": "815621bc-7184-4ef9-fc16-1f1eb26f18a8"
      },
      "outputs": [
        {
          "data": {
            "image/png": "[encoded data removed]",
            "text/plain": [
              "<Figure size 432x288 with 1 Axes>"
            ]
          },
          "metadata": {},
          "output_type": "display_data"
        }
      ],
      "source": [
        "import numpy as np\n",
        "import matplotlib.pyplot as plt\n",
        "\n",
        "plt.title('Time breakdown of execution time')\n",
        "\n",
        "N = 10\n",
        "plt.xlabel('Output size')\n",
        "ind = np.arange(N)  #[ 0  1  2  3  4  5  6  7  8  9 ]\n",
        "plt.xticks(ind, ('600*4100', '650*4200', '650*4300', '700*4250', '750*4300', \n",
        "                 '800*4300', '1000*4350', '2000*4350', '3000*4350', '4000*4400'))\n",
        "\n",
        "plt.ylabel('Time(ms)')\n",
        "plt.yticks(np.arange(0, 500, 50))\n",
        "\n",
        "CtoG = (8.338, 8.798, 8.786, 9.160, 8.715, 8.866, 9.5, 11.796, 14.067, 15.862)\n",
        "Kernel = (55.917, 61.965, 63.341, 67.462, 73.116, 77.931, 98.499, 177.772, 257.94, 320.241)\n",
        "GtoC = (12.827, 14.074, 14.257, 15.201, 16.98, 18.235, 23.451, 44.84, 66.673, 89.935)\n",
        "\n",
        "d = []\n",
        "for i in range(0, len(CtoG)):\n",
        "    sum = CtoG[i] + Kernel[i]\n",
        "    d.append(sum)\n",
        "\n",
        "width = 0.5\n",
        "p1 = plt.bar(ind, CtoG, width, color='blue') \n",
        "p2 = plt.bar(ind, Kernel, width, bottom=CtoG,color='green')  \n",
        "p3 = plt.bar(ind, GtoC, width, bottom=d,color='red')\n",
        "\n",
        "plt.legend((p1[0], p2[0], p3[0]), ('CtoG', 'Kernel', 'GtoC'),loc = 3)\n",
        "plt.xticks(rotation=-25)\n",
        "plt.show()"
      ]
    },
    {
      "cell_type": "markdown",
      "metadata": {
        "id": "rklwHsT03hkJ"
      },
      "source": [
        "## Stacked bar chart: float"
      ]
    },
    {
      "cell_type": "code",
      "execution_count": 6,
      "metadata": {
        "colab": {
          "base_uri": "https://localhost:8080/"
        },
        "id": "ThhoBzOu3qHf",
        "outputId": "96b6cd52-6347-4ffa-bb4e-6e1bbe68bc70"
      },
      "outputs": [
        {
          "output_type": "stream",
          "name": "stdout",
          "text": [
            "Input matrix dim (600 x 1023) (1023 x 4100) (600 x 4100)\n",
            "Equal!\n",
            "Data copy from host to device time: 0.004201\n",
            "Kernel launching time: 0.017713\n",
            "Data copy from device to host time: 0.006209\n"
          ]
        }
      ],
      "source": [
        "!./ex_2 600 1023 4100"
      ]
    },
    {
      "cell_type": "code",
      "execution_count": 21,
      "metadata": {
        "colab": {
          "base_uri": "https://localhost:8080/"
        },
        "id": "lGnUuYKN3qHi",
        "outputId": "6866d6fa-1204-44ec-9b4d-be410f2c266d"
      },
      "outputs": [
        {
          "output_type": "stream",
          "name": "stdout",
          "text": [
            "Input matrix dim (650 x 1023) (1023 x 4200) (650 x 4200)\n",
            "Equal!\n",
            "Data copy from host to device time: 0.004309\n",
            "Kernel launching time: 0.019597\n",
            "Data copy from device to host time: 0.007618\n"
          ]
        }
      ],
      "source": [
        "!./ex_2 650 1023 4200"
      ]
    },
    {
      "cell_type": "code",
      "execution_count": 8,
      "metadata": {
        "colab": {
          "base_uri": "https://localhost:8080/"
        },
        "id": "MSkrO9nz3qHj",
        "outputId": "073ed94b-27fd-43cd-bdb7-028469787918"
      },
      "outputs": [
        {
          "output_type": "stream",
          "name": "stdout",
          "text": [
            "Input matrix dim (650 x 1023) (1023 x 4300) (650 x 4300)\n",
            "Equal!\n",
            "Data copy from host to device time: 0.004404\n",
            "Kernel launching time: 0.020118\n",
            "Data copy from device to host time: 0.007168\n"
          ]
        }
      ],
      "source": [
        "!./ex_2 650 1023 4300"
      ]
    },
    {
      "cell_type": "code",
      "execution_count": 9,
      "metadata": {
        "colab": {
          "base_uri": "https://localhost:8080/"
        },
        "id": "9LYzowFm3qHk",
        "outputId": "2271647d-6960-49fa-9a90-c5f7cbf01ff0"
      },
      "outputs": [
        {
          "output_type": "stream",
          "name": "stdout",
          "text": [
            "Input matrix dim (700 x 1023) (1023 x 4250) (700 x 4250)\n",
            "Equal!\n",
            "Data copy from host to device time: 0.004449\n",
            "Kernel launching time: 0.021470\n",
            "Data copy from device to host time: 0.007662\n"
          ]
        }
      ],
      "source": [
        "!./ex_2 700 1023 4250"
      ]
    },
    {
      "cell_type": "code",
      "execution_count": 18,
      "metadata": {
        "colab": {
          "base_uri": "https://localhost:8080/"
        },
        "id": "KjpCBzFr3qHk",
        "outputId": "c9fa7f16-8460-482f-f1c1-13dc6a965723"
      },
      "outputs": [
        {
          "output_type": "stream",
          "name": "stdout",
          "text": [
            "Input matrix dim (750 x 1023) (1023 x 4300) (750 x 4300)\n",
            "Equal!\n",
            "Data copy from host to device time: 0.004475\n",
            "Kernel launching time: 0.023232\n",
            "Data copy from device to host time: 0.008865\n"
          ]
        }
      ],
      "source": [
        "!./ex_2 750 1023 4300"
      ]
    },
    {
      "cell_type": "code",
      "execution_count": 20,
      "metadata": {
        "id": "PKGzyaXk3qHl",
        "colab": {
          "base_uri": "https://localhost:8080/"
        },
        "outputId": "92a178cb-d6f2-42f2-9f63-0c646ee966a0"
      },
      "outputs": [
        {
          "output_type": "stream",
          "name": "stdout",
          "text": [
            "Input matrix dim (800 x 1023) (1023 x 4300) (800 x 4300)\n",
            "Equal!\n",
            "Data copy from host to device time: 0.004505\n",
            "Kernel launching time: 0.024767\n",
            "Data copy from device to host time: 0.009330\n"
          ]
        }
      ],
      "source": [
        "!./ex_2 800 1023 4300"
      ]
    },
    {
      "cell_type": "code",
      "execution_count": 12,
      "metadata": {
        "id": "g1Wn8_Hf3qHl",
        "colab": {
          "base_uri": "https://localhost:8080/"
        },
        "outputId": "5c3a2ea9-bc71-46c9-9005-142b45924aa6"
      },
      "outputs": [
        {
          "output_type": "stream",
          "name": "stdout",
          "text": [
            "Input matrix dim (1000 x 1023) (1023 x 4350) (1000 x 4350)\n",
            "Equal!\n",
            "Data copy from host to device time: 0.004897\n",
            "Kernel launching time: 0.031483\n",
            "Data copy from device to host time: 0.011089\n"
          ]
        }
      ],
      "source": [
        "!./ex_2 1000 1023 4350"
      ]
    },
    {
      "cell_type": "code",
      "execution_count": 13,
      "metadata": {
        "id": "7_xncFzK3qHm",
        "colab": {
          "base_uri": "https://localhost:8080/"
        },
        "outputId": "f6b36119-dcc6-43ac-f5a9-88b325738240"
      },
      "outputs": [
        {
          "output_type": "stream",
          "name": "stdout",
          "text": [
            "Input matrix dim (2000 x 1023) (1023 x 4350) (2000 x 4350)\n",
            "Equal!\n",
            "Data copy from host to device time: 0.006566\n",
            "Kernel launching time: 0.062894\n",
            "Data copy from device to host time: 0.022300\n"
          ]
        }
      ],
      "source": [
        "!./ex_2 2000 1023 4350"
      ]
    },
    {
      "cell_type": "code",
      "execution_count": 14,
      "metadata": {
        "id": "6FNmmdZm3qHm",
        "colab": {
          "base_uri": "https://localhost:8080/"
        },
        "outputId": "4d63084f-f967-4eaa-8d95-02a10dcb231f"
      },
      "outputs": [
        {
          "output_type": "stream",
          "name": "stdout",
          "text": [
            "Input matrix dim (3000 x 1023) (1023 x 4350) (3000 x 4350)\n",
            "Equal!\n",
            "Data copy from host to device time: 0.006679\n",
            "Kernel launching time: 0.094193\n",
            "Data copy from device to host time: 0.033003\n"
          ]
        }
      ],
      "source": [
        "!./ex_2 3000 1023 4350"
      ]
    },
    {
      "cell_type": "code",
      "execution_count": 15,
      "metadata": {
        "id": "zvNEJnE63qHm",
        "colab": {
          "base_uri": "https://localhost:8080/"
        },
        "outputId": "887d11d3-d02b-4cf7-e6ec-4b5d2ba523a4"
      },
      "outputs": [
        {
          "output_type": "stream",
          "name": "stdout",
          "text": [
            "Input matrix dim (4000 x 1023) (1023 x 4400) (4000 x 4400)\n",
            "Equal!\n",
            "Data copy from host to device time: 0.007781\n",
            "Kernel launching time: 0.123980\n",
            "Data copy from device to host time: 0.044512\n"
          ]
        }
      ],
      "source": [
        "!./ex_2 4000 1023 4400"
      ]
    },
    {
      "cell_type": "code",
      "execution_count": 22,
      "metadata": {
        "id": "6kXiZkzx37sz",
        "colab": {
          "base_uri": "https://localhost:8080/",
          "height": 318
        },
        "outputId": "0d85e874-64a4-4416-bfa0-f5f78060a215"
      },
      "outputs": [
        {
          "output_type": "display_data",
          "data": {
            "text/plain": [
              "<Figure size 432x288 with 1 Axes>"
            ],
            "image/png": "[encoded data removed]"
          },
          "metadata": {
            "needs_background": "light"
          }
        }
      ],
      "source": [
        "import numpy as np\n",
        "import matplotlib.pyplot as plt\n",
        "\n",
        "plt.title('Time breakdown of execution time')\n",
        "\n",
        "N = 10\n",
        "plt.xlabel('Output size')\n",
        "ind = np.arange(N)  #[ 0  1  2  3  4  5  6  7  8  9 ]\n",
        "plt.xticks(ind, ('600*4100', '650*4200', '650*4300', '700*4250', '750*4300', \n",
        "                 '800*4300', '1000*4350', '2000*4350', '3000*4350', '4000*4400'))\n",
        "\n",
        "plt.ylabel('Time(ms)')\n",
        "plt.yticks(np.arange(0, 200, 50))\n",
        "\n",
        "CtoG = (4.201, 4.309, 4.404, 4.449, 4.475, 4.505, 4.897, 6.566, 6.679, 7.781)\n",
        "Kernel = (17.713, 19.597, 20.118, 21.470, 23.232, 24.767, 31.483, 62.894, 94.193, 123.98)\n",
        "GtoC = (6.209, 7.618, 7.168, 7.662, 8.865, 9.33, 11.089, 22.3, 33.003, 44.512)\n",
        "\n",
        "d = []\n",
        "for i in range(0, len(CtoG)):\n",
        "    sum = CtoG[i] + Kernel[i]\n",
        "    d.append(sum)\n",
        "\n",
        "width = 0.5\n",
        "p1 = plt.bar(ind, CtoG, width, color='blue') \n",
        "p2 = plt.bar(ind, Kernel, width, bottom=CtoG,color='green')  \n",
        "p3 = plt.bar(ind, GtoC, width, bottom=d,color='red')\n",
        "\n",
        "plt.legend((p1[0], p2[0], p3[0]), ('CtoG', 'Kernel', 'GtoC'),loc = 3)\n",
        "plt.xticks(rotation=-25)\n",
        "plt.show()"
      ]
    }
  ],
  "metadata": {
    "colab": {
      "provenance": []
    },
    "gpuClass": "standard",
    "kernelspec": {
      "display_name": "Python 3",
      "name": "python3"
    },
    "language_info": {
      "name": "python"
    }
  },
  "nbformat": 4,
  "nbformat_minor": 0
}